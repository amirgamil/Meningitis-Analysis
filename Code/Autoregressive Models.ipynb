{
 "cells": [
  {
   "cell_type": "code",
   "execution_count": 1,
   "metadata": {},
   "outputs": [
    {
     "data": {
      "text/plain": [
       "<Figure size 640x480 with 1 Axes>"
      ]
     },
     "metadata": {},
     "output_type": "display_data"
    },
    {
     "name": "stdout",
     "output_type": "stream",
     "text": [
      "Benin\n",
      "Statistics=8.803, p=0.012\n",
      "Sample does not look Gaussian (reject H0)\n"
     ]
    },
    {
     "data": {
      "text/plain": [
       "<Figure size 640x480 with 1 Axes>"
      ]
     },
     "metadata": {},
     "output_type": "display_data"
    },
    {
     "name": "stdout",
     "output_type": "stream",
     "text": [
      "Burkina Faso\n",
      "Statistics=33.110, p=0.000\n",
      "Sample does not look Gaussian (reject H0)\n"
     ]
    },
    {
     "data": {
      "text/plain": [
       "<Figure size 640x480 with 1 Axes>"
      ]
     },
     "metadata": {},
     "output_type": "display_data"
    },
    {
     "name": "stdout",
     "output_type": "stream",
     "text": [
      "Ivory Coast\n",
      "Statistics=88.425, p=0.000\n",
      "Sample does not look Gaussian (reject H0)\n"
     ]
    },
    {
     "data": {
      "text/plain": [
       "<Figure size 640x480 with 1 Axes>"
      ]
     },
     "metadata": {},
     "output_type": "display_data"
    },
    {
     "name": "stdout",
     "output_type": "stream",
     "text": [
      "Ghana\n",
      "Statistics=117.618, p=0.000\n",
      "Sample does not look Gaussian (reject H0)\n"
     ]
    },
    {
     "data": {
      "text/plain": [
       "<Figure size 640x480 with 1 Axes>"
      ]
     },
     "metadata": {},
     "output_type": "display_data"
    },
    {
     "name": "stdout",
     "output_type": "stream",
     "text": [
      "Mali\n",
      "Statistics=1.080, p=0.583\n",
      "Sample looks Gaussian (fail to reject H0)\n"
     ]
    },
    {
     "data": {
      "text/plain": [
       "<Figure size 640x480 with 1 Axes>"
      ]
     },
     "metadata": {},
     "output_type": "display_data"
    },
    {
     "name": "stdout",
     "output_type": "stream",
     "text": [
      "Mauritania\n",
      "Statistics=130.257, p=0.000\n",
      "Sample does not look Gaussian (reject H0)\n"
     ]
    },
    {
     "data": {
      "text/plain": [
       "<Figure size 640x480 with 1 Axes>"
      ]
     },
     "metadata": {},
     "output_type": "display_data"
    },
    {
     "name": "stdout",
     "output_type": "stream",
     "text": [
      "Nigeria\n",
      "Statistics=45.750, p=0.000\n",
      "Sample does not look Gaussian (reject H0)\n"
     ]
    },
    {
     "data": {
      "text/plain": [
       "<Figure size 640x480 with 1 Axes>"
      ]
     },
     "metadata": {},
     "output_type": "display_data"
    },
    {
     "name": "stdout",
     "output_type": "stream",
     "text": [
      "Senegal\n",
      "Statistics=5.775, p=0.056\n",
      "Sample looks Gaussian (fail to reject H0)\n"
     ]
    },
    {
     "data": {
      "text/plain": [
       "<Figure size 640x480 with 1 Axes>"
      ]
     },
     "metadata": {},
     "output_type": "display_data"
    },
    {
     "name": "stdout",
     "output_type": "stream",
     "text": [
      "Chad\n",
      "Statistics=67.856, p=0.000\n",
      "Sample does not look Gaussian (reject H0)\n"
     ]
    },
    {
     "data": {
      "text/plain": [
       "<Figure size 640x480 with 1 Axes>"
      ]
     },
     "metadata": {},
     "output_type": "display_data"
    },
    {
     "name": "stdout",
     "output_type": "stream",
     "text": [
      "Togo\n",
      "Statistics=102.898, p=0.000\n",
      "Sample does not look Gaussian (reject H0)\n"
     ]
    },
    {
     "data": {
      "text/plain": [
       "<Figure size 640x480 with 1 Axes>"
      ]
     },
     "metadata": {},
     "output_type": "display_data"
    },
    {
     "name": "stdout",
     "output_type": "stream",
     "text": [
      "Cameroun\n",
      "Statistics=9.514, p=0.009\n",
      "Sample does not look Gaussian (reject H0)\n"
     ]
    },
    {
     "data": {
      "text/plain": [
       "<Figure size 640x480 with 1 Axes>"
      ]
     },
     "metadata": {},
     "output_type": "display_data"
    },
    {
     "name": "stdout",
     "output_type": "stream",
     "text": [
      "Guinea\n",
      "Statistics=45.050, p=0.000\n",
      "Sample does not look Gaussian (reject H0)\n"
     ]
    },
    {
     "data": {
      "text/plain": [
       "<Figure size 640x480 with 1 Axes>"
      ]
     },
     "metadata": {},
     "output_type": "display_data"
    },
    {
     "name": "stdout",
     "output_type": "stream",
     "text": [
      "Sudan\n",
      "Statistics=13.657, p=0.001\n",
      "Sample does not look Gaussian (reject H0)\n"
     ]
    },
    {
     "data": {
      "text/plain": [
       "<Figure size 640x480 with 1 Axes>"
      ]
     },
     "metadata": {},
     "output_type": "display_data"
    },
    {
     "name": "stdout",
     "output_type": "stream",
     "text": [
      "Niger\n",
      "Statistics=103.552, p=0.000\n",
      "Sample does not look Gaussian (reject H0)\n"
     ]
    },
    {
     "data": {
      "text/plain": [
       "<Figure size 640x480 with 1 Axes>"
      ]
     },
     "metadata": {},
     "output_type": "display_data"
    },
    {
     "name": "stdout",
     "output_type": "stream",
     "text": [
      "Centrafrique\n",
      "Statistics=36.278, p=0.000\n",
      "Sample does not look Gaussian (reject H0)\n"
     ]
    },
    {
     "data": {
      "text/plain": [
       "<Figure size 640x480 with 1 Axes>"
      ]
     },
     "metadata": {},
     "output_type": "display_data"
    },
    {
     "name": "stdout",
     "output_type": "stream",
     "text": [
      "South Sudan\n",
      "Statistics=108.957, p=0.000\n",
      "Sample does not look Gaussian (reject H0)\n"
     ]
    },
    {
     "data": {
      "text/plain": [
       "<Figure size 640x480 with 1 Axes>"
      ]
     },
     "metadata": {},
     "output_type": "display_data"
    },
    {
     "name": "stdout",
     "output_type": "stream",
     "text": [
      "Gambia\n",
      "Statistics=60.517, p=0.000\n",
      "Sample does not look Gaussian (reject H0)\n"
     ]
    },
    {
     "data": {
      "text/plain": [
       "<Figure size 640x480 with 1 Axes>"
      ]
     },
     "metadata": {},
     "output_type": "display_data"
    },
    {
     "name": "stdout",
     "output_type": "stream",
     "text": [
      "Dem. Rep. Congo\n",
      "Statistics=5.683, p=0.058\n",
      "Sample looks Gaussian (fail to reject H0)\n"
     ]
    },
    {
     "data": {
      "text/plain": [
       "<Figure size 640x480 with 1 Axes>"
      ]
     },
     "metadata": {},
     "output_type": "display_data"
    },
    {
     "name": "stdout",
     "output_type": "stream",
     "text": [
      "Ethiopia\n",
      "Statistics=0.431, p=0.806\n",
      "Sample looks Gaussian (fail to reject H0)\n"
     ]
    },
    {
     "data": {
      "text/plain": [
       "<Figure size 640x480 with 1 Axes>"
      ]
     },
     "metadata": {},
     "output_type": "display_data"
    },
    {
     "name": "stdout",
     "output_type": "stream",
     "text": [
      "Tanzania\n",
      "Statistics=16.171, p=0.000\n",
      "Sample does not look Gaussian (reject H0)\n",
      "13\n",
      "19\n",
      "18\n",
      "10\n",
      "20\n",
      "21\n",
      "9\n",
      "{0: [11, 14, 12, 18, 15, 25, 20, 17, 24, 15, 20, 16, 17, 11, 9, 16, 15, 12, 14, 17, 20, 18, 16, 14, 17, 14, 65, 63, 37, 57, 44, 28, 9, 5, 7, 5, 8, 5, 6, 5, 11, 10, 9, 6, 7, 10, 11, 10, 8, 0, 5, 6, 9, 7, 12, 12, 6, 67, 46, 31, 74, 61, 59, 15, 23, 23, 26, 33, 52, 26, 15, 25, 14, 19, 28, 20, 23, 15, 19, 0, 21, 18, 28, 31, 85, 83, 84, 65, 71, 71, 16, 16, 22, 22, 15, 31, 31, 24, 29, 22, 31, 37, 40, 30, 16, 14, 15, 18, 27, 16, 23, 29, 25, 20, 92, 99, 66, 72, 117, 72, 13, 5, 10, 12, 14, 12, 11, 11, 10, 11, 4, 1, 13, 14, 6, 8, 2, 2, 5, 2, 9, 0, 8, 17, 11, 10, 6, 16, 20, 24, 0, 4, 8, 7, 8, 17, 15, 9, 20, 14, 13, 14, 17, 6, 3, 9, 3, 6, 7, 6, 7, 9, 3, 6, 6, 7, 3, 24, 19, 26, 19, 21, 55], 1: [88, 97, 100, 100, 99, 76, 127, 129, 141, 164, 186, 216, 197, 166, 163, 135, 104, 84, 66, 47, 45, 44, 27, 27, 34, 143, 155, 101, 140, 25, 118, 34, 50, 58, 76, 89, 104, 91, 86, 109, 138, 122, 91, 130, 121, 123, 117, 118, 90, 68, 56, 39, 27, 36, 19, 120, 112, 64, 140, 127, 216, 63, 61, 87, 98, 103, 135, 145, 191, 128, 136, 162, 105, 97, 100, 89, 83, 63, 40, 52, 39, 25, 35, 32, 22, 16, 26, 83, 65, 66, 81, 134, 40, 52, 80, 67, 59, 74, 102, 92, 104, 98, 85, 60, 48, 37, 31, 28, 41, 24, 22, 63, 124, 17, 119, 115, 121, 35, 61, 63, 60, 68, 70, 97, 71, 64, 59, 55, 67, 53, 60, 51, 38, 46, 31, 29, 27, 33, 38, 23, 103, 144, 160, 149, 173, 169, 40, 53, 54, 48, 100, 102, 96, 95, 115, 115, 114, 137, 137, 128, 90, 56, 59, 43, 49, 37, 4, 11, 3, 1, 0, 3, 3, 11, 15, 0, 34, 87], 5: [3, 8, 12, 10, 8, 25, 8, 7, 9, 5, 1, 10, 0, 1, 2, 5, 4, 2, 2, 3, 1, 4, 5, 13, 0, 6, 8, 4, 10, 1, 0, 6, 4, 5, 2, 1, 0, 2, 3, 0, 6, 8, 2, 7, 3, 1, 1, 3, 2, 4, 1, 19, 10, 9, 6, 52, 2, 4, 3, 5, 18, 32, 21, 26, 22, 13, 4, 5, 8, 2, 5, 4, 6, 1, 5, 3, 9, 14, 23, 13, 14, 15, 4, 2, 7, 1, 0, 4, 6, 6, 5, 8, 6, 10, 5, 3, 3, 2, 2, 6, 7, 4, 7, 51, 27, 19, 20, 11, 9, 7, 4, 3, 15, 5, 0, 9, 6, 5, 4, 4, 2, 13, 14, 6, 2, 3, 2, 7, 2, 1, 2, 3, 8, 11, 10, 148, 10, 15, 9, 6, 5, 3, 8, 7, 8, 3, 7, 5, 3, 3, 2, 4, 4, 1, 5, 2, 0, 1, 8, 5, 2, 0, 9], 7: [3, 16, 17, 16, 26, 10, 14, 36, 24, 33, 33, 23, 43, 20, 10, 7, 8, 6, 4, 10, 5, 6, 5, 6, 23, 10, 11, 4, 2, 9, 7, 9, 13, 20, 16, 12, 33, 20, 30, 5, 7, 4, 12, 14, 7, 2, 3, 2, 6, 8, 21, 3, 8, 24, 19, 27, 6, 26, 40, 73, 132, 212, 204, 271, 301, 258, 159, 146, 2, 16, 13, 11, 15, 9, 48, 11, 20, 20, 74, 57, 7, 25, 12, 20, 23, 52, 117, 31, 28, 67, 44, 54, 77, 52, 67, 65, 43, 40, 30, 18, 27, 25, 23, 10, 17, 12, 12, 13, 11, 14, 5, 7, 6, 38, 35, 13, 14, 29, 42, 10, 43, 82, 53, 45, 44, 52, 43, 28, 27, 44, 34, 31, 24, 15, 14, 15, 10, 11, 17, 11, 11, 9, 12, 16, 9, 36, 37, 17, 39, 41, 34], 12: [0, 1, 6, 7, 1, 4, 3, 2, 10, 15, 10, 26, 18, 9, 9, 19, 24, 16, 32, 33, 13, 4, 4, 5, 4, 4, 2, 2, 2, 8, 4, 5, 10, 11, 11, 17, 7, 13, 7, 9, 8, 10, 2, 13, 8, 4, 34, 36, 40, 81, 69, 44, 9, 16, 5, 17, 13, 10, 12, 23, 23, 34, 37, 23, 15, 33, 15, 12, 9, 8, 9, 10, 12, 5, 7, 36, 52, 49, 45, 53, 5, 12, 8, 7, 17, 10, 4, 4, 2, 3, 10, 14, 9, 9, 13, 9, 12, 8, 16, 14, 8, 53, 65, 39, 50, 59, 30, 10, 21, 19, 7, 17, 9, 20, 16, 19, 11, 18, 24, 18, 19, 11, 12, 8, 11, 17, 15, 6, 8, 28, 43, 55, 46, 7, 79, 48, 9, 7, 9, 10, 13, 23, 9, 13, 10, 11, 5, 21, 13, 9, 14, 25, 13, 9, 4, 16, 14, 11, 7, 5, 12, 12, 52, 58, 25, 76, 61, 44], 15: [0, 3, 1, 28, 39, 0, 12, 38, 50, 46, 0, 122, 91, 47, 119, 85, 101, 3, 14, 5, 5, 5, 6, 0, 6, 6, 9, 6, 18, 4, 9, 18, 0, 2, 10, 0, 0, 309, 134, 149, 208, 180, 79, 146, 80, 184, 143, 98, 4, 7, 7, 22, 3, 21, 15, 14, 16, 31, 24, 24, 65, 52, 43, 29, 25, 3, 11, 4, 9, 3, 5, 6, 8, 3, 44, 40, 27, 19, 33, 89, 153, 173, 499, 401, 660, 343, 128, 49, 42, 50, 41, 7, 10, 55, 41, 24, 23, 90, 125, 33, 72, 37, 87, 128, 210, 228, 166, 224, 255, 256, 365, 227, 70, 116, 13, 19, 20, 27, 7, 19, 16, 3, 45, 37, 62, 9, 52, 68, 8, 29, 31, 22, 21, 26, 30, 77, 60, 129, 98, 73, 66, 44, 59, 34, 47, 30, 27, 28, 9, 10, 10, 21, 12, 80, 75, 91, 120, 51, 34], 17: [3, 7, 2, 4, 5, 4, 7, 5, 10, 4, 7, 6, 8, 8, 3, 1, 2, 4, 7, 6, 5, 5, 7, 3, 1, 5, 23, 14, 9, 5, 1, 17, 2, 2, 5, 9, 3, 7, 2, 11, 8, 2, 4, 2, 2, 1, 2, 3, 2, 6, 2, 4, 7, 6, 9, 29, 11, 21, 13, 9, 7, 1, 4, 7, 8, 11, 16, 1, 9, 4, 5, 1, 7, 7, 3, 7, 5, 4, 9, 6, 7, 3, 5, 3, 4, 3, 2, 22, 27, 23, 10, 15, 11, 2, 5, 6, 4, 4, 3, 4, 5, 2, 1, 5, 6, 2, 9, 8, 8, 6, 7, 6, 8, 5, 4, 2, 3, 11, 13, 12, 12, 23, 9, 3, 10, 3, 11, 4, 6, 2, 1, 0, 9, 1, 1, 5, 6, 2, 7, 7, 2, 7, 0, 8, 11, 1, 3, 6, 2, 12, 27, 17, 47, 0, 0, 8, 9, 4, 20, 11, 11, 10, 15, 7, 14, 1, 12, 6, 10, 44, 39, 34, 34, 52], 22: [7, 6, 5, 11, 15, 10, 11, 5, 13, 10, 4, 1, 11, 1, 8, 9, 15, 15, 21, 8, 4, 5, 6, 1, 12, 3, 53, 12, 9, 7, 5, 17, 8, 7, 6, 4, 5, 5, 5, 5, 2, 8, 7, 8, 12, 14, 14, 8, 9, 8, 6, 7, 0, 3, 2, 4, 7, 4, 12, 19, 7, 11, 26, 24, 4, 13, 6, 9, 7, 4, 9, 9, 11, 14, 20, 13, 13, 16, 21, 20, 8, 8, 7, 6, 11, 5, 7, 6, 6, 5, 25, 20, 9, 10, 20, 28, 6, 17, 15, 29, 36, 46, 67, 78, 41, 75, 67, 56, 36, 23, 16, 12, 9, 15, 7, 5, 10, 8, 6, 6, 2, 16, 16, 18, 35, 38, 34], 23: [7, 9, 5, 7, 11, 16, 12, 24, 19, 18, 14, 20, 11, 7, 3, 10, 10, 6, 4, 4, 5, 14, 6, 12, 10, 19, 16, 2, 5, 6, 10, 7, 5, 5, 2, 8, 9, 1, 5, 5, 7, 1, 3, 3, 3, 3, 4, 5, 30, 17, 12, 20, 22, 9, 7, 14, 29, 52, 99, 107, 61, 169, 150, 201, 117, 87, 70, 25, 48, 45, 15, 4, 5, 1, 11, 3, 3, 1, 0, 0, 0, 1, 6, 1, 12, 21, 23, 11, 25, 41, 22, 35, 53, 42, 26, 38, 23, 16, 6, 5, 4, 4, 0, 3, 7, 6, 2, 10, 0, 14, 6, 25, 16, 7, 18, 18, 16, 17, 25, 5, 9, 7, 1, 1, 8, 4, 3, 5, 3, 1, 1, 6, 4, 3, 2, 8, 1, 5, 12, 35, 30, 16, 44, 64, 13, 12, 12, 11, 11, 13, 8, 22, 43, 49, 48, 46, 45, 27, 7, 13, 6, 7, 8, 10, 6, 10, 14, 13, 38, 41, 21, 31, 16, 30], 3: [10, 13, 16, 24, 24, 23, 27, 11, 9, 9, 118, 68, 21, 17, 58, 26, 18, 31, 27, 32, 12, 15, 23, 23, 31, 20, 13, 28, 29, 109, 93, 54, 120, 155, 15, 27, 16, 2, 15, 27, 26, 15, 15, 9, 24, 19, 9, 90, 36, 71, 18, 33, 15, 54, 20, 29, 45, 36, 23, 80, 61, 35, 78, 22, 28, 24, 15, 29, 13, 18, 15, 24, 23, 17, 24, 24, 17, 20, 65, 50, 17, 36, 54, 5, 14, 15, 13, 19, 22, 12, 22, 16, 12, 13, 22, 11, 9, 93], 8: [4, 4, 3, 0, 0, 5, 13, 22, 54, 67, 52, 26, 30, 21, 14, 12, 8, 2, 4, 1, 2, 4, 6, 3, 9, 1, 3, 0, 1, 1, 4, 1, 3, 7, 8, 19, 10, 15, 22, 23, 11, 16, 9, 12, 3, 6, 5, 3, 0, 0, 0, 1, 1, 5, 9, 6, 13, 4, 3, 1, 2, 3, 5, 12, 5, 3, 3, 0, 2, 2, 0, 1, 18, 10, 19, 18, 9, 13, 6, 2, 8, 13, 7, 9, 4, 6, 6, 2, 3, 8, 7, 6, 2, 7, 52, 42, 37, 88, 150, 44, 8, 6, 2, 9, 8, 12, 11, 5, 10, 14, 13, 7, 12, 13, 6, 6, 1, 7, 3, 2, 7, 10, 18, 18, 28, 25, 4, 6, 5, 1, 7, 4, 11, 12, 11, 14, 16, 11, 15, 13, 17, 5, 9, 10, 12, 5, 4, 6, 8, 8, 34, 22, 25, 54, 29, 33], 14: [0, 10, 17, 0, 9, 13, 10, 10, 16, 2, 6, 1, 0, 0, 67, 4, 11, 10, 12, 12, 3, 3, 1, 1, 2, 7, 15, 26, 15, 14, 34, 88, 101, 114, 177, 437, 871, 1708, 2177, 1041, 21, 11, 18, 6, 0, 2, 7, 34, 5, 24, 35, 49, 68, 86, 112, 135, 164, 128, 92, 45, 66, 67, 31, 42, 25, 11, 8, 2, 3, 1, 2, 8, 4, 5, 2, 10, 22, 8, 22, 16, 29, 44, 96, 130, 137, 181, 355, 343, 304, 239, 236, 198, 39, 9, 4, 2, 1, 0, 0, 6, 12, 86, 9, 16, 0, 20, 14, 8, 15, 25, 21, 14, 27, 47, 85, 177, 147, 118, 69, 26, 19, 10, 16, 9, 5, 4, 7, 22, 24, 6, 0, 16, 32, 0, 4, 14, 16, 9, 31, 34, 30, 57, 39, 41, 44, 34, 28, 29, 17, 6, 10, 9, 6, 11, 13, 11, 7, 9, 17], 4: [2, 1, 2, 2, 1, 0, 0, 0, 0, 1, 3, 0, 0, 5, 0, 1, 1, 2, 3, 0, 3, 1, 0, 2, 5, 4, 0, 0, 0, 0, 0, 3, 2, 0, 2, 40, 4, 1, 2, 8, 17, 7, 0, 10, 15, 0, 0, 0, 5, 1, 4, 0, 2, 1, 3, 4, 1, 0, 4, 11, 6, 11, 10, 6, 10, 3, 1, 0, 0, 0, 0, 0, 0, 1, 0, 0, 0, 0, 68, 13, 5, 9, 11, 5, 6, 0, 7, 0, 1, 0, 4, 1, 0, 0, 0, 0, 1, 2, 0, 9, 8, 0, 65, 4, 5, 4, 1, 3, 3, 12, 0, 31, 20, 6, 8, 6, 5, 14, 4, 12, 6, 5, 2, 4, 4, 1, 6, 26, 25, 17, 11, 13], 16: [173, 144, 199, 217, 172, 191, 123, 666, 131, 826, 732, 336, 163, 188, 292, 174, 165, 179, 110, 142, 101, 111, 153, 661, 83, 382, 197, 390, 210, 213, 150, 173, 159, 200, 116, 254, 446, 750, 151, 112, 142, 118, 170, 155, 117, 132, 602, 790, 168, 588, 145, 139, 116, 193, 153, 498, 146, 156, 170, 160, 156, 160, 143, 107, 85, 285, 415, 148, 155, 141, 177, 97, 115, 109, 150, 142, 139, 103, 144, 120, 119, 530, 701, 394, 808, 509], 6: [31, 86, 7, 16, 22, 20, 33, 20, 21, 21, 22, 21, 46, 35, 41, 27, 17, 25, 30, 25, 25, 20, 23, 30, 23, 26, 9, 64, 105, 49, 81, 131, 184, 38, 33, 28, 30, 42, 36, 43, 30, 52, 45, 41, 38, 31, 25, 29, 36, 39, 28, 38, 19, 26, 25, 16, 38, 131, 148, 191], 11: [14, 3, 7, 11, 5, 10, 12, 5, 12, 12, 14, 14, 1, 4, 7, 0, 2, 21, 10, 2, 2, 15, 9, 2, 5, 1, 4, 5, 3, 2, 2, 5, 21, 0], 24: [7, 13, 0, 5, 0, 0, 0, 1, 16, 18, 11, 7, 6, 4, 10, 7, 4, 5, 31], 2: [6, 0, 4, 8, 0, 2, 3, 0, 11, 10, 11, 10, 0, 7, 8, 0, 32, 58, 38, 48, 49, 6]}\n",
      "Benin  :  183\n",
      "Burkina Faso  :  178\n",
      "Ivory Coast  :  163\n",
      "Ghana  :  151\n",
      "Mali  :  168\n",
      "Nigeria  :  159\n",
      "Senegal  :  174\n",
      "Chad  :  127\n",
      "Togo  :  174\n",
      "Cameroun  :  98\n",
      "Guinea  :  156\n",
      "Niger  :  159\n",
      "Centrafrique  :  132\n",
      "Dem. Rep. Congo  :  86\n",
      "Ethiopia  :  60\n",
      "Kenya  :  34\n",
      "Uganda  :  19\n",
      "Burundi  :  22\n"
     ]
    }
   ],
   "source": [
    "%run data_preprocessing.ipynb"
   ]
  },
  {
   "cell_type": "code",
   "execution_count": 40,
   "metadata": {},
   "outputs": [],
   "source": [
    "import numpy as np\n",
    "import pandas as pd\n",
    "from matplotlib import pyplot as plt\n",
    "from statsmodels.tsa.stattools import adfuller\n",
    "from statsmodels.tsa.seasonal import seasonal_decompose\n",
    "from statsmodels.tsa.arima_model import ARIMA\n",
    "from statsmodels.graphics.tsaplots import plot_acf\n",
    "from statsmodels.graphics.tsaplots import plot_pacf\n",
    "from pandas.plotting import register_matplotlib_converters\n",
    "from statsmodels.tsa.stattools import adfuller"
   ]
  },
  {
   "cell_type": "code",
   "execution_count": 14,
   "metadata": {},
   "outputs": [
    {
     "data": {
      "text/html": [
       "<div>\n",
       "<style scoped>\n",
       "    .dataframe tbody tr th:only-of-type {\n",
       "        vertical-align: middle;\n",
       "    }\n",
       "\n",
       "    .dataframe tbody tr th {\n",
       "        vertical-align: top;\n",
       "    }\n",
       "\n",
       "    .dataframe thead th {\n",
       "        text-align: right;\n",
       "    }\n",
       "</style>\n",
       "<table border=\"1\" class=\"dataframe\">\n",
       "  <thead>\n",
       "    <tr style=\"text-align: right;\">\n",
       "      <th></th>\n",
       "      <th>Country</th>\n",
       "      <th>Cases</th>\n",
       "      <th>Deaths</th>\n",
       "      <th>Summary</th>\n",
       "    </tr>\n",
       "    <tr>\n",
       "      <th>Date</th>\n",
       "      <th></th>\n",
       "      <th></th>\n",
       "      <th></th>\n",
       "      <th></th>\n",
       "    </tr>\n",
       "  </thead>\n",
       "  <tbody>\n",
       "    <tr>\n",
       "      <td>2014-01-01</td>\n",
       "      <td>Benin</td>\n",
       "      <td>11</td>\n",
       "      <td>0.0</td>\n",
       "      <td>Two districts crossed the alert threshold at t...</td>\n",
       "    </tr>\n",
       "    <tr>\n",
       "      <td>2014-01-01</td>\n",
       "      <td>Burkina Faso</td>\n",
       "      <td>88</td>\n",
       "      <td>13.0</td>\n",
       "      <td>Two districts crossed the alert threshold at t...</td>\n",
       "    </tr>\n",
       "    <tr>\n",
       "      <td>2014-01-01</td>\n",
       "      <td>Ivory Coast</td>\n",
       "      <td>3</td>\n",
       "      <td>2.0</td>\n",
       "      <td>Two districts crossed the alert threshold at t...</td>\n",
       "    </tr>\n",
       "    <tr>\n",
       "      <td>2014-01-01</td>\n",
       "      <td>Ghana</td>\n",
       "      <td>3</td>\n",
       "      <td>0.0</td>\n",
       "      <td>Two districts crossed the alert threshold at t...</td>\n",
       "    </tr>\n",
       "    <tr>\n",
       "      <td>2014-01-01</td>\n",
       "      <td>Mali</td>\n",
       "      <td>0</td>\n",
       "      <td>0.0</td>\n",
       "      <td>Two districts crossed the alert threshold at t...</td>\n",
       "    </tr>\n",
       "  </tbody>\n",
       "</table>\n",
       "</div>"
      ],
      "text/plain": [
       "                 Country  Cases  Deaths  \\\n",
       "Date                                      \n",
       "2014-01-01         Benin     11     0.0   \n",
       "2014-01-01  Burkina Faso     88    13.0   \n",
       "2014-01-01   Ivory Coast      3     2.0   \n",
       "2014-01-01         Ghana      3     0.0   \n",
       "2014-01-01          Mali      0     0.0   \n",
       "\n",
       "                                                      Summary  \n",
       "Date                                                           \n",
       "2014-01-01  Two districts crossed the alert threshold at t...  \n",
       "2014-01-01  Two districts crossed the alert threshold at t...  \n",
       "2014-01-01  Two districts crossed the alert threshold at t...  \n",
       "2014-01-01  Two districts crossed the alert threshold at t...  \n",
       "2014-01-01  Two districts crossed the alert threshold at t...  "
      ]
     },
     "execution_count": 14,
     "metadata": {},
     "output_type": "execute_result"
    }
   ],
   "source": [
    "data = pd.read_csv(\"../Current_Data/New_data_updated_names.csv\", usecols=['Country','Date','Cases','Deaths','Summary'], \n",
    "                  parse_dates=[\"Date\"], index_col=\"Date\",header = 0)\n",
    "data.head()"
   ]
  },
  {
   "cell_type": "code",
   "execution_count": 19,
   "metadata": {},
   "outputs": [
    {
     "data": {
      "image/png": "[encoded data removed]",
      "text/plain": [
       "<Figure size 432x288 with 1 Axes>"
      ]
     },
     "metadata": {
      "needs_background": "light"
     },
     "output_type": "display_data"
    }
   ],
   "source": [
    "#Start by looking at Burkina Faso\n",
    "burkina_faso = data.loc[data[\"Country\"] == \"Burkina Faso\"]\n",
    "burkina_faso = burkina_faso.drop(columns=[\"Country\", \"Deaths\", \"Summary\"])\n",
    "plt.ylabel(\"Cases\")\n",
    "plt.xlabel(\"Time\")\n",
    "plt.plot(burkina_faso, color = 'blue', label = 'Original')\n",
    "rolling_mean = burkina_faso.rolling(window=12).mean()\n",
    "rolling_std = burkina_faso.rolling(window=12).std()\n",
    "plt.plot(rolling_mean, color = 'red', label = 'Rolling Mean')\n",
    "plt.plot(rolling_std, color = 'black', label = 'Rolling Std')\n",
    "plt.legend(loc = 'best')\n",
    "plt.title('Rolling Mean & Rolling Standard Deviation')\n",
    "plt.show()\n"
   ]
  },
  {
   "cell_type": "markdown",
   "metadata": {},
   "source": [
    "We can see that the current data is not stationary (the mean and std is not constant throughout the time), so we will have to apply a transform to make the mean std and constant. We will start with the difference method (subtract each value from the previous timestep) and see whether that makes the data stationary."
   ]
  },
  {
   "cell_type": "code",
   "execution_count": 52,
   "metadata": {},
   "outputs": [
    {
     "name": "stdout",
     "output_type": "stream",
     "text": [
      "ADF Statistic: -7.301967\n",
      "p-value: 0.000000\n",
      "Critical Values:\n",
      "\t1%: -3.469\n",
      "\t5%: -2.879\n",
      "\t10%: -2.576\n",
      "Date\n",
      "2014-01-06     9\n",
      "2014-01-13     3\n",
      "2014-01-20     0\n",
      "2014-01-27    -1\n",
      "2014-02-03   -23\n",
      "              ..\n",
      "2019-08-15     8\n",
      "2019-09-16     4\n",
      "2019-10-16   -15\n",
      "2019-11-18    34\n",
      "2019-12-16    53\n",
      "Length: 177, dtype: int64\n"
     ]
    }
   ],
   "source": [
    "def difference(dataset):\n",
    "    diff = list()\n",
    "    for i in range(1, len(dataset)):\n",
    "        value = dataset[i] - dataset[i - 1]\n",
    "        diff.append(value[0])\n",
    "    return pd.Series(diff)\n",
    "\n",
    "X = burkina_faso.values\n",
    "#difference data\n",
    "stationary_data = difference(X)\n",
    "stationary_data.index = burkina_faso.index[1:]\n",
    "result = adfuller(stationary_data)\n",
    "print('ADF Statistic: %f' % result[0])\n",
    "print('p-value: %f' % result[1])\n",
    "print('Critical Values:')\n",
    "for key, value in result[4].items():\n",
    "    print('\\t%s: %.3f' % (key, value))\n",
    "\n",
    "print(stationary_data)"
   ]
  },
  {
   "cell_type": "markdown",
   "metadata": {},
   "source": [
    "Since the statistic is much smaller than the critical values, we can reject the null hypothesis with high confidence and assume that the data is now stationary."
   ]
  },
  {
   "cell_type": "code",
   "execution_count": 53,
   "metadata": {},
   "outputs": [
    {
     "name": "stderr",
     "output_type": "stream",
     "text": [
      "/opt/anaconda3/lib/python3.7/site-packages/ipykernel_launcher.py:1: RuntimeWarning: divide by zero encountered in log\n",
      "  \"\"\"Entry point for launching an IPython kernel.\n"
     ]
    },
    {
     "data": {
      "image/png": "[encoded data removed]",
      "text/plain": [
       "<Figure size 432x288 with 1 Axes>"
      ]
     },
     "metadata": {
      "needs_background": "light"
     },
     "output_type": "display_data"
    }
   ],
   "source": [
    "df_log = np.log(burkina_faso)\n",
    "#Plotting a Autocorrelation function and Partial Autocorrelation Function to determine which previous timesteps \n",
    "# most significantly affect the current timestep\n",
    "plt.figure()\n",
    "plt.subplot(211)\n",
    "plot_acf(stationary_data, ax=plt.gca())\n",
    "plt.show()"
   ]
  },
  {
   "cell_type": "markdown",
   "metadata": {},
   "source": [
    "The ACF plot shows that adjacent data points are in general very highly correlated. This means that a) using the most recent datapoints will allow the model to produce the best predictions and b) for the future, the model will be able to produce the best accuracy for a prediction no more than 5 weeks in the future. After that correlation between datapoints becomes almost insignificant"
   ]
  },
  {
   "cell_type": "code",
   "execution_count": 55,
   "metadata": {},
   "outputs": [
    {
     "data": {
      "image/png": "[encoded data removed]",
      "text/plain": [
       "<Figure size 432x288 with 1 Axes>"
      ]
     },
     "execution_count": 55,
     "metadata": {},
     "output_type": "execute_result"
    },
    {
     "data": {
      "image/png": "[encoded data removed]",
      "text/plain": [
       "<Figure size 432x288 with 1 Axes>"
      ]
     },
     "metadata": {
      "needs_background": "light"
     },
     "output_type": "display_data"
    }
   ],
   "source": [
    "#Visualizing results of the Partial autocorrelation function (removes influence of future timesteps on current timesteps)\n",
    "plt.subplot(211)\n",
    "plot_pacf(burkina_faso, ax=plt.gca())"
   ]
  },
  {
   "cell_type": "markdown",
   "metadata": {},
   "source": [
    "The PACF plot confirms some of the trends in the ACF plot in that adjacent datapoints are highly correlated. Recall that PACF measures the direct correlation between two points (between an observation and its lag) while ACF measures all of the direct and indirect correlations (e.g. t might be affected by t-1 but t-1 is also affected by t-2). However there also seem to be some correlation between datapoints that are five or six weeks apart. It seems like an Autoregressive model of third order would a good starting point for measuring its performance\n",
    "\n",
    "Below, I will look at monthly correlation data to see if the noise added from differences in temporal time axes (i.e. weekly in beginning of year and monthly near the end) make a difference"
   ]
  },
  {
   "cell_type": "code",
   "execution_count": 56,
   "metadata": {},
   "outputs": [
    {
     "data": {
      "image/png": "[encoded data removed]",
      "text/plain": [
       "<Figure size 432x288 with 1 Axes>"
      ]
     },
     "metadata": {
      "needs_background": "light"
     },
     "output_type": "display_data"
    }
   ],
   "source": [
    "data_month = pd.read_csv(\"../Current_Data/Month_data.csv\", usecols=['Country','Date','Cases','Deaths','Summary'], \n",
    "                  parse_dates=[\"Date\"], index_col=\"Date\",header = 0)\n",
    "burkina_faso_month = data_month.loc[data_month[\"Country\"] == 1]\n",
    "burkina_faso_month = burkina_faso_month.drop(columns=[\"Country\", \"Deaths\", \"Summary\"])\n",
    "plt.ylabel(\"Cases\")\n",
    "plt.xlabel(\"Time\")\n",
    "plt.plot(burkina_faso_month, color = 'blue', label = 'Original')\n",
    "rolling_mean = burkina_faso_month.rolling(window=12).mean()\n",
    "rolling_std = burkina_faso_month.rolling(window=12).std()\n",
    "plt.plot(rolling_mean, color = 'red', label = 'Rolling Mean')\n",
    "plt.plot(rolling_std, color = 'black', label = 'Rolling Std')\n",
    "plt.legend(loc = 'best')\n",
    "plt.title('Rolling Mean & Rolling Standard Deviation')\n",
    "plt.show()\n",
    "\n",
    "X_month = burkina_faso_month.values\n",
    "#difference data\n",
    "stationary_data_month = difference(X_month)"
   ]
  },
  {
   "cell_type": "code",
   "execution_count": 57,
   "metadata": {},
   "outputs": [
    {
     "data": {
      "image/png": "[encoded data removed]",
      "text/plain": [
       "<Figure size 432x288 with 1 Axes>"
      ]
     },
     "execution_count": 57,
     "metadata": {},
     "output_type": "execute_result"
    },
    {
     "data": {
      "image/png": "[encoded data removed]",
      "text/plain": [
       "<Figure size 432x288 with 1 Axes>"
      ]
     },
     "metadata": {
      "needs_background": "light"
     },
     "output_type": "display_data"
    }
   ],
   "source": [
    "plt.figure()\n",
    "plt.subplot(211)\n",
    "plot_acf(stationary_data_month, ax=plt.gca())"
   ]
  },
  {
   "cell_type": "code",
   "execution_count": 58,
   "metadata": {},
   "outputs": [
    {
     "data": {
      "image/png": "[encoded data removed]",
      "text/plain": [
       "<Figure size 432x288 with 1 Axes>"
      ]
     },
     "metadata": {
      "needs_background": "light"
     },
     "output_type": "display_data"
    }
   ],
   "source": [
    "plt.subplot(212)\n",
    "plot_pacf(stationary_data_month, ax=plt.gca())\n",
    "plt.show()"
   ]
  },
  {
   "cell_type": "markdown",
   "metadata": {},
   "source": [
    "There doesn't seem to be a large difference, so we will move forward and test the ARIMA model on the initial data. An ARIMA model takes 3 parameters \n",
    "1. p the number of autoregressive terms (the number of previous terms used to predict the current term) \n",
    "i.e. p = 1 would be $y_{t}$ = $B_{0}$ + $B_{1}$$x_{t-1}$\n",
    "2. d the number of nonseasonal differences needed for stationarity (given that we only used the previous term\n",
    "to ensure the data was stationary, this would be 1)\n",
    "3. q the number of lagged forecast errors in the prediction equation\n",
    "The q term is used for exponential smoothing i.e. sometimes, taking the most recent prediction may not be the best \n",
    "strategy and instead we want to take some kind of average over previous terms to **filter out noise**.\n",
    "\n",
    "Now that we've made our data stationary, a potential starting point could be ARIMA (2,1,1)\n"
   ]
  },
  {
   "cell_type": "code",
   "execution_count": null,
   "metadata": {},
   "outputs": [],
   "source": []
  }
 ],
 "metadata": {
  "kernelspec": {
   "display_name": "Python 3",
   "language": "python",
   "name": "python3"
  },
  "language_info": {
   "codemirror_mode": {
    "name": "ipython",
    "version": 3
   },
   "file_extension": ".py",
   "mimetype": "text/x-python",
   "name": "python",
   "nbconvert_exporter": "python",
   "pygments_lexer": "ipython3",
   "version": "3.7.4"
  }
 },
 "nbformat": 4,
 "nbformat_minor": 2
}
