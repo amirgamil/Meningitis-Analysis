{
 "cells": [
  {
   "cell_type": "code",
   "execution_count": 1,
   "metadata": {},
   "outputs": [
    {
     "data": {
      "text/plain": [
       "<Figure size 640x480 with 1 Axes>"
      ]
     },
     "metadata": {},
     "output_type": "display_data"
    },
    {
     "name": "stdout",
     "output_type": "stream",
     "text": [
      "Benin\n",
      "Statistics=8.803, p=0.012\n",
      "Sample does not look Gaussian (reject H0)\n"
     ]
    },
    {
     "data": {
      "text/plain": [
       "<Figure size 640x480 with 1 Axes>"
      ]
     },
     "metadata": {},
     "output_type": "display_data"
    },
    {
     "name": "stdout",
     "output_type": "stream",
     "text": [
      "Burkina Faso\n",
      "Statistics=33.110, p=0.000\n",
      "Sample does not look Gaussian (reject H0)\n"
     ]
    },
    {
     "data": {
      "text/plain": [
       "<Figure size 640x480 with 1 Axes>"
      ]
     },
     "metadata": {},
     "output_type": "display_data"
    },
    {
     "name": "stdout",
     "output_type": "stream",
     "text": [
      "Ivory Coast\n",
      "Statistics=88.425, p=0.000\n",
      "Sample does not look Gaussian (reject H0)\n"
     ]
    },
    {
     "data": {
      "text/plain": [
       "<Figure size 640x480 with 1 Axes>"
      ]
     },
     "metadata": {},
     "output_type": "display_data"
    },
    {
     "name": "stdout",
     "output_type": "stream",
     "text": [
      "Ghana\n",
      "Statistics=117.618, p=0.000\n",
      "Sample does not look Gaussian (reject H0)\n"
     ]
    },
    {
     "data": {
      "text/plain": [
       "<Figure size 640x480 with 1 Axes>"
      ]
     },
     "metadata": {},
     "output_type": "display_data"
    },
    {
     "name": "stdout",
     "output_type": "stream",
     "text": [
      "Mali\n",
      "Statistics=1.080, p=0.583\n",
      "Sample looks Gaussian (fail to reject H0)\n"
     ]
    },
    {
     "data": {
      "text/plain": [
       "<Figure size 640x480 with 1 Axes>"
      ]
     },
     "metadata": {},
     "output_type": "display_data"
    },
    {
     "name": "stdout",
     "output_type": "stream",
     "text": [
      "Mauritania\n",
      "Statistics=130.257, p=0.000\n",
      "Sample does not look Gaussian (reject H0)\n"
     ]
    },
    {
     "data": {
      "text/plain": [
       "<Figure size 640x480 with 1 Axes>"
      ]
     },
     "metadata": {},
     "output_type": "display_data"
    },
    {
     "name": "stdout",
     "output_type": "stream",
     "text": [
      "Nigeria\n",
      "Statistics=45.750, p=0.000\n",
      "Sample does not look Gaussian (reject H0)\n"
     ]
    },
    {
     "data": {
      "text/plain": [
       "<Figure size 640x480 with 1 Axes>"
      ]
     },
     "metadata": {},
     "output_type": "display_data"
    },
    {
     "name": "stdout",
     "output_type": "stream",
     "text": [
      "Senegal\n",
      "Statistics=5.775, p=0.056\n",
      "Sample looks Gaussian (fail to reject H0)\n"
     ]
    },
    {
     "data": {
      "text/plain": [
       "<Figure size 640x480 with 1 Axes>"
      ]
     },
     "metadata": {},
     "output_type": "display_data"
    },
    {
     "name": "stdout",
     "output_type": "stream",
     "text": [
      "Chad\n",
      "Statistics=67.856, p=0.000\n",
      "Sample does not look Gaussian (reject H0)\n"
     ]
    },
    {
     "data": {
      "text/plain": [
       "<Figure size 640x480 with 1 Axes>"
      ]
     },
     "metadata": {},
     "output_type": "display_data"
    },
    {
     "name": "stdout",
     "output_type": "stream",
     "text": [
      "Togo\n",
      "Statistics=102.898, p=0.000\n",
      "Sample does not look Gaussian (reject H0)\n"
     ]
    },
    {
     "data": {
      "text/plain": [
       "<Figure size 640x480 with 1 Axes>"
      ]
     },
     "metadata": {},
     "output_type": "display_data"
    },
    {
     "name": "stdout",
     "output_type": "stream",
     "text": [
      "Cameroun\n",
      "Statistics=9.514, p=0.009\n",
      "Sample does not look Gaussian (reject H0)\n"
     ]
    },
    {
     "data": {
      "text/plain": [
       "<Figure size 640x480 with 1 Axes>"
      ]
     },
     "metadata": {},
     "output_type": "display_data"
    },
    {
     "name": "stdout",
     "output_type": "stream",
     "text": [
      "Guinea\n",
      "Statistics=45.050, p=0.000\n",
      "Sample does not look Gaussian (reject H0)\n"
     ]
    },
    {
     "data": {
      "text/plain": [
       "<Figure size 640x480 with 1 Axes>"
      ]
     },
     "metadata": {},
     "output_type": "display_data"
    },
    {
     "name": "stdout",
     "output_type": "stream",
     "text": [
      "Sudan\n",
      "Statistics=13.657, p=0.001\n",
      "Sample does not look Gaussian (reject H0)\n"
     ]
    },
    {
     "data": {
      "text/plain": [
       "<Figure size 640x480 with 1 Axes>"
      ]
     },
     "metadata": {},
     "output_type": "display_data"
    },
    {
     "name": "stdout",
     "output_type": "stream",
     "text": [
      "Niger\n",
      "Statistics=103.552, p=0.000\n",
      "Sample does not look Gaussian (reject H0)\n"
     ]
    },
    {
     "data": {
      "text/plain": [
       "<Figure size 640x480 with 1 Axes>"
      ]
     },
     "metadata": {},
     "output_type": "display_data"
    },
    {
     "name": "stdout",
     "output_type": "stream",
     "text": [
      "Centrafrique\n",
      "Statistics=36.278, p=0.000\n",
      "Sample does not look Gaussian (reject H0)\n"
     ]
    },
    {
     "data": {
      "text/plain": [
       "<Figure size 640x480 with 1 Axes>"
      ]
     },
     "metadata": {},
     "output_type": "display_data"
    },
    {
     "name": "stdout",
     "output_type": "stream",
     "text": [
      "South Sudan\n",
      "Statistics=108.957, p=0.000\n",
      "Sample does not look Gaussian (reject H0)\n"
     ]
    },
    {
     "data": {
      "text/plain": [
       "<Figure size 640x480 with 1 Axes>"
      ]
     },
     "metadata": {},
     "output_type": "display_data"
    },
    {
     "name": "stdout",
     "output_type": "stream",
     "text": [
      "Gambia\n",
      "Statistics=60.517, p=0.000\n",
      "Sample does not look Gaussian (reject H0)\n"
     ]
    },
    {
     "data": {
      "text/plain": [
       "<Figure size 640x480 with 1 Axes>"
      ]
     },
     "metadata": {},
     "output_type": "display_data"
    },
    {
     "name": "stdout",
     "output_type": "stream",
     "text": [
      "Dem. Rep. Congo\n",
      "Statistics=5.683, p=0.058\n",
      "Sample looks Gaussian (fail to reject H0)\n"
     ]
    },
    {
     "data": {
      "text/plain": [
       "<Figure size 640x480 with 1 Axes>"
      ]
     },
     "metadata": {},
     "output_type": "display_data"
    },
    {
     "name": "stdout",
     "output_type": "stream",
     "text": [
      "Ethiopia\n",
      "Statistics=0.431, p=0.806\n",
      "Sample looks Gaussian (fail to reject H0)\n"
     ]
    },
    {
     "data": {
      "text/plain": [
       "<Figure size 640x480 with 1 Axes>"
      ]
     },
     "metadata": {},
     "output_type": "display_data"
    },
    {
     "name": "stdout",
     "output_type": "stream",
     "text": [
      "Tanzania\n",
      "Statistics=16.171, p=0.000\n",
      "Sample does not look Gaussian (reject H0)\n",
      "13\n",
      "19\n",
      "18\n",
      "10\n",
      "20\n",
      "21\n",
      "9\n",
      "{0: [11, 14, 12, 18, 15, 25, 20, 17, 24, 15, 20, 16, 17, 11, 9, 16, 15, 12, 14, 17, 20, 18, 16, 14, 17, 14, 65, 63, 37, 57, 44, 28, 9, 5, 7, 5, 8, 5, 6, 5, 11, 10, 9, 6, 7, 10, 11, 10, 8, 0, 5, 6, 9, 7, 12, 12, 6, 67, 46, 31, 74, 61, 59, 15, 23, 23, 26, 33, 52, 26, 15, 25, 14, 19, 28, 20, 23, 15, 19, 0, 21, 18, 28, 31, 85, 83, 84, 65, 71, 71, 16, 16, 22, 22, 15, 31, 31, 24, 29, 22, 31, 37, 40, 30, 16, 14, 15, 18, 27, 16, 23, 29, 25, 20, 92, 99, 66, 72, 117, 72, 13, 5, 10, 12, 14, 12, 11, 11, 10, 11, 4, 1, 13, 14, 6, 8, 2, 2, 5, 2, 9, 0, 8, 17, 11, 10, 6, 16, 20, 24, 0, 4, 8, 7, 8, 17, 15, 9, 20, 14, 13, 14, 17, 6, 3, 9, 3, 6, 7, 6, 7, 9, 3, 6, 6, 7, 3, 24, 19, 26, 19, 21, 55], 1: [88, 97, 100, 100, 99, 76, 127, 129, 141, 164, 186, 216, 197, 166, 163, 135, 104, 84, 66, 47, 45, 44, 27, 27, 34, 143, 155, 101, 140, 25, 118, 34, 50, 58, 76, 89, 104, 91, 86, 109, 138, 122, 91, 130, 121, 123, 117, 118, 90, 68, 56, 39, 27, 36, 19, 120, 112, 64, 140, 127, 216, 63, 61, 87, 98, 103, 135, 145, 191, 128, 136, 162, 105, 97, 100, 89, 83, 63, 40, 52, 39, 25, 35, 32, 22, 16, 26, 83, 65, 66, 81, 134, 40, 52, 80, 67, 59, 74, 102, 92, 104, 98, 85, 60, 48, 37, 31, 28, 41, 24, 22, 63, 124, 17, 119, 115, 121, 35, 61, 63, 60, 68, 70, 97, 71, 64, 59, 55, 67, 53, 60, 51, 38, 46, 31, 29, 27, 33, 38, 23, 103, 144, 160, 149, 173, 169, 40, 53, 54, 48, 100, 102, 96, 95, 115, 115, 114, 137, 137, 128, 90, 56, 59, 43, 49, 37, 4, 11, 3, 1, 0, 3, 3, 11, 15, 0, 34, 87], 5: [3, 8, 12, 10, 8, 25, 8, 7, 9, 5, 1, 10, 0, 1, 2, 5, 4, 2, 2, 3, 1, 4, 5, 13, 0, 6, 8, 4, 10, 1, 0, 6, 4, 5, 2, 1, 0, 2, 3, 0, 6, 8, 2, 7, 3, 1, 1, 3, 2, 4, 1, 19, 10, 9, 6, 52, 2, 4, 3, 5, 18, 32, 21, 26, 22, 13, 4, 5, 8, 2, 5, 4, 6, 1, 5, 3, 9, 14, 23, 13, 14, 15, 4, 2, 7, 1, 0, 4, 6, 6, 5, 8, 6, 10, 5, 3, 3, 2, 2, 6, 7, 4, 7, 51, 27, 19, 20, 11, 9, 7, 4, 3, 15, 5, 0, 9, 6, 5, 4, 4, 2, 13, 14, 6, 2, 3, 2, 7, 2, 1, 2, 3, 8, 11, 10, 148, 10, 15, 9, 6, 5, 3, 8, 7, 8, 3, 7, 5, 3, 3, 2, 4, 4, 1, 5, 2, 0, 1, 8, 5, 2, 0, 9], 7: [3, 16, 17, 16, 26, 10, 14, 36, 24, 33, 33, 23, 43, 20, 10, 7, 8, 6, 4, 10, 5, 6, 5, 6, 23, 10, 11, 4, 2, 9, 7, 9, 13, 20, 16, 12, 33, 20, 30, 5, 7, 4, 12, 14, 7, 2, 3, 2, 6, 8, 21, 3, 8, 24, 19, 27, 6, 26, 40, 73, 132, 212, 204, 271, 301, 258, 159, 146, 2, 16, 13, 11, 15, 9, 48, 11, 20, 20, 74, 57, 7, 25, 12, 20, 23, 52, 117, 31, 28, 67, 44, 54, 77, 52, 67, 65, 43, 40, 30, 18, 27, 25, 23, 10, 17, 12, 12, 13, 11, 14, 5, 7, 6, 38, 35, 13, 14, 29, 42, 10, 43, 82, 53, 45, 44, 52, 43, 28, 27, 44, 34, 31, 24, 15, 14, 15, 10, 11, 17, 11, 11, 9, 12, 16, 9, 36, 37, 17, 39, 41, 34], 12: [0, 1, 6, 7, 1, 4, 3, 2, 10, 15, 10, 26, 18, 9, 9, 19, 24, 16, 32, 33, 13, 4, 4, 5, 4, 4, 2, 2, 2, 8, 4, 5, 10, 11, 11, 17, 7, 13, 7, 9, 8, 10, 2, 13, 8, 4, 34, 36, 40, 81, 69, 44, 9, 16, 5, 17, 13, 10, 12, 23, 23, 34, 37, 23, 15, 33, 15, 12, 9, 8, 9, 10, 12, 5, 7, 36, 52, 49, 45, 53, 5, 12, 8, 7, 17, 10, 4, 4, 2, 3, 10, 14, 9, 9, 13, 9, 12, 8, 16, 14, 8, 53, 65, 39, 50, 59, 30, 10, 21, 19, 7, 17, 9, 20, 16, 19, 11, 18, 24, 18, 19, 11, 12, 8, 11, 17, 15, 6, 8, 28, 43, 55, 46, 7, 79, 48, 9, 7, 9, 10, 13, 23, 9, 13, 10, 11, 5, 21, 13, 9, 14, 25, 13, 9, 4, 16, 14, 11, 7, 5, 12, 12, 52, 58, 25, 76, 61, 44], 15: [0, 3, 1, 28, 39, 0, 12, 38, 50, 46, 0, 122, 91, 47, 119, 85, 101, 3, 14, 5, 5, 5, 6, 0, 6, 6, 9, 6, 18, 4, 9, 18, 0, 2, 10, 0, 0, 309, 134, 149, 208, 180, 79, 146, 80, 184, 143, 98, 4, 7, 7, 22, 3, 21, 15, 14, 16, 31, 24, 24, 65, 52, 43, 29, 25, 3, 11, 4, 9, 3, 5, 6, 8, 3, 44, 40, 27, 19, 33, 89, 153, 173, 499, 401, 660, 343, 128, 49, 42, 50, 41, 7, 10, 55, 41, 24, 23, 90, 125, 33, 72, 37, 87, 128, 210, 228, 166, 224, 255, 256, 365, 227, 70, 116, 13, 19, 20, 27, 7, 19, 16, 3, 45, 37, 62, 9, 52, 68, 8, 29, 31, 22, 21, 26, 30, 77, 60, 129, 98, 73, 66, 44, 59, 34, 47, 30, 27, 28, 9, 10, 10, 21, 12, 80, 75, 91, 120, 51, 34], 17: [3, 7, 2, 4, 5, 4, 7, 5, 10, 4, 7, 6, 8, 8, 3, 1, 2, 4, 7, 6, 5, 5, 7, 3, 1, 5, 23, 14, 9, 5, 1, 17, 2, 2, 5, 9, 3, 7, 2, 11, 8, 2, 4, 2, 2, 1, 2, 3, 2, 6, 2, 4, 7, 6, 9, 29, 11, 21, 13, 9, 7, 1, 4, 7, 8, 11, 16, 1, 9, 4, 5, 1, 7, 7, 3, 7, 5, 4, 9, 6, 7, 3, 5, 3, 4, 3, 2, 22, 27, 23, 10, 15, 11, 2, 5, 6, 4, 4, 3, 4, 5, 2, 1, 5, 6, 2, 9, 8, 8, 6, 7, 6, 8, 5, 4, 2, 3, 11, 13, 12, 12, 23, 9, 3, 10, 3, 11, 4, 6, 2, 1, 0, 9, 1, 1, 5, 6, 2, 7, 7, 2, 7, 0, 8, 11, 1, 3, 6, 2, 12, 27, 17, 47, 0, 0, 8, 9, 4, 20, 11, 11, 10, 15, 7, 14, 1, 12, 6, 10, 44, 39, 34, 34, 52], 22: [7, 6, 5, 11, 15, 10, 11, 5, 13, 10, 4, 1, 11, 1, 8, 9, 15, 15, 21, 8, 4, 5, 6, 1, 12, 3, 53, 12, 9, 7, 5, 17, 8, 7, 6, 4, 5, 5, 5, 5, 2, 8, 7, 8, 12, 14, 14, 8, 9, 8, 6, 7, 0, 3, 2, 4, 7, 4, 12, 19, 7, 11, 26, 24, 4, 13, 6, 9, 7, 4, 9, 9, 11, 14, 20, 13, 13, 16, 21, 20, 8, 8, 7, 6, 11, 5, 7, 6, 6, 5, 25, 20, 9, 10, 20, 28, 6, 17, 15, 29, 36, 46, 67, 78, 41, 75, 67, 56, 36, 23, 16, 12, 9, 15, 7, 5, 10, 8, 6, 6, 2, 16, 16, 18, 35, 38, 34], 23: [7, 9, 5, 7, 11, 16, 12, 24, 19, 18, 14, 20, 11, 7, 3, 10, 10, 6, 4, 4, 5, 14, 6, 12, 10, 19, 16, 2, 5, 6, 10, 7, 5, 5, 2, 8, 9, 1, 5, 5, 7, 1, 3, 3, 3, 3, 4, 5, 30, 17, 12, 20, 22, 9, 7, 14, 29, 52, 99, 107, 61, 169, 150, 201, 117, 87, 70, 25, 48, 45, 15, 4, 5, 1, 11, 3, 3, 1, 0, 0, 0, 1, 6, 1, 12, 21, 23, 11, 25, 41, 22, 35, 53, 42, 26, 38, 23, 16, 6, 5, 4, 4, 0, 3, 7, 6, 2, 10, 0, 14, 6, 25, 16, 7, 18, 18, 16, 17, 25, 5, 9, 7, 1, 1, 8, 4, 3, 5, 3, 1, 1, 6, 4, 3, 2, 8, 1, 5, 12, 35, 30, 16, 44, 64, 13, 12, 12, 11, 11, 13, 8, 22, 43, 49, 48, 46, 45, 27, 7, 13, 6, 7, 8, 10, 6, 10, 14, 13, 38, 41, 21, 31, 16, 30], 3: [10, 13, 16, 24, 24, 23, 27, 11, 9, 9, 118, 68, 21, 17, 58, 26, 18, 31, 27, 32, 12, 15, 23, 23, 31, 20, 13, 28, 29, 109, 93, 54, 120, 155, 15, 27, 16, 2, 15, 27, 26, 15, 15, 9, 24, 19, 9, 90, 36, 71, 18, 33, 15, 54, 20, 29, 45, 36, 23, 80, 61, 35, 78, 22, 28, 24, 15, 29, 13, 18, 15, 24, 23, 17, 24, 24, 17, 20, 65, 50, 17, 36, 54, 5, 14, 15, 13, 19, 22, 12, 22, 16, 12, 13, 22, 11, 9, 93], 8: [4, 4, 3, 0, 0, 5, 13, 22, 54, 67, 52, 26, 30, 21, 14, 12, 8, 2, 4, 1, 2, 4, 6, 3, 9, 1, 3, 0, 1, 1, 4, 1, 3, 7, 8, 19, 10, 15, 22, 23, 11, 16, 9, 12, 3, 6, 5, 3, 0, 0, 0, 1, 1, 5, 9, 6, 13, 4, 3, 1, 2, 3, 5, 12, 5, 3, 3, 0, 2, 2, 0, 1, 18, 10, 19, 18, 9, 13, 6, 2, 8, 13, 7, 9, 4, 6, 6, 2, 3, 8, 7, 6, 2, 7, 52, 42, 37, 88, 150, 44, 8, 6, 2, 9, 8, 12, 11, 5, 10, 14, 13, 7, 12, 13, 6, 6, 1, 7, 3, 2, 7, 10, 18, 18, 28, 25, 4, 6, 5, 1, 7, 4, 11, 12, 11, 14, 16, 11, 15, 13, 17, 5, 9, 10, 12, 5, 4, 6, 8, 8, 34, 22, 25, 54, 29, 33], 14: [0, 10, 17, 0, 9, 13, 10, 10, 16, 2, 6, 1, 0, 0, 67, 4, 11, 10, 12, 12, 3, 3, 1, 1, 2, 7, 15, 26, 15, 14, 34, 88, 101, 114, 177, 437, 871, 1708, 2177, 1041, 21, 11, 18, 6, 0, 2, 7, 34, 5, 24, 35, 49, 68, 86, 112, 135, 164, 128, 92, 45, 66, 67, 31, 42, 25, 11, 8, 2, 3, 1, 2, 8, 4, 5, 2, 10, 22, 8, 22, 16, 29, 44, 96, 130, 137, 181, 355, 343, 304, 239, 236, 198, 39, 9, 4, 2, 1, 0, 0, 6, 12, 86, 9, 16, 0, 20, 14, 8, 15, 25, 21, 14, 27, 47, 85, 177, 147, 118, 69, 26, 19, 10, 16, 9, 5, 4, 7, 22, 24, 6, 0, 16, 32, 0, 4, 14, 16, 9, 31, 34, 30, 57, 39, 41, 44, 34, 28, 29, 17, 6, 10, 9, 6, 11, 13, 11, 7, 9, 17], 4: [2, 1, 2, 2, 1, 0, 0, 0, 0, 1, 3, 0, 0, 5, 0, 1, 1, 2, 3, 0, 3, 1, 0, 2, 5, 4, 0, 0, 0, 0, 0, 3, 2, 0, 2, 40, 4, 1, 2, 8, 17, 7, 0, 10, 15, 0, 0, 0, 5, 1, 4, 0, 2, 1, 3, 4, 1, 0, 4, 11, 6, 11, 10, 6, 10, 3, 1, 0, 0, 0, 0, 0, 0, 1, 0, 0, 0, 0, 68, 13, 5, 9, 11, 5, 6, 0, 7, 0, 1, 0, 4, 1, 0, 0, 0, 0, 1, 2, 0, 9, 8, 0, 65, 4, 5, 4, 1, 3, 3, 12, 0, 31, 20, 6, 8, 6, 5, 14, 4, 12, 6, 5, 2, 4, 4, 1, 6, 26, 25, 17, 11, 13], 16: [173, 144, 199, 217, 172, 191, 123, 666, 131, 826, 732, 336, 163, 188, 292, 174, 165, 179, 110, 142, 101, 111, 153, 661, 83, 382, 197, 390, 210, 213, 150, 173, 159, 200, 116, 254, 446, 750, 151, 112, 142, 118, 170, 155, 117, 132, 602, 790, 168, 588, 145, 139, 116, 193, 153, 498, 146, 156, 170, 160, 156, 160, 143, 107, 85, 285, 415, 148, 155, 141, 177, 97, 115, 109, 150, 142, 139, 103, 144, 120, 119, 530, 701, 394, 808, 509], 6: [31, 86, 7, 16, 22, 20, 33, 20, 21, 21, 22, 21, 46, 35, 41, 27, 17, 25, 30, 25, 25, 20, 23, 30, 23, 26, 9, 64, 105, 49, 81, 131, 184, 38, 33, 28, 30, 42, 36, 43, 30, 52, 45, 41, 38, 31, 25, 29, 36, 39, 28, 38, 19, 26, 25, 16, 38, 131, 148, 191], 11: [14, 3, 7, 11, 5, 10, 12, 5, 12, 12, 14, 14, 1, 4, 7, 0, 2, 21, 10, 2, 2, 15, 9, 2, 5, 1, 4, 5, 3, 2, 2, 5, 21, 0], 24: [7, 13, 0, 5, 0, 0, 0, 1, 16, 18, 11, 7, 6, 4, 10, 7, 4, 5, 31], 2: [6, 0, 4, 8, 0, 2, 3, 0, 11, 10, 11, 10, 0, 7, 8, 0, 32, 58, 38, 48, 49, 6]}\n",
      "Benin  :  183\n",
      "Burkina Faso  :  178\n",
      "Ivory Coast  :  163\n",
      "Ghana  :  151\n",
      "Mali  :  168\n",
      "Nigeria  :  159\n",
      "Senegal  :  174\n",
      "Chad  :  127\n",
      "Togo  :  174\n",
      "Cameroun  :  98\n",
      "Guinea  :  156\n",
      "Niger  :  159\n",
      "Centrafrique  :  132\n",
      "Dem. Rep. Congo  :  86\n",
      "Ethiopia  :  60\n",
      "Kenya  :  34\n",
      "Uganda  :  19\n",
      "Burundi  :  22\n"
     ]
    }
   ],
   "source": [
    "%run data_preprocessing.ipynb"
   ]
  },
  {
   "cell_type": "code",
   "execution_count": 119,
   "metadata": {},
   "outputs": [],
   "source": [
    "import numpy as np\n",
    "import pandas as pd\n",
    "from matplotlib import pyplot as plt\n",
    "from statsmodels.tsa.stattools import adfuller\n",
    "from statsmodels.tsa.seasonal import seasonal_decompose\n",
    "from statsmodels.tsa.arima_model import ARIMA\n",
    "from statsmodels.graphics.tsaplots import plot_acf\n",
    "from statsmodels.graphics.tsaplots import plot_pacf\n",
    "from pandas.plotting import register_matplotlib_converters\n",
    "from statsmodels.tsa.stattools import adfuller\n",
    "from sklearn.metrics import mean_squared_error\n",
    "from math import sqrt\n",
    "from fbprophet import Prophet \n",
    "from fbprophet.plot import add_changepoints_to_plot"
   ]
  },
  {
   "cell_type": "code",
   "execution_count": 25,
   "metadata": {},
   "outputs": [
    {
     "name": "stdout",
     "output_type": "stream",
     "text": [
      "   Country       Date  Cases  Deaths  \\\n",
      "0        0 2014-01-01     11     0.0   \n",
      "1        1 2014-01-01     88    13.0   \n",
      "2        5 2014-01-01      3     2.0   \n",
      "3        7 2014-01-01      3     0.0   \n",
      "4       12 2014-01-01      0     0.0   \n",
      "\n",
      "                                             Summary    Bordering Countries  \\\n",
      "0  Two districts crossed the alert threshold at t...        [23, 15, 14, 1]   \n",
      "1  Two districts crossed the alert threshold at t...  [12, 14, 0, 23, 7, 5]   \n",
      "2  Two districts crossed the alert threshold at t...             [7, 12, 1]   \n",
      "3  Two districts crossed the alert threshold at t...          [8, 5, 1, 23]   \n",
      "4  Two districts crossed the alert threshold at t...  [14, 1, 5, 8, 13, 17]   \n",
      "\n",
      "   State  \n",
      "0      1  \n",
      "1      1  \n",
      "2      1  \n",
      "3      0  \n",
      "4      0  \n"
     ]
    },
    {
     "data": {
      "text/html": [
       "<div>\n",
       "<style scoped>\n",
       "    .dataframe tbody tr th:only-of-type {\n",
       "        vertical-align: middle;\n",
       "    }\n",
       "\n",
       "    .dataframe tbody tr th {\n",
       "        vertical-align: top;\n",
       "    }\n",
       "\n",
       "    .dataframe thead th {\n",
       "        text-align: right;\n",
       "    }\n",
       "</style>\n",
       "<table border=\"1\" class=\"dataframe\">\n",
       "  <thead>\n",
       "    <tr style=\"text-align: right;\">\n",
       "      <th></th>\n",
       "      <th>Country</th>\n",
       "      <th>Cases</th>\n",
       "      <th>Deaths</th>\n",
       "      <th>Summary</th>\n",
       "    </tr>\n",
       "    <tr>\n",
       "      <th>Date</th>\n",
       "      <th></th>\n",
       "      <th></th>\n",
       "      <th></th>\n",
       "      <th></th>\n",
       "    </tr>\n",
       "  </thead>\n",
       "  <tbody>\n",
       "    <tr>\n",
       "      <td>2014-01-01</td>\n",
       "      <td>Benin</td>\n",
       "      <td>11</td>\n",
       "      <td>0.0</td>\n",
       "      <td>Two districts crossed the alert threshold at t...</td>\n",
       "    </tr>\n",
       "    <tr>\n",
       "      <td>2014-01-01</td>\n",
       "      <td>Burkina Faso</td>\n",
       "      <td>88</td>\n",
       "      <td>13.0</td>\n",
       "      <td>Two districts crossed the alert threshold at t...</td>\n",
       "    </tr>\n",
       "    <tr>\n",
       "      <td>2014-01-01</td>\n",
       "      <td>Ivory Coast</td>\n",
       "      <td>3</td>\n",
       "      <td>2.0</td>\n",
       "      <td>Two districts crossed the alert threshold at t...</td>\n",
       "    </tr>\n",
       "    <tr>\n",
       "      <td>2014-01-01</td>\n",
       "      <td>Ghana</td>\n",
       "      <td>3</td>\n",
       "      <td>0.0</td>\n",
       "      <td>Two districts crossed the alert threshold at t...</td>\n",
       "    </tr>\n",
       "    <tr>\n",
       "      <td>2014-01-01</td>\n",
       "      <td>Mali</td>\n",
       "      <td>0</td>\n",
       "      <td>0.0</td>\n",
       "      <td>Two districts crossed the alert threshold at t...</td>\n",
       "    </tr>\n",
       "  </tbody>\n",
       "</table>\n",
       "</div>"
      ],
      "text/plain": [
       "                 Country  Cases  Deaths  \\\n",
       "Date                                      \n",
       "2014-01-01         Benin     11     0.0   \n",
       "2014-01-01  Burkina Faso     88    13.0   \n",
       "2014-01-01   Ivory Coast      3     2.0   \n",
       "2014-01-01         Ghana      3     0.0   \n",
       "2014-01-01          Mali      0     0.0   \n",
       "\n",
       "                                                      Summary  \n",
       "Date                                                           \n",
       "2014-01-01  Two districts crossed the alert threshold at t...  \n",
       "2014-01-01  Two districts crossed the alert threshold at t...  \n",
       "2014-01-01  Two districts crossed the alert threshold at t...  \n",
       "2014-01-01  Two districts crossed the alert threshold at t...  \n",
       "2014-01-01  Two districts crossed the alert threshold at t...  "
      ]
     },
     "execution_count": 25,
     "metadata": {},
     "output_type": "execute_result"
    }
   ],
   "source": [
    "print(data.head())\n",
    "data_local = pd.read_csv(\"../Current_Data/New_data_updated_names.csv\", usecols=['Country','Date','Cases','Deaths','Summary'], \n",
    "                  parse_dates=[\"Date\"], index_col=\"Date\",header = 0)\n",
    "data_local.head()"
   ]
  },
  {
   "cell_type": "code",
   "execution_count": 26,
   "metadata": {},
   "outputs": [],
   "source": [
    "burkina_thresholds = thresholds_weekly_data[1]\n"
   ]
  },
  {
   "cell_type": "code",
   "execution_count": 57,
   "metadata": {},
   "outputs": [
    {
     "data": {
      "image/png": "[encoded data removed]",
      "text/plain": [
       "<Figure size 432x288 with 1 Axes>"
      ]
     },
     "metadata": {
      "needs_background": "light"
     },
     "output_type": "display_data"
    }
   ],
   "source": [
    "#Start by looking at Burkina Faso\n",
    "burkina_faso = data.loc[data[\"Country\"] == 1]\n",
    "burkina_states = burkina_faso[\"State\"]\n",
    "burkina_states = burkina_states.reset_index(drop=True)\n",
    "burkina_faso = burkina_faso.drop(columns=[\"Country\", \"Deaths\", \"Summary\", \"State\", \"Bordering Countries\"])\n",
    "burkina_faso = burkina_faso.set_index(\"Date\")\n",
    "plt.ylabel(\"Cases\")\n",
    "plt.xlabel(\"Time\")\n",
    "plt.plot(burkina_faso, color = 'blue', label = 'Original')\n",
    "rolling_mean = burkina_faso.rolling(window=12).mean()\n",
    "rolling_std = burkina_faso.rolling(window=12).std()\n",
    "plt.plot(rolling_mean, color = 'red', label = 'Rolling Mean')\n",
    "plt.plot(rolling_std, color = 'black', label = 'Rolling Std')\n",
    "plt.legend(loc = 'best')\n",
    "plt.title('Rolling Mean & Rolling Standard Deviation')\n",
    "plt.show()\n"
   ]
  },
  {
   "cell_type": "markdown",
   "metadata": {},
   "source": [
    "We can see that the current data is not stationary (the mean and std is not constant throughout the time), so we will have to apply a transform to make the mean std and constant. We will start with the difference method (subtract each value from the previous timestep) and see whether that makes the data stationary."
   ]
  },
  {
   "cell_type": "code",
   "execution_count": 28,
   "metadata": {},
   "outputs": [
    {
     "name": "stdout",
     "output_type": "stream",
     "text": [
      "ADF Statistic: -7.301967\n",
      "p-value: 0.000000\n",
      "Critical Values:\n",
      "\t1%: -3.469\n",
      "\t5%: -2.879\n",
      "\t10%: -2.576\n",
      "Date\n",
      "2014-01-06     9\n",
      "2014-01-13     3\n",
      "2014-01-20     0\n",
      "2014-01-27    -1\n",
      "2014-02-03   -23\n",
      "              ..\n",
      "2019-08-15     8\n",
      "2019-09-16     4\n",
      "2019-10-16   -15\n",
      "2019-11-18    34\n",
      "2019-12-16    53\n",
      "Length: 177, dtype: int64\n"
     ]
    }
   ],
   "source": [
    "def difference(dataset):\n",
    "    diff = list()\n",
    "    for i in range(1, len(dataset)):\n",
    "        value = dataset[i] - dataset[i - 1]\n",
    "        diff.append(value[0])\n",
    "    return pd.Series(diff)\n",
    "\n",
    "X = burkina_faso.values\n",
    "#difference data\n",
    "stationary_data = difference(X)\n",
    "stationary_data.index = burkina_faso.index[1:]\n",
    "result = adfuller(stationary_data)\n",
    "print('ADF Statistic: %f' % result[0])\n",
    "print('p-value: %f' % result[1])\n",
    "print('Critical Values:')\n",
    "for key, value in result[4].items():\n",
    "    print('\\t%s: %.3f' % (key, value))\n",
    "\n",
    "print(stationary_data)"
   ]
  },
  {
   "cell_type": "markdown",
   "metadata": {},
   "source": [
    "Since the statistic is much smaller than the critical values, we can reject the null hypothesis with high confidence and assume that the data is now stationary."
   ]
  },
  {
   "cell_type": "code",
   "execution_count": 16,
   "metadata": {},
   "outputs": [
    {
     "name": "stderr",
     "output_type": "stream",
     "text": [
      "/opt/anaconda3/lib/python3.7/site-packages/ipykernel_launcher.py:1: RuntimeWarning: divide by zero encountered in log\n",
      "  \"\"\"Entry point for launching an IPython kernel.\n"
     ]
    },
    {
     "data": {
      "image/png": "[encoded data removed]",
      "text/plain": [
       "<Figure size 432x288 with 1 Axes>"
      ]
     },
     "metadata": {
      "needs_background": "light"
     },
     "output_type": "display_data"
    }
   ],
   "source": [
    "df_log = np.log(burkina_faso)\n",
    "#Plotting a Autocorrelation function and Partial Autocorrelation Function to determine which previous timesteps \n",
    "# most significantly affect the current timestep\n",
    "plt.figure()\n",
    "plt.subplot(211)\n",
    "plot_acf(stationary_data, ax=plt.gca())\n",
    "plt.show()"
   ]
  },
  {
   "cell_type": "markdown",
   "metadata": {},
   "source": [
    "The ACF plot shows that adjacent data points are in general very highly correlated. This means that a) using the most recent datapoints will allow the model to produce the best predictions and b) for the future, the model will be able to produce the best accuracy for a prediction no more than 5 weeks in the future. After that correlation between datapoints becomes almost insignificant"
   ]
  },
  {
   "cell_type": "code",
   "execution_count": 17,
   "metadata": {},
   "outputs": [
    {
     "data": {
      "image/png": "[encoded data removed]",
      "text/plain": [
       "<Figure size 432x288 with 1 Axes>"
      ]
     },
     "execution_count": 17,
     "metadata": {},
     "output_type": "execute_result"
    },
    {
     "data": {
      "image/png": "[encoded data removed]",
      "text/plain": [
       "<Figure size 432x288 with 1 Axes>"
      ]
     },
     "metadata": {
      "needs_background": "light"
     },
     "output_type": "display_data"
    }
   ],
   "source": [
    "#Visualizing results of the Partial autocorrelation function (removes influence of future timesteps on current timesteps)\n",
    "plt.subplot(211)\n",
    "plot_pacf(burkina_faso, ax=plt.gca())"
   ]
  },
  {
   "cell_type": "markdown",
   "metadata": {},
   "source": [
    "The PACF plot confirms some of the trends in the ACF plot in that adjacent datapoints are highly correlated. Recall that PACF measures the direct correlation between two points (between an observation and its lag) while ACF measures all of the direct and indirect correlations (e.g. t might be affected by t-1 but t-1 is also affected by t-2). However there also seem to be some correlation between datapoints that are five or six weeks apart. It seems like an Autoregressive model of third order would a good starting point for measuring its performance\n",
    "\n",
    "Below, I will look at monthly correlation data to see if the noise added from differences in temporal time axes (i.e. weekly in beginning of year and monthly near the end) make a difference"
   ]
  },
  {
   "cell_type": "code",
   "execution_count": 18,
   "metadata": {},
   "outputs": [
    {
     "data": {
      "image/png": "[encoded data removed]",
      "text/plain": [
       "<Figure size 432x288 with 1 Axes>"
      ]
     },
     "metadata": {
      "needs_background": "light"
     },
     "output_type": "display_data"
    }
   ],
   "source": [
    "data_month = pd.read_csv(\"../Current_Data/Month_data.csv\", usecols=['Country','Date','Cases','Deaths','Summary'], \n",
    "                  parse_dates=[\"Date\"], index_col=\"Date\",header = 0)\n",
    "burkina_faso_month = data_month.loc[data_month[\"Country\"] == 1]\n",
    "burkina_faso_month = burkina_faso_month.drop(columns=[\"Country\", \"Deaths\", \"Summary\"])\n",
    "plt.ylabel(\"Cases\")\n",
    "plt.xlabel(\"Time\")\n",
    "plt.plot(burkina_faso_month, color = 'blue', label = 'Original')\n",
    "rolling_mean = burkina_faso_month.rolling(window=12).mean()\n",
    "rolling_std = burkina_faso_month.rolling(window=12).std()\n",
    "plt.plot(rolling_mean, color = 'red', label = 'Rolling Mean')\n",
    "plt.plot(rolling_std, color = 'black', label = 'Rolling Std')\n",
    "plt.legend(loc = 'best')\n",
    "plt.title('Rolling Mean & Rolling Standard Deviation')\n",
    "plt.show()\n",
    "\n",
    "X_month = burkina_faso_month.values\n",
    "#difference data\n",
    "stationary_data_month = difference(X_month)"
   ]
  },
  {
   "cell_type": "code",
   "execution_count": 19,
   "metadata": {},
   "outputs": [
    {
     "data": {
      "image/png": "[encoded data removed]",
      "text/plain": [
       "<Figure size 432x288 with 1 Axes>"
      ]
     },
     "execution_count": 19,
     "metadata": {},
     "output_type": "execute_result"
    },
    {
     "data": {
      "image/png": "[encoded data removed]",
      "text/plain": [
       "<Figure size 432x288 with 1 Axes>"
      ]
     },
     "metadata": {
      "needs_background": "light"
     },
     "output_type": "display_data"
    }
   ],
   "source": [
    "plt.figure()\n",
    "plt.subplot(211)\n",
    "plot_acf(stationary_data_month, ax=plt.gca())"
   ]
  },
  {
   "cell_type": "code",
   "execution_count": 20,
   "metadata": {},
   "outputs": [
    {
     "data": {
      "image/png": "[encoded data removed]",
      "text/plain": [
       "<Figure size 432x288 with 1 Axes>"
      ]
     },
     "metadata": {
      "needs_background": "light"
     },
     "output_type": "display_data"
    }
   ],
   "source": [
    "plt.subplot(212)\n",
    "plot_pacf(stationary_data_month, ax=plt.gca())\n",
    "plt.show()"
   ]
  },
  {
   "cell_type": "markdown",
   "metadata": {},
   "source": [
    "There doesn't seem to be a large difference, so we will move forward and test the ARIMA model on the initial data. An ARIMA model takes 3 parameters \n",
    "1. p the number of autoregressive terms (the number of previous terms used to predict the current term) \n",
    "i.e. p = 1 would be $y_{t}$ = $B_{0}$ + $B_{1}$$x_{t-1}$ This is the Autoregressive part (AR) of ARIMA.\n",
    "2. d the number of nonseasonal differences needed for stationarity (given that we only used the previous term\n",
    "to ensure the data was stationary, this would be 1)\n",
    "3. q the number of lagged forecast errors in the prediction equation/size of moving average window\n",
    "The q term is used for exponential smoothing i.e. sometimes, taking the most recent prediction may not be the best \n",
    "strategy and instead we want to take some kind of average over previous terms to **filter out noise**. This is the MA (moving averages) part of ARIMA.\n",
    "\n",
    "Now that we've made our data stationary, a potential starting point could be ARIMA (2,1,1)\n",
    "\n",
    "### Testing on Weekly Data First\n",
    "*Note when passing in values to ARIMA, you do not need to pass in the stationary data with the differences. The tests above were just to show that differncing by a lag of 1 is enough to make the data stationary. In practice, we directly pass our data and tell ARIMA how much to difference by and it will automatically handle it. This allows us to work with the predicted undifferenced data produced by the model\n",
    "\n",
    "*Note, with ARIMA, data points need to be equally spaced which may be a source of error given our current data"
   ]
  },
  {
   "cell_type": "code",
   "execution_count": 104,
   "metadata": {},
   "outputs": [],
   "source": [
    "def compare_predicted_state_to_ground_truth(predicted_no_cases, ground_truth):\n",
    "    predicted_state = find_state(burkina_thresholds, predicted_no_cases)\n",
    "    return int(predicted_state == ground_truth)"
   ]
  },
  {
   "cell_type": "code",
   "execution_count": 42,
   "metadata": {},
   "outputs": [
    {
     "name": "stdout",
     "output_type": "stream",
     "text": [
      ">Predicted=125.063, Expected=160\n",
      ">Predicted=151.392, Expected=149\n",
      ">Predicted=153.172, Expected=173\n",
      ">Predicted=167.612, Expected=169\n",
      ">Predicted=173.172, Expected= 40\n",
      ">Predicted=86.603, Expected= 53\n",
      ">Predicted=55.060, Expected= 54\n",
      ">Predicted=56.667, Expected= 48\n",
      ">Predicted=48.382, Expected=100\n",
      ">Predicted=82.521, Expected=102\n",
      ">Predicted=99.407, Expected= 96\n",
      ">Predicted=97.075, Expected= 95\n",
      ">Predicted=96.118, Expected=115\n",
      ">Predicted=109.444, Expected=115\n",
      ">Predicted=115.116, Expected=114\n",
      ">Predicted=114.931, Expected=137\n",
      ">Predicted=130.973, Expected=137\n",
      ">Predicted=137.689, Expected=128\n",
      ">Predicted=132.121, Expected= 90\n",
      ">Predicted=103.954, Expected= 56\n",
      ">Predicted=68.689, Expected= 59\n",
      ">Predicted=59.875, Expected= 43\n",
      ">Predicted=47.645, Expected= 49\n",
      ">Predicted=46.468, Expected= 37\n",
      ">Predicted=39.579, Expected=  4\n",
      ">Predicted=12.693, Expected= 11\n",
      ">Predicted=8.008, Expected=  3\n",
      ">Predicted=3.484, Expected=  1\n",
      ">Predicted=-0.763, Expected=  0\n",
      ">Predicted=-2.023, Expected=  3\n",
      ">Predicted=-0.380, Expected=  3\n",
      ">Predicted=0.459, Expected= 11\n",
      ">Predicted=6.149, Expected= 15\n",
      ">Predicted=11.365, Expected=  0\n",
      ">Predicted=2.185, Expected= 34\n",
      ">Predicted=21.930, Expected= 87\n",
      "                             ARIMA Model Results                              \n",
      "==============================================================================\n",
      "Dep. Variable:                   D2.y   No. Observations:                  175\n",
      "Model:                 ARIMA(3, 2, 1)   Log Likelihood                -866.492\n",
      "Method:                       css-mle   S.D. of innovations             33.635\n",
      "Date:                Sun, 17 May 2020   AIC                           1744.985\n",
      "Time:                        17:31:06   BIC                           1763.974\n",
      "Sample:                             2   HQIC                          1752.687\n",
      "                                                                              \n",
      "==============================================================================\n",
      "                 coef    std err          z      P>|z|      [0.025      0.975]\n",
      "------------------------------------------------------------------------------\n",
      "const         -0.0088      0.036     -0.243      0.809      -0.080       0.063\n",
      "ar.L1.D2.y    -0.3179      0.076     -4.195      0.000      -0.466      -0.169\n",
      "ar.L2.D2.y    -0.0386      0.079     -0.486      0.628      -0.194       0.117\n",
      "ar.L3.D2.y    -0.0193      0.075     -0.256      0.798      -0.167       0.128\n",
      "ma.L1.D2.y    -1.0000      0.015    -67.780      0.000      -1.029      -0.971\n",
      "                                    Roots                                    \n",
      "=============================================================================\n",
      "                  Real          Imaginary           Modulus         Frequency\n",
      "-----------------------------------------------------------------------------\n",
      "AR.1           -2.7797           -0.0000j            2.7797           -0.5000\n",
      "AR.2            0.3902           -4.2992j            4.3169           -0.2356\n",
      "AR.3            0.3902           +4.2992j            4.3169            0.2356\n",
      "MA.1            1.0000           +0.0000j            1.0000            0.0000\n",
      "-----------------------------------------------------------------------------\n",
      "RMSE: 31.655\n",
      "Accuracy: 0.806\n"
     ]
    }
   ],
   "source": [
    "#preparing data, separating into train, test\n",
    "X = burkina_faso[\"Cases\"].values\n",
    "separation = int(len(burkina_faso) * 0.8)\n",
    "\n",
    "#print out ground truth number of cases for test set\n",
    "ground_truth = burkina_faso.iloc[separation:].values\n",
    "# print(ground_truth)\n",
    "\n",
    "#note must be numpy arrays\n",
    "train_data = X[:separation]\n",
    "test_data = X[separation:]\n",
    "test_states = burkina_states[separation:]\n",
    "test_states = test_states.reset_index(drop=True)\n",
    "#fitting model and making predictions\n",
    "#ARIMA model either accepts a 1D array with values or a 2D dataframe with datetime as the index\n",
    "predictions = np.array([])\n",
    "num_correct = 0\n",
    "for i in range(len(test_data)):\n",
    "    model = ARIMA(train_data, order=(3, 1, 1))\n",
    "    model_fit = model.fit(disp=0)\n",
    "    yhat = model_fit.forecast()[0][0]\n",
    "    predictions = np.append(predictions, yhat)\n",
    "    #observation\n",
    "    obs = test_data[i]\n",
    "    #append the correct value to the training_data after we have used it so that the model can predict the next value\n",
    "    #in the series\n",
    "    train_data = np.append(train_data, obs)\n",
    "    num_correct += compare_predicted_state_to_ground_truth(yhat, test_states.loc[i])\n",
    "    print('>Predicted=%.3f, Expected=%3.f' % (yhat, obs))\n",
    "print(model_fit.summary())\n",
    "# report performance\n",
    "mse = mean_squared_error(test_data, predictions)\n",
    "rmse = sqrt(mse)\n",
    "accuracy = num_correct/len(test_states)\n",
    "print('RMSE: %.3f' % rmse)\n",
    "print(\"Accuracy: %.3f\" % accuracy)"
   ]
  },
  {
   "cell_type": "markdown",
   "metadata": {},
   "source": [
    "The model seems to perform the best with a window size of 3 (using 3 lagged data points $t_{t-1}$, $t_{t-2}$, $t_{t-3}$)."
   ]
  },
  {
   "cell_type": "code",
   "execution_count": 43,
   "metadata": {},
   "outputs": [
    {
     "data": {
      "image/png": "[encoded data removed]",
      "text/plain": [
       "<Figure size 432x288 with 2 Axes>"
      ]
     },
     "metadata": {
      "needs_background": "light"
     },
     "output_type": "display_data"
    }
   ],
   "source": [
    "#plotting residuals\n",
    "residuals = [test_data[i] - predictions[i] for i in range(len(test_data))]\n",
    "residuals = pd.DataFrame(residuals)\n",
    "plt.figure()\n",
    "plt.subplot(211)\n",
    "residuals.hist(ax=plt.gca())\n",
    "plt.subplot(212)\n",
    "residuals.plot(kind='kde', ax=plt.gca())\n",
    "plt.show()"
   ]
  },
  {
   "cell_type": "code",
   "execution_count": 44,
   "metadata": {},
   "outputs": [
    {
     "name": "stderr",
     "output_type": "stream",
     "text": [
      "/opt/anaconda3/lib/python3.7/site-packages/statsmodels/regression/linear_model.py:1358: RuntimeWarning: invalid value encountered in sqrt\n",
      "  return rho, np.sqrt(sigmasq)\n"
     ]
    },
    {
     "data": {
      "image/png": "[encoded data removed]",
      "text/plain": [
       "<Figure size 432x288 with 2 Axes>"
      ]
     },
     "metadata": {
      "needs_background": "light"
     },
     "output_type": "display_data"
    }
   ],
   "source": [
    "plt.subplot(211)\n",
    "plot_acf(residuals, ax=plt.gca())\n",
    "plt.subplot(212)\n",
    "plot_pacf(residuals, ax=plt.gca())\n",
    "plt.show()"
   ]
  },
  {
   "cell_type": "markdown",
   "metadata": {},
   "source": [
    "To extend this to the temporal/time-series patterns across all countries, there are a couple options\n",
    "1. Implement VAMRA which is a vectorized autoregressive model parameterized by the number of endogenous variables.\n",
    "https://www.statsmodels.org/dev/examples/notebooks/generated/statespace_varmax.html\n",
    "2. Hierarchal forecasting - forecast at base level and then at inidividual node/country level using top-down approach\n",
    "https://stats.stackexchange.com/questions/412276/how-to-handle-many-times-series-simultaneously\n",
    "How do you determine nodes? Potentially look at clustering/similar countries\n",
    "3. Amazon's DeepAR Forecasting Algorithm\n",
    "https://docs.aws.amazon.com/sagemaker/latest/dg/deepar.html\n",
    "4. Prophet\n",
    "\n",
    "From the research I've conducted, modelling the time-series data for different countries using a single LSTM/RNN network would not be effective in this scenario given the sparsity of our data.\n",
    "\n",
    "Plotting the data for all of the countries shows that the trend for different countries all share similarities but are each characterized by unique patterns. This makes hierarchcal forecasting a good option since, using a top-down approach, we could divide the list of countries we have into clusters of similar patterns and predict the number of \n",
    "cases in each country by moving down our graph from more general (i.e. across meningitis belt) down to clusters and \n",
    "eventually down to individual countries."
   ]
  },
  {
   "cell_type": "code",
   "execution_count": 112,
   "metadata": {},
   "outputs": [
    {
     "name": "stdout",
     "output_type": "stream",
     "text": [
      "18\n"
     ]
    },
    {
     "data": {
      "image/png": "[encoded data removed]",
      "text/plain": [
       "<Figure size 432x288 with 1 Axes>"
      ]
     },
     "metadata": {
      "needs_background": "light"
     },
     "output_type": "display_data"
    }
   ],
   "source": [
    "colors = [\"#0048BA\", \"#B0BF1A\", \"#7CB9E8\", \"#C0E8D5\", \"#B284BE\", \"#72A0C1\", \"#EDEAE0\", \"#C46210\",\n",
    "         \"#EFDECD\", \"#E52B50\", \"#9F2B68\", \"#F19CBB\", \"#AB274F\", \"#D3212D\", \"#3B7A57\", \"#FFBF00\", \"#FF7E00\"\n",
    "         ,\"#0D98BA\"]\n",
    "i = 0\n",
    "for country in data[\"Country\"].unique():\n",
    "    curr_country = data.loc[data[\"Country\"] == country]\n",
    "    curr_country = curr_country.drop(columns=[\"Country\", \"Deaths\", \"Summary\", \"State\", \"Bordering Countries\"])\n",
    "    curr_country = curr_country.set_index(\"Date\")\n",
    "    plt.ylabel(\"Cases\")\n",
    "    plt.xlabel(\"Time\")\n",
    "    plt.plot(curr_country, color = colors[i], label = 'Original')\n",
    "    i += 1\n",
    "print(i)"
   ]
  },
  {
   "cell_type": "markdown",
   "metadata": {},
   "source": [
    "There are a couple of important questions that need to be tackled using this approach. Maybe the most important oneis  how do we divide our country list into clusters?\n",
    "1. K-means (but with what - list all of the data then do PCA)\n",
    "2. Neighboring countries - but how do we determine cutoff points\n",
    "3. Looking at similar patterns in yearly/seasonal data? With what techniques\n",
    "\n",
    "R has a package called hts which makes implementing hierarchical forecasting relatively straightforward. Fortunately, there is a python packaged built on top of Prophet (Facebook's time-forecasting software - https://github.com/CollinRooney12/htsprophet) that implements a lot of the core functionality of hts. Information on the top-down approach can be found more extensively here (https://otexts.com/fpp2/top-down.html).\n",
    "\n",
    "To start with, let us try to use Prophet to model the temporal patterns in the data from Burkina Faso as we did with ARIMA above."
   ]
  },
  {
   "cell_type": "code",
   "execution_count": 140,
   "metadata": {},
   "outputs": [
    {
     "name": "stderr",
     "output_type": "stream",
     "text": [
      "INFO:fbprophet:Disabling daily seasonality. Run prophet with daily_seasonality=True to override this.\n"
     ]
    },
    {
     "name": "stdout",
     "output_type": "stream",
     "text": [
      "            ds   y\n",
      "174 2019-09-16  15\n",
      "175 2019-10-16   0\n",
      "176 2019-11-18  34\n",
      "177 2019-12-16  87\n"
     ]
    }
   ],
   "source": [
    "m = Prophet(changepoint_range=0.8, changepoint_prior_scale=0.7)\n",
    "burkina_faso_prophet = burkina_faso.reset_index()\n",
    "burkina_faso_prophet = burkina_faso_prophet.rename(columns={\"Date\":\"ds\", \"Cases\":\"y\"})\n",
    "train_burkina = burkina_faso_prophet[:separation]\n",
    "test_burkina = burkina_faso_prophet[separation:]\n",
    "test_burkina = test_burkina.drop(columns=[\"y\"])\n",
    "test_burkina = test_burkina.reset_index()\n",
    "#start by fitting the model on a dataframe with two columns: ds (containing dates) and y (containing the numeric data\n",
    "#we are trying to forecast)\n",
    "m.fit(train_burkina)\n",
    "obs = test_states.iloc[-4:].reset_index(drop=True)\n",
    "print(burkina_faso_prophet.iloc[-4:])"
   ]
  },
  {
   "cell_type": "code",
   "execution_count": 141,
   "metadata": {},
   "outputs": [
    {
     "name": "stderr",
     "output_type": "stream",
     "text": [
      "INFO:fbprophet:Disabling daily seasonality. Run prophet with daily_seasonality=True to override this.\n"
     ]
    },
    {
     "data": {
      "image/png": "[encoded data removed]",
      "text/plain": [
       "<Figure size 720x432 with 1 Axes>"
      ]
     },
     "metadata": {},
     "output_type": "display_data"
    },
    {
     "data": {
      "image/png": "[encoded data removed]",
      "text/plain": [
       "<Figure size 720x432 with 1 Axes>"
      ]
     },
     "metadata": {},
     "output_type": "display_data"
    }
   ],
   "source": [
    "#to forecast, we pass in a dataframe with the dates we want to forecast\n",
    "future = m.make_future_dataframe(periods=30)\n",
    "\n",
    "#pass in this dataframe into predict function which returns a new dataframe with a column yhat of predicted values\n",
    "# as well as columns for uncertainties and confidence levels\n",
    "forecast = m.predict(test_burkina)\n",
    "forecast.head()\n",
    "fig1 = m.plot(forecast)\n",
    "a = add_changepoints_to_plot(fig1.gca(), m, forecast)\n",
    "\n",
    "model_fitted_over_entire_data = Prophet()\n",
    "model_fitted_over_entire_data.fit(burkina_faso_prophet)\n",
    "forecast_data = model_fitted_over_entire_data.predict(burkina_faso_prophet)\n",
    "fig2 = model_fitted_over_entire_data.plot(forecast_data)\n",
    "a2 = a = add_changepoints_to_plot(fig2.gca(), model_fitted_over_entire_data, forecast_data)"
   ]
  },
  {
   "cell_type": "code",
   "execution_count": 142,
   "metadata": {},
   "outputs": [
    {
     "name": "stdout",
     "output_type": "stream",
     "text": [
      "0.5277777777777778\n"
     ]
    },
    {
     "name": "stderr",
     "output_type": "stream",
     "text": [
      "/opt/anaconda3/lib/python3.7/site-packages/ipykernel_launcher.py:5: FutureWarning:\n",
      "\n",
      "`item` has been deprecated and will be removed in a future version\n",
      "\n"
     ]
    }
   ],
   "source": [
    "#To check accuracy with the model\n",
    "correct = 0\n",
    "for i in range(len(forecast)):\n",
    "    date = forecast.loc[i][\"ds\"]\n",
    "    predicted = forecast.loc[forecast[\"ds\"] == date, \"yhat\"].item()\n",
    "    correct += compare_predicted_state_to_ground_truth(predicted, test_states.iloc[i])\n",
    "print(correct/len(forecast))\n",
    "\n"
   ]
  },
  {
   "cell_type": "markdown",
   "metadata": {},
   "source": [
    "Notice the accuracy is not that great, but this is the accuracy for the **entire 2019-2020 predicting using only data from 2014-2018**. Plotting the full graph also shows that because of the noise of the data, the curve the model fits does not always get the correct predicted number of cases, but in the second graph notice how the groundtruth values are always within the confidence intervals predicted by the model. This suggests the model is pretty good at predicting the right pattern but forecasting the exact values because of the noise makes it difficult. How can we factor this into the model to improve predictions? "
   ]
  },
  {
   "cell_type": "markdown",
   "metadata": {},
   "source": [
    "Can improve the performance by evaluating the noise in the dataset and how it applies to data. The prophet model in general looks like:\n",
    "\n",
    "\n",
    "y(t) = trend(t) + regressors(t) + holidays(t) + noise\n",
    "- Trend is fit from the data\n",
    "- User needs to specify regressors\n",
    "- Since variance in our data is high, a lot of it will be captured by the noise variable in the prophet model (which is why a lot of the data is within the confidence intervals of the model)\n",
    "To improve the model, it needs to know that this is not just noise - need to tweak the regressor model accordingly\n",
    "*Need to figure out what the noise distribution in my dataset looks like - if it's not normal then applying a transformation like log(noise) or something else which makes it more normally distributed will improve the performance of the model \n",
    "(https://github.com/facebook/prophet/issues/859)\n",
    "\n",
    "\n",
    "Important aspects of model that may need to be tweaked\n",
    "* Prophet uses a Laplacian and double exponential prior to detect sudden/abrupt changes. How does it detect potential for abrupt changes when forecasting? \n",
    "    * It automatically detects **potential changepoints**. It then puts a sparse prior on the magnitudes of rates of change. This is similar to L1 regularization to discourage the model from using those points unless necessary. It means that the model generates a large number of places where the model has potential to change but uses few of them\n",
    "    * Need to think about how to tweak this so that the model is sensitive to changes in the scenario of an outbreak (which mathematically is a change that does not follow previous patterns)\n",
    "    * By default, model generates potential changepoints **which are spaced uniformly in the first 80% of the training data***\n",
    "        * This is done so the model has plenty of time/flexibility for its forecast\n",
    "        * Can change this using changepoint_range= when defining the model with Prophet()\n",
    "    * Can specify the number of changepoints with n_changepoints\n",
    "    * Can also specify the trend flexibility using changepoint_prior_scale (default = 0.05) in Prophet()\n",
    "        * Increasing this will make the trend more flexible at the cost of potentially overfitting (and consequently will increase the uncertainty of our predictions)\n",
    "        * The red vertical lines show these changepoints\n",
    "    * Can also manually specify locations for changepoints (using changepoints=[date1, date2, etc.])\n",
    "        * Slop changes will only be allowed in these locations\n",
    "    \n",
    "    \n",
    "\n",
    "* Prophet uses a linear model for its forecast (no max value)\n",
    "    * Carrying capacity = maximum value the model can achieve (prophet saturates this point)\n",
    "    * Can tweak Prophet to use a logistic growth model by specifying a carrying capacity\n",
    "    * Can also saturate the minimum (at 0 for example)"
   ]
  },
  {
   "cell_type": "code",
   "execution_count": 117,
   "metadata": {},
   "outputs": [
    {
     "data": {
      "text/html": [
       "<div>\n",
       "<style scoped>\n",
       "    .dataframe tbody tr th:only-of-type {\n",
       "        vertical-align: middle;\n",
       "    }\n",
       "\n",
       "    .dataframe tbody tr th {\n",
       "        vertical-align: top;\n",
       "    }\n",
       "\n",
       "    .dataframe thead th {\n",
       "        text-align: right;\n",
       "    }\n",
       "</style>\n",
       "<table border=\"1\" class=\"dataframe\">\n",
       "  <thead>\n",
       "    <tr style=\"text-align: right;\">\n",
       "      <th></th>\n",
       "      <th>ds</th>\n",
       "      <th>trend</th>\n",
       "      <th>yhat_lower</th>\n",
       "      <th>yhat_upper</th>\n",
       "      <th>trend_lower</th>\n",
       "      <th>trend_upper</th>\n",
       "      <th>additive_terms</th>\n",
       "      <th>additive_terms_lower</th>\n",
       "      <th>additive_terms_upper</th>\n",
       "      <th>weekly</th>\n",
       "      <th>weekly_lower</th>\n",
       "      <th>weekly_upper</th>\n",
       "      <th>yearly</th>\n",
       "      <th>yearly_lower</th>\n",
       "      <th>yearly_upper</th>\n",
       "      <th>multiplicative_terms</th>\n",
       "      <th>multiplicative_terms_lower</th>\n",
       "      <th>multiplicative_terms_upper</th>\n",
       "      <th>yhat</th>\n",
       "    </tr>\n",
       "  </thead>\n",
       "  <tbody>\n",
       "    <tr>\n",
       "      <td>0</td>\n",
       "      <td>2018-09-16</td>\n",
       "      <td>84.784631</td>\n",
       "      <td>27.433103</td>\n",
       "      <td>99.170517</td>\n",
       "      <td>84.784631</td>\n",
       "      <td>84.784631</td>\n",
       "      <td>-23.870694</td>\n",
       "      <td>-23.870694</td>\n",
       "      <td>-23.870694</td>\n",
       "      <td>-3.938721</td>\n",
       "      <td>-3.938721</td>\n",
       "      <td>-3.938721</td>\n",
       "      <td>-19.931973</td>\n",
       "      <td>-19.931973</td>\n",
       "      <td>-19.931973</td>\n",
       "      <td>0.0</td>\n",
       "      <td>0.0</td>\n",
       "      <td>0.0</td>\n",
       "      <td>60.913937</td>\n",
       "    </tr>\n",
       "    <tr>\n",
       "      <td>1</td>\n",
       "      <td>2018-10-15</td>\n",
       "      <td>84.102360</td>\n",
       "      <td>31.110162</td>\n",
       "      <td>102.956988</td>\n",
       "      <td>84.102360</td>\n",
       "      <td>84.102360</td>\n",
       "      <td>-15.109253</td>\n",
       "      <td>-15.109253</td>\n",
       "      <td>-15.109253</td>\n",
       "      <td>-18.582022</td>\n",
       "      <td>-18.582022</td>\n",
       "      <td>-18.582022</td>\n",
       "      <td>3.472769</td>\n",
       "      <td>3.472769</td>\n",
       "      <td>3.472769</td>\n",
       "      <td>0.0</td>\n",
       "      <td>0.0</td>\n",
       "      <td>0.0</td>\n",
       "      <td>68.993108</td>\n",
       "    </tr>\n",
       "    <tr>\n",
       "      <td>2</td>\n",
       "      <td>2018-11-17</td>\n",
       "      <td>83.325984</td>\n",
       "      <td>81.586860</td>\n",
       "      <td>152.855563</td>\n",
       "      <td>83.325984</td>\n",
       "      <td>83.325984</td>\n",
       "      <td>34.373323</td>\n",
       "      <td>34.373323</td>\n",
       "      <td>34.373323</td>\n",
       "      <td>28.008428</td>\n",
       "      <td>28.008428</td>\n",
       "      <td>28.008428</td>\n",
       "      <td>6.364895</td>\n",
       "      <td>6.364895</td>\n",
       "      <td>6.364895</td>\n",
       "      <td>0.0</td>\n",
       "      <td>0.0</td>\n",
       "      <td>0.0</td>\n",
       "      <td>117.699307</td>\n",
       "    </tr>\n",
       "    <tr>\n",
       "      <td>3</td>\n",
       "      <td>2018-12-16</td>\n",
       "      <td>82.643714</td>\n",
       "      <td>93.045314</td>\n",
       "      <td>165.035735</td>\n",
       "      <td>82.643714</td>\n",
       "      <td>82.643714</td>\n",
       "      <td>45.503024</td>\n",
       "      <td>45.503024</td>\n",
       "      <td>45.503024</td>\n",
       "      <td>-3.938721</td>\n",
       "      <td>-3.938721</td>\n",
       "      <td>-3.938721</td>\n",
       "      <td>49.441745</td>\n",
       "      <td>49.441745</td>\n",
       "      <td>49.441745</td>\n",
       "      <td>0.0</td>\n",
       "      <td>0.0</td>\n",
       "      <td>0.0</td>\n",
       "      <td>128.146738</td>\n",
       "    </tr>\n",
       "    <tr>\n",
       "      <td>4</td>\n",
       "      <td>2019-01-01</td>\n",
       "      <td>82.267289</td>\n",
       "      <td>1.669030</td>\n",
       "      <td>72.960903</td>\n",
       "      <td>82.267289</td>\n",
       "      <td>82.267289</td>\n",
       "      <td>-43.245875</td>\n",
       "      <td>-43.245875</td>\n",
       "      <td>-43.245875</td>\n",
       "      <td>-10.423695</td>\n",
       "      <td>-10.423695</td>\n",
       "      <td>-10.423695</td>\n",
       "      <td>-32.822179</td>\n",
       "      <td>-32.822179</td>\n",
       "      <td>-32.822179</td>\n",
       "      <td>0.0</td>\n",
       "      <td>0.0</td>\n",
       "      <td>0.0</td>\n",
       "      <td>39.021414</td>\n",
       "    </tr>\n",
       "    <tr>\n",
       "      <td>5</td>\n",
       "      <td>2019-01-07</td>\n",
       "      <td>82.126129</td>\n",
       "      <td>-4.282790</td>\n",
       "      <td>67.904378</td>\n",
       "      <td>82.126129</td>\n",
       "      <td>82.126129</td>\n",
       "      <td>-49.064762</td>\n",
       "      <td>-49.064762</td>\n",
       "      <td>-49.064762</td>\n",
       "      <td>-18.582022</td>\n",
       "      <td>-18.582022</td>\n",
       "      <td>-18.582022</td>\n",
       "      <td>-30.482740</td>\n",
       "      <td>-30.482740</td>\n",
       "      <td>-30.482740</td>\n",
       "      <td>0.0</td>\n",
       "      <td>0.0</td>\n",
       "      <td>0.0</td>\n",
       "      <td>33.061368</td>\n",
       "    </tr>\n",
       "    <tr>\n",
       "      <td>6</td>\n",
       "      <td>2019-01-14</td>\n",
       "      <td>81.961443</td>\n",
       "      <td>9.389343</td>\n",
       "      <td>81.269769</td>\n",
       "      <td>81.961443</td>\n",
       "      <td>81.961443</td>\n",
       "      <td>-35.924803</td>\n",
       "      <td>-35.924803</td>\n",
       "      <td>-35.924803</td>\n",
       "      <td>-18.582022</td>\n",
       "      <td>-18.582022</td>\n",
       "      <td>-18.582022</td>\n",
       "      <td>-17.342781</td>\n",
       "      <td>-17.342781</td>\n",
       "      <td>-17.342781</td>\n",
       "      <td>0.0</td>\n",
       "      <td>0.0</td>\n",
       "      <td>0.0</td>\n",
       "      <td>46.036641</td>\n",
       "    </tr>\n",
       "    <tr>\n",
       "      <td>7</td>\n",
       "      <td>2019-01-21</td>\n",
       "      <td>81.796758</td>\n",
       "      <td>24.537114</td>\n",
       "      <td>90.110365</td>\n",
       "      <td>81.796758</td>\n",
       "      <td>81.796758</td>\n",
       "      <td>-25.298872</td>\n",
       "      <td>-25.298872</td>\n",
       "      <td>-25.298872</td>\n",
       "      <td>-18.582022</td>\n",
       "      <td>-18.582022</td>\n",
       "      <td>-18.582022</td>\n",
       "      <td>-6.716851</td>\n",
       "      <td>-6.716851</td>\n",
       "      <td>-6.716851</td>\n",
       "      <td>0.0</td>\n",
       "      <td>0.0</td>\n",
       "      <td>0.0</td>\n",
       "      <td>56.497885</td>\n",
       "    </tr>\n",
       "    <tr>\n",
       "      <td>8</td>\n",
       "      <td>2019-01-28</td>\n",
       "      <td>81.632072</td>\n",
       "      <td>25.154640</td>\n",
       "      <td>100.496049</td>\n",
       "      <td>81.632072</td>\n",
       "      <td>81.632072</td>\n",
       "      <td>-19.439387</td>\n",
       "      <td>-19.439387</td>\n",
       "      <td>-19.439387</td>\n",
       "      <td>-18.582022</td>\n",
       "      <td>-18.582022</td>\n",
       "      <td>-18.582022</td>\n",
       "      <td>-0.857366</td>\n",
       "      <td>-0.857366</td>\n",
       "      <td>-0.857366</td>\n",
       "      <td>0.0</td>\n",
       "      <td>0.0</td>\n",
       "      <td>0.0</td>\n",
       "      <td>62.192684</td>\n",
       "    </tr>\n",
       "    <tr>\n",
       "      <td>9</td>\n",
       "      <td>2019-02-04</td>\n",
       "      <td>81.467386</td>\n",
       "      <td>34.572599</td>\n",
       "      <td>102.729710</td>\n",
       "      <td>81.467386</td>\n",
       "      <td>81.467386</td>\n",
       "      <td>-12.380069</td>\n",
       "      <td>-12.380069</td>\n",
       "      <td>-12.380069</td>\n",
       "      <td>-18.582022</td>\n",
       "      <td>-18.582022</td>\n",
       "      <td>-18.582022</td>\n",
       "      <td>6.201953</td>\n",
       "      <td>6.201953</td>\n",
       "      <td>6.201953</td>\n",
       "      <td>0.0</td>\n",
       "      <td>0.0</td>\n",
       "      <td>0.0</td>\n",
       "      <td>69.087317</td>\n",
       "    </tr>\n",
       "    <tr>\n",
       "      <td>10</td>\n",
       "      <td>2019-02-11</td>\n",
       "      <td>81.302700</td>\n",
       "      <td>47.103257</td>\n",
       "      <td>116.749070</td>\n",
       "      <td>81.302700</td>\n",
       "      <td>81.302700</td>\n",
       "      <td>-1.227718</td>\n",
       "      <td>-1.227718</td>\n",
       "      <td>-1.227718</td>\n",
       "      <td>-18.582022</td>\n",
       "      <td>-18.582022</td>\n",
       "      <td>-18.582022</td>\n",
       "      <td>17.354304</td>\n",
       "      <td>17.354304</td>\n",
       "      <td>17.354304</td>\n",
       "      <td>0.0</td>\n",
       "      <td>0.0</td>\n",
       "      <td>0.0</td>\n",
       "      <td>80.074982</td>\n",
       "    </tr>\n",
       "    <tr>\n",
       "      <td>11</td>\n",
       "      <td>2019-02-18</td>\n",
       "      <td>81.138014</td>\n",
       "      <td>56.878346</td>\n",
       "      <td>125.529643</td>\n",
       "      <td>81.138014</td>\n",
       "      <td>81.138014</td>\n",
       "      <td>10.067981</td>\n",
       "      <td>10.067981</td>\n",
       "      <td>10.067981</td>\n",
       "      <td>-18.582022</td>\n",
       "      <td>-18.582022</td>\n",
       "      <td>-18.582022</td>\n",
       "      <td>28.650003</td>\n",
       "      <td>28.650003</td>\n",
       "      <td>28.650003</td>\n",
       "      <td>0.0</td>\n",
       "      <td>0.0</td>\n",
       "      <td>0.0</td>\n",
       "      <td>91.205995</td>\n",
       "    </tr>\n",
       "    <tr>\n",
       "      <td>12</td>\n",
       "      <td>2019-02-25</td>\n",
       "      <td>80.973328</td>\n",
       "      <td>63.460762</td>\n",
       "      <td>134.529946</td>\n",
       "      <td>80.973328</td>\n",
       "      <td>80.973328</td>\n",
       "      <td>16.936655</td>\n",
       "      <td>16.936655</td>\n",
       "      <td>16.936655</td>\n",
       "      <td>-18.582022</td>\n",
       "      <td>-18.582022</td>\n",
       "      <td>-18.582022</td>\n",
       "      <td>35.518677</td>\n",
       "      <td>35.518677</td>\n",
       "      <td>35.518677</td>\n",
       "      <td>0.0</td>\n",
       "      <td>0.0</td>\n",
       "      <td>0.0</td>\n",
       "      <td>97.909983</td>\n",
       "    </tr>\n",
       "    <tr>\n",
       "      <td>13</td>\n",
       "      <td>2019-03-04</td>\n",
       "      <td>80.808642</td>\n",
       "      <td>66.911120</td>\n",
       "      <td>137.436202</td>\n",
       "      <td>80.808642</td>\n",
       "      <td>80.808642</td>\n",
       "      <td>20.130777</td>\n",
       "      <td>20.130777</td>\n",
       "      <td>20.130777</td>\n",
       "      <td>-18.582022</td>\n",
       "      <td>-18.582022</td>\n",
       "      <td>-18.582022</td>\n",
       "      <td>38.712798</td>\n",
       "      <td>38.712798</td>\n",
       "      <td>38.712798</td>\n",
       "      <td>0.0</td>\n",
       "      <td>0.0</td>\n",
       "      <td>0.0</td>\n",
       "      <td>100.939419</td>\n",
       "    </tr>\n",
       "    <tr>\n",
       "      <td>14</td>\n",
       "      <td>2019-03-11</td>\n",
       "      <td>80.643956</td>\n",
       "      <td>68.551482</td>\n",
       "      <td>139.312882</td>\n",
       "      <td>80.643956</td>\n",
       "      <td>80.643956</td>\n",
       "      <td>23.274496</td>\n",
       "      <td>23.274496</td>\n",
       "      <td>23.274496</td>\n",
       "      <td>-18.582022</td>\n",
       "      <td>-18.582022</td>\n",
       "      <td>-18.582022</td>\n",
       "      <td>41.856517</td>\n",
       "      <td>41.856517</td>\n",
       "      <td>41.856517</td>\n",
       "      <td>0.0</td>\n",
       "      <td>0.0</td>\n",
       "      <td>0.0</td>\n",
       "      <td>103.918452</td>\n",
       "    </tr>\n",
       "    <tr>\n",
       "      <td>15</td>\n",
       "      <td>2019-03-18</td>\n",
       "      <td>80.479270</td>\n",
       "      <td>68.871278</td>\n",
       "      <td>145.230801</td>\n",
       "      <td>80.479270</td>\n",
       "      <td>80.479270</td>\n",
       "      <td>26.254999</td>\n",
       "      <td>26.254999</td>\n",
       "      <td>26.254999</td>\n",
       "      <td>-18.582022</td>\n",
       "      <td>-18.582022</td>\n",
       "      <td>-18.582022</td>\n",
       "      <td>44.837021</td>\n",
       "      <td>44.837021</td>\n",
       "      <td>44.837021</td>\n",
       "      <td>0.0</td>\n",
       "      <td>0.0</td>\n",
       "      <td>0.0</td>\n",
       "      <td>106.734269</td>\n",
       "    </tr>\n",
       "    <tr>\n",
       "      <td>16</td>\n",
       "      <td>2019-03-25</td>\n",
       "      <td>80.314584</td>\n",
       "      <td>69.591328</td>\n",
       "      <td>142.103114</td>\n",
       "      <td>80.314584</td>\n",
       "      <td>80.314584</td>\n",
       "      <td>24.255116</td>\n",
       "      <td>24.255116</td>\n",
       "      <td>24.255116</td>\n",
       "      <td>-18.582022</td>\n",
       "      <td>-18.582022</td>\n",
       "      <td>-18.582022</td>\n",
       "      <td>42.837138</td>\n",
       "      <td>42.837138</td>\n",
       "      <td>42.837138</td>\n",
       "      <td>0.0</td>\n",
       "      <td>0.0</td>\n",
       "      <td>0.0</td>\n",
       "      <td>104.569700</td>\n",
       "    </tr>\n",
       "    <tr>\n",
       "      <td>17</td>\n",
       "      <td>2019-04-01</td>\n",
       "      <td>80.149898</td>\n",
       "      <td>58.933796</td>\n",
       "      <td>130.527313</td>\n",
       "      <td>80.149898</td>\n",
       "      <td>80.149898</td>\n",
       "      <td>14.133148</td>\n",
       "      <td>14.133148</td>\n",
       "      <td>14.133148</td>\n",
       "      <td>-18.582022</td>\n",
       "      <td>-18.582022</td>\n",
       "      <td>-18.582022</td>\n",
       "      <td>32.715169</td>\n",
       "      <td>32.715169</td>\n",
       "      <td>32.715169</td>\n",
       "      <td>0.0</td>\n",
       "      <td>0.0</td>\n",
       "      <td>0.0</td>\n",
       "      <td>94.283046</td>\n",
       "    </tr>\n",
       "    <tr>\n",
       "      <td>18</td>\n",
       "      <td>2019-04-08</td>\n",
       "      <td>79.985212</td>\n",
       "      <td>42.564220</td>\n",
       "      <td>115.317806</td>\n",
       "      <td>79.985212</td>\n",
       "      <td>79.985212</td>\n",
       "      <td>-0.495196</td>\n",
       "      <td>-0.495196</td>\n",
       "      <td>-0.495196</td>\n",
       "      <td>-18.582022</td>\n",
       "      <td>-18.582022</td>\n",
       "      <td>-18.582022</td>\n",
       "      <td>18.086825</td>\n",
       "      <td>18.086825</td>\n",
       "      <td>18.086825</td>\n",
       "      <td>0.0</td>\n",
       "      <td>0.0</td>\n",
       "      <td>0.0</td>\n",
       "      <td>79.490016</td>\n",
       "    </tr>\n",
       "    <tr>\n",
       "      <td>19</td>\n",
       "      <td>2019-04-15</td>\n",
       "      <td>79.820527</td>\n",
       "      <td>31.311611</td>\n",
       "      <td>99.883579</td>\n",
       "      <td>79.820527</td>\n",
       "      <td>79.820527</td>\n",
       "      <td>-12.722953</td>\n",
       "      <td>-12.722953</td>\n",
       "      <td>-12.722953</td>\n",
       "      <td>-18.582022</td>\n",
       "      <td>-18.582022</td>\n",
       "      <td>-18.582022</td>\n",
       "      <td>5.859069</td>\n",
       "      <td>5.859069</td>\n",
       "      <td>5.859069</td>\n",
       "      <td>0.0</td>\n",
       "      <td>0.0</td>\n",
       "      <td>0.0</td>\n",
       "      <td>67.097574</td>\n",
       "    </tr>\n",
       "    <tr>\n",
       "      <td>20</td>\n",
       "      <td>2019-04-22</td>\n",
       "      <td>79.655841</td>\n",
       "      <td>26.779536</td>\n",
       "      <td>95.663433</td>\n",
       "      <td>79.655841</td>\n",
       "      <td>79.655841</td>\n",
       "      <td>-20.294009</td>\n",
       "      <td>-20.294009</td>\n",
       "      <td>-20.294009</td>\n",
       "      <td>-18.582022</td>\n",
       "      <td>-18.582022</td>\n",
       "      <td>-18.582022</td>\n",
       "      <td>-1.711988</td>\n",
       "      <td>-1.711988</td>\n",
       "      <td>-1.711988</td>\n",
       "      <td>0.0</td>\n",
       "      <td>0.0</td>\n",
       "      <td>0.0</td>\n",
       "      <td>59.361831</td>\n",
       "    </tr>\n",
       "    <tr>\n",
       "      <td>21</td>\n",
       "      <td>2019-04-29</td>\n",
       "      <td>79.491155</td>\n",
       "      <td>17.641807</td>\n",
       "      <td>87.323739</td>\n",
       "      <td>79.491155</td>\n",
       "      <td>79.491155</td>\n",
       "      <td>-27.739918</td>\n",
       "      <td>-27.739918</td>\n",
       "      <td>-27.739918</td>\n",
       "      <td>-18.582022</td>\n",
       "      <td>-18.582022</td>\n",
       "      <td>-18.582022</td>\n",
       "      <td>-9.157897</td>\n",
       "      <td>-9.157897</td>\n",
       "      <td>-9.157897</td>\n",
       "      <td>0.0</td>\n",
       "      <td>0.0</td>\n",
       "      <td>0.0</td>\n",
       "      <td>51.751236</td>\n",
       "    </tr>\n",
       "    <tr>\n",
       "      <td>22</td>\n",
       "      <td>2019-05-06</td>\n",
       "      <td>79.326469</td>\n",
       "      <td>6.198343</td>\n",
       "      <td>75.445673</td>\n",
       "      <td>79.326469</td>\n",
       "      <td>79.326469</td>\n",
       "      <td>-39.748894</td>\n",
       "      <td>-39.748894</td>\n",
       "      <td>-39.748894</td>\n",
       "      <td>-18.582022</td>\n",
       "      <td>-18.582022</td>\n",
       "      <td>-18.582022</td>\n",
       "      <td>-21.166872</td>\n",
       "      <td>-21.166872</td>\n",
       "      <td>-21.166872</td>\n",
       "      <td>0.0</td>\n",
       "      <td>0.0</td>\n",
       "      <td>0.0</td>\n",
       "      <td>39.577575</td>\n",
       "    </tr>\n",
       "    <tr>\n",
       "      <td>23</td>\n",
       "      <td>2019-05-13</td>\n",
       "      <td>79.161783</td>\n",
       "      <td>-10.245802</td>\n",
       "      <td>59.159497</td>\n",
       "      <td>79.161783</td>\n",
       "      <td>79.161783</td>\n",
       "      <td>-54.297268</td>\n",
       "      <td>-54.297268</td>\n",
       "      <td>-54.297268</td>\n",
       "      <td>-18.582022</td>\n",
       "      <td>-18.582022</td>\n",
       "      <td>-18.582022</td>\n",
       "      <td>-35.715246</td>\n",
       "      <td>-35.715246</td>\n",
       "      <td>-35.715246</td>\n",
       "      <td>0.0</td>\n",
       "      <td>0.0</td>\n",
       "      <td>0.0</td>\n",
       "      <td>24.864515</td>\n",
       "    </tr>\n",
       "    <tr>\n",
       "      <td>24</td>\n",
       "      <td>2019-05-20</td>\n",
       "      <td>78.997097</td>\n",
       "      <td>-18.826841</td>\n",
       "      <td>51.478058</td>\n",
       "      <td>78.997097</td>\n",
       "      <td>78.997097</td>\n",
       "      <td>-64.656068</td>\n",
       "      <td>-64.656068</td>\n",
       "      <td>-64.656068</td>\n",
       "      <td>-18.582022</td>\n",
       "      <td>-18.582022</td>\n",
       "      <td>-18.582022</td>\n",
       "      <td>-46.074047</td>\n",
       "      <td>-46.074047</td>\n",
       "      <td>-46.074047</td>\n",
       "      <td>0.0</td>\n",
       "      <td>0.0</td>\n",
       "      <td>0.0</td>\n",
       "      <td>14.341029</td>\n",
       "    </tr>\n",
       "    <tr>\n",
       "      <td>25</td>\n",
       "      <td>2019-05-27</td>\n",
       "      <td>78.832411</td>\n",
       "      <td>-24.051135</td>\n",
       "      <td>46.535326</td>\n",
       "      <td>78.832411</td>\n",
       "      <td>78.832411</td>\n",
       "      <td>-67.919616</td>\n",
       "      <td>-67.919616</td>\n",
       "      <td>-67.919616</td>\n",
       "      <td>-18.582022</td>\n",
       "      <td>-18.582022</td>\n",
       "      <td>-18.582022</td>\n",
       "      <td>-49.337595</td>\n",
       "      <td>-49.337595</td>\n",
       "      <td>-49.337595</td>\n",
       "      <td>0.0</td>\n",
       "      <td>0.0</td>\n",
       "      <td>0.0</td>\n",
       "      <td>10.912795</td>\n",
       "    </tr>\n",
       "    <tr>\n",
       "      <td>26</td>\n",
       "      <td>2019-06-03</td>\n",
       "      <td>78.667725</td>\n",
       "      <td>-25.319642</td>\n",
       "      <td>45.950770</td>\n",
       "      <td>78.667725</td>\n",
       "      <td>78.667725</td>\n",
       "      <td>-68.843231</td>\n",
       "      <td>-68.843231</td>\n",
       "      <td>-68.843231</td>\n",
       "      <td>-18.582022</td>\n",
       "      <td>-18.582022</td>\n",
       "      <td>-18.582022</td>\n",
       "      <td>-50.261209</td>\n",
       "      <td>-50.261209</td>\n",
       "      <td>-50.261209</td>\n",
       "      <td>0.0</td>\n",
       "      <td>0.0</td>\n",
       "      <td>0.0</td>\n",
       "      <td>9.824494</td>\n",
       "    </tr>\n",
       "    <tr>\n",
       "      <td>27</td>\n",
       "      <td>2019-06-10</td>\n",
       "      <td>78.503039</td>\n",
       "      <td>-30.487987</td>\n",
       "      <td>42.154659</td>\n",
       "      <td>78.503039</td>\n",
       "      <td>78.503039</td>\n",
       "      <td>-73.327681</td>\n",
       "      <td>-73.327681</td>\n",
       "      <td>-73.327681</td>\n",
       "      <td>-18.582022</td>\n",
       "      <td>-18.582022</td>\n",
       "      <td>-18.582022</td>\n",
       "      <td>-54.745660</td>\n",
       "      <td>-54.745660</td>\n",
       "      <td>-54.745660</td>\n",
       "      <td>0.0</td>\n",
       "      <td>0.0</td>\n",
       "      <td>0.0</td>\n",
       "      <td>5.175358</td>\n",
       "    </tr>\n",
       "    <tr>\n",
       "      <td>28</td>\n",
       "      <td>2019-06-17</td>\n",
       "      <td>78.338353</td>\n",
       "      <td>-33.874506</td>\n",
       "      <td>32.819872</td>\n",
       "      <td>78.338353</td>\n",
       "      <td>78.338353</td>\n",
       "      <td>-79.365278</td>\n",
       "      <td>-79.365278</td>\n",
       "      <td>-79.365278</td>\n",
       "      <td>-18.582022</td>\n",
       "      <td>-18.582022</td>\n",
       "      <td>-18.582022</td>\n",
       "      <td>-60.783256</td>\n",
       "      <td>-60.783256</td>\n",
       "      <td>-60.783256</td>\n",
       "      <td>0.0</td>\n",
       "      <td>0.0</td>\n",
       "      <td>0.0</td>\n",
       "      <td>-1.026924</td>\n",
       "    </tr>\n",
       "    <tr>\n",
       "      <td>29</td>\n",
       "      <td>2019-06-24</td>\n",
       "      <td>78.173667</td>\n",
       "      <td>-34.078470</td>\n",
       "      <td>35.736691</td>\n",
       "      <td>78.173667</td>\n",
       "      <td>78.173667</td>\n",
       "      <td>-77.561135</td>\n",
       "      <td>-77.561135</td>\n",
       "      <td>-77.561135</td>\n",
       "      <td>-18.582022</td>\n",
       "      <td>-18.582022</td>\n",
       "      <td>-18.582022</td>\n",
       "      <td>-58.979114</td>\n",
       "      <td>-58.979114</td>\n",
       "      <td>-58.979114</td>\n",
       "      <td>0.0</td>\n",
       "      <td>0.0</td>\n",
       "      <td>0.0</td>\n",
       "      <td>0.612532</td>\n",
       "    </tr>\n",
       "    <tr>\n",
       "      <td>30</td>\n",
       "      <td>2019-07-14</td>\n",
       "      <td>77.703136</td>\n",
       "      <td>28.876430</td>\n",
       "      <td>97.141830</td>\n",
       "      <td>77.703136</td>\n",
       "      <td>77.703136</td>\n",
       "      <td>-13.695150</td>\n",
       "      <td>-13.695150</td>\n",
       "      <td>-13.695150</td>\n",
       "      <td>-3.938721</td>\n",
       "      <td>-3.938721</td>\n",
       "      <td>-3.938721</td>\n",
       "      <td>-9.756429</td>\n",
       "      <td>-9.756429</td>\n",
       "      <td>-9.756429</td>\n",
       "      <td>0.0</td>\n",
       "      <td>0.0</td>\n",
       "      <td>0.0</td>\n",
       "      <td>64.007986</td>\n",
       "    </tr>\n",
       "    <tr>\n",
       "      <td>31</td>\n",
       "      <td>2019-08-15</td>\n",
       "      <td>76.950286</td>\n",
       "      <td>52.500548</td>\n",
       "      <td>120.241365</td>\n",
       "      <td>76.950286</td>\n",
       "      <td>76.950286</td>\n",
       "      <td>9.852631</td>\n",
       "      <td>9.852631</td>\n",
       "      <td>9.852631</td>\n",
       "      <td>2.402494</td>\n",
       "      <td>2.402494</td>\n",
       "      <td>2.402494</td>\n",
       "      <td>7.450137</td>\n",
       "      <td>7.450137</td>\n",
       "      <td>7.450137</td>\n",
       "      <td>0.0</td>\n",
       "      <td>0.0</td>\n",
       "      <td>0.0</td>\n",
       "      <td>86.802917</td>\n",
       "    </tr>\n",
       "    <tr>\n",
       "      <td>32</td>\n",
       "      <td>2019-09-16</td>\n",
       "      <td>76.197436</td>\n",
       "      <td>3.481108</td>\n",
       "      <td>75.337019</td>\n",
       "      <td>76.197436</td>\n",
       "      <td>76.197436</td>\n",
       "      <td>-36.848933</td>\n",
       "      <td>-36.848933</td>\n",
       "      <td>-36.848933</td>\n",
       "      <td>-18.582022</td>\n",
       "      <td>-18.582022</td>\n",
       "      <td>-18.582022</td>\n",
       "      <td>-18.266912</td>\n",
       "      <td>-18.266912</td>\n",
       "      <td>-18.266912</td>\n",
       "      <td>0.0</td>\n",
       "      <td>0.0</td>\n",
       "      <td>0.0</td>\n",
       "      <td>39.348503</td>\n",
       "    </tr>\n",
       "    <tr>\n",
       "      <td>33</td>\n",
       "      <td>2019-10-16</td>\n",
       "      <td>75.491640</td>\n",
       "      <td>44.311928</td>\n",
       "      <td>116.637334</td>\n",
       "      <td>75.491640</td>\n",
       "      <td>75.491640</td>\n",
       "      <td>2.212941</td>\n",
       "      <td>2.212941</td>\n",
       "      <td>2.212941</td>\n",
       "      <td>-4.312022</td>\n",
       "      <td>-4.312022</td>\n",
       "      <td>-4.312022</td>\n",
       "      <td>6.524963</td>\n",
       "      <td>6.524963</td>\n",
       "      <td>6.524963</td>\n",
       "      <td>0.0</td>\n",
       "      <td>0.0</td>\n",
       "      <td>0.0</td>\n",
       "      <td>77.704581</td>\n",
       "    </tr>\n",
       "    <tr>\n",
       "      <td>34</td>\n",
       "      <td>2019-11-18</td>\n",
       "      <td>74.715263</td>\n",
       "      <td>28.844680</td>\n",
       "      <td>101.535576</td>\n",
       "      <td>74.715263</td>\n",
       "      <td>74.715263</td>\n",
       "      <td>-8.036150</td>\n",
       "      <td>-8.036150</td>\n",
       "      <td>-8.036150</td>\n",
       "      <td>-18.582022</td>\n",
       "      <td>-18.582022</td>\n",
       "      <td>-18.582022</td>\n",
       "      <td>10.545871</td>\n",
       "      <td>10.545871</td>\n",
       "      <td>10.545871</td>\n",
       "      <td>0.0</td>\n",
       "      <td>0.0</td>\n",
       "      <td>0.0</td>\n",
       "      <td>66.679113</td>\n",
       "    </tr>\n",
       "    <tr>\n",
       "      <td>35</td>\n",
       "      <td>2019-12-16</td>\n",
       "      <td>74.056519</td>\n",
       "      <td>70.786365</td>\n",
       "      <td>141.855351</td>\n",
       "      <td>74.056519</td>\n",
       "      <td>74.056519</td>\n",
       "      <td>32.669791</td>\n",
       "      <td>32.669791</td>\n",
       "      <td>32.669791</td>\n",
       "      <td>-18.582022</td>\n",
       "      <td>-18.582022</td>\n",
       "      <td>-18.582022</td>\n",
       "      <td>51.251813</td>\n",
       "      <td>51.251813</td>\n",
       "      <td>51.251813</td>\n",
       "      <td>0.0</td>\n",
       "      <td>0.0</td>\n",
       "      <td>0.0</td>\n",
       "      <td>106.726311</td>\n",
       "    </tr>\n",
       "  </tbody>\n",
       "</table>\n",
       "</div>"
      ],
      "text/plain": [
       "           ds      trend  yhat_lower  yhat_upper  trend_lower  trend_upper  \\\n",
       "0  2018-09-16  84.784631   27.433103   99.170517    84.784631    84.784631   \n",
       "1  2018-10-15  84.102360   31.110162  102.956988    84.102360    84.102360   \n",
       "2  2018-11-17  83.325984   81.586860  152.855563    83.325984    83.325984   \n",
       "3  2018-12-16  82.643714   93.045314  165.035735    82.643714    82.643714   \n",
       "4  2019-01-01  82.267289    1.669030   72.960903    82.267289    82.267289   \n",
       "5  2019-01-07  82.126129   -4.282790   67.904378    82.126129    82.126129   \n",
       "6  2019-01-14  81.961443    9.389343   81.269769    81.961443    81.961443   \n",
       "7  2019-01-21  81.796758   24.537114   90.110365    81.796758    81.796758   \n",
       "8  2019-01-28  81.632072   25.154640  100.496049    81.632072    81.632072   \n",
       "9  2019-02-04  81.467386   34.572599  102.729710    81.467386    81.467386   \n",
       "10 2019-02-11  81.302700   47.103257  116.749070    81.302700    81.302700   \n",
       "11 2019-02-18  81.138014   56.878346  125.529643    81.138014    81.138014   \n",
       "12 2019-02-25  80.973328   63.460762  134.529946    80.973328    80.973328   \n",
       "13 2019-03-04  80.808642   66.911120  137.436202    80.808642    80.808642   \n",
       "14 2019-03-11  80.643956   68.551482  139.312882    80.643956    80.643956   \n",
       "15 2019-03-18  80.479270   68.871278  145.230801    80.479270    80.479270   \n",
       "16 2019-03-25  80.314584   69.591328  142.103114    80.314584    80.314584   \n",
       "17 2019-04-01  80.149898   58.933796  130.527313    80.149898    80.149898   \n",
       "18 2019-04-08  79.985212   42.564220  115.317806    79.985212    79.985212   \n",
       "19 2019-04-15  79.820527   31.311611   99.883579    79.820527    79.820527   \n",
       "20 2019-04-22  79.655841   26.779536   95.663433    79.655841    79.655841   \n",
       "21 2019-04-29  79.491155   17.641807   87.323739    79.491155    79.491155   \n",
       "22 2019-05-06  79.326469    6.198343   75.445673    79.326469    79.326469   \n",
       "23 2019-05-13  79.161783  -10.245802   59.159497    79.161783    79.161783   \n",
       "24 2019-05-20  78.997097  -18.826841   51.478058    78.997097    78.997097   \n",
       "25 2019-05-27  78.832411  -24.051135   46.535326    78.832411    78.832411   \n",
       "26 2019-06-03  78.667725  -25.319642   45.950770    78.667725    78.667725   \n",
       "27 2019-06-10  78.503039  -30.487987   42.154659    78.503039    78.503039   \n",
       "28 2019-06-17  78.338353  -33.874506   32.819872    78.338353    78.338353   \n",
       "29 2019-06-24  78.173667  -34.078470   35.736691    78.173667    78.173667   \n",
       "30 2019-07-14  77.703136   28.876430   97.141830    77.703136    77.703136   \n",
       "31 2019-08-15  76.950286   52.500548  120.241365    76.950286    76.950286   \n",
       "32 2019-09-16  76.197436    3.481108   75.337019    76.197436    76.197436   \n",
       "33 2019-10-16  75.491640   44.311928  116.637334    75.491640    75.491640   \n",
       "34 2019-11-18  74.715263   28.844680  101.535576    74.715263    74.715263   \n",
       "35 2019-12-16  74.056519   70.786365  141.855351    74.056519    74.056519   \n",
       "\n",
       "    additive_terms  additive_terms_lower  additive_terms_upper     weekly  \\\n",
       "0       -23.870694            -23.870694            -23.870694  -3.938721   \n",
       "1       -15.109253            -15.109253            -15.109253 -18.582022   \n",
       "2        34.373323             34.373323             34.373323  28.008428   \n",
       "3        45.503024             45.503024             45.503024  -3.938721   \n",
       "4       -43.245875            -43.245875            -43.245875 -10.423695   \n",
       "5       -49.064762            -49.064762            -49.064762 -18.582022   \n",
       "6       -35.924803            -35.924803            -35.924803 -18.582022   \n",
       "7       -25.298872            -25.298872            -25.298872 -18.582022   \n",
       "8       -19.439387            -19.439387            -19.439387 -18.582022   \n",
       "9       -12.380069            -12.380069            -12.380069 -18.582022   \n",
       "10       -1.227718             -1.227718             -1.227718 -18.582022   \n",
       "11       10.067981             10.067981             10.067981 -18.582022   \n",
       "12       16.936655             16.936655             16.936655 -18.582022   \n",
       "13       20.130777             20.130777             20.130777 -18.582022   \n",
       "14       23.274496             23.274496             23.274496 -18.582022   \n",
       "15       26.254999             26.254999             26.254999 -18.582022   \n",
       "16       24.255116             24.255116             24.255116 -18.582022   \n",
       "17       14.133148             14.133148             14.133148 -18.582022   \n",
       "18       -0.495196             -0.495196             -0.495196 -18.582022   \n",
       "19      -12.722953            -12.722953            -12.722953 -18.582022   \n",
       "20      -20.294009            -20.294009            -20.294009 -18.582022   \n",
       "21      -27.739918            -27.739918            -27.739918 -18.582022   \n",
       "22      -39.748894            -39.748894            -39.748894 -18.582022   \n",
       "23      -54.297268            -54.297268            -54.297268 -18.582022   \n",
       "24      -64.656068            -64.656068            -64.656068 -18.582022   \n",
       "25      -67.919616            -67.919616            -67.919616 -18.582022   \n",
       "26      -68.843231            -68.843231            -68.843231 -18.582022   \n",
       "27      -73.327681            -73.327681            -73.327681 -18.582022   \n",
       "28      -79.365278            -79.365278            -79.365278 -18.582022   \n",
       "29      -77.561135            -77.561135            -77.561135 -18.582022   \n",
       "30      -13.695150            -13.695150            -13.695150  -3.938721   \n",
       "31        9.852631              9.852631              9.852631   2.402494   \n",
       "32      -36.848933            -36.848933            -36.848933 -18.582022   \n",
       "33        2.212941              2.212941              2.212941  -4.312022   \n",
       "34       -8.036150             -8.036150             -8.036150 -18.582022   \n",
       "35       32.669791             32.669791             32.669791 -18.582022   \n",
       "\n",
       "    weekly_lower  weekly_upper     yearly  yearly_lower  yearly_upper  \\\n",
       "0      -3.938721     -3.938721 -19.931973    -19.931973    -19.931973   \n",
       "1     -18.582022    -18.582022   3.472769      3.472769      3.472769   \n",
       "2      28.008428     28.008428   6.364895      6.364895      6.364895   \n",
       "3      -3.938721     -3.938721  49.441745     49.441745     49.441745   \n",
       "4     -10.423695    -10.423695 -32.822179    -32.822179    -32.822179   \n",
       "5     -18.582022    -18.582022 -30.482740    -30.482740    -30.482740   \n",
       "6     -18.582022    -18.582022 -17.342781    -17.342781    -17.342781   \n",
       "7     -18.582022    -18.582022  -6.716851     -6.716851     -6.716851   \n",
       "8     -18.582022    -18.582022  -0.857366     -0.857366     -0.857366   \n",
       "9     -18.582022    -18.582022   6.201953      6.201953      6.201953   \n",
       "10    -18.582022    -18.582022  17.354304     17.354304     17.354304   \n",
       "11    -18.582022    -18.582022  28.650003     28.650003     28.650003   \n",
       "12    -18.582022    -18.582022  35.518677     35.518677     35.518677   \n",
       "13    -18.582022    -18.582022  38.712798     38.712798     38.712798   \n",
       "14    -18.582022    -18.582022  41.856517     41.856517     41.856517   \n",
       "15    -18.582022    -18.582022  44.837021     44.837021     44.837021   \n",
       "16    -18.582022    -18.582022  42.837138     42.837138     42.837138   \n",
       "17    -18.582022    -18.582022  32.715169     32.715169     32.715169   \n",
       "18    -18.582022    -18.582022  18.086825     18.086825     18.086825   \n",
       "19    -18.582022    -18.582022   5.859069      5.859069      5.859069   \n",
       "20    -18.582022    -18.582022  -1.711988     -1.711988     -1.711988   \n",
       "21    -18.582022    -18.582022  -9.157897     -9.157897     -9.157897   \n",
       "22    -18.582022    -18.582022 -21.166872    -21.166872    -21.166872   \n",
       "23    -18.582022    -18.582022 -35.715246    -35.715246    -35.715246   \n",
       "24    -18.582022    -18.582022 -46.074047    -46.074047    -46.074047   \n",
       "25    -18.582022    -18.582022 -49.337595    -49.337595    -49.337595   \n",
       "26    -18.582022    -18.582022 -50.261209    -50.261209    -50.261209   \n",
       "27    -18.582022    -18.582022 -54.745660    -54.745660    -54.745660   \n",
       "28    -18.582022    -18.582022 -60.783256    -60.783256    -60.783256   \n",
       "29    -18.582022    -18.582022 -58.979114    -58.979114    -58.979114   \n",
       "30     -3.938721     -3.938721  -9.756429     -9.756429     -9.756429   \n",
       "31      2.402494      2.402494   7.450137      7.450137      7.450137   \n",
       "32    -18.582022    -18.582022 -18.266912    -18.266912    -18.266912   \n",
       "33     -4.312022     -4.312022   6.524963      6.524963      6.524963   \n",
       "34    -18.582022    -18.582022  10.545871     10.545871     10.545871   \n",
       "35    -18.582022    -18.582022  51.251813     51.251813     51.251813   \n",
       "\n",
       "    multiplicative_terms  multiplicative_terms_lower  \\\n",
       "0                    0.0                         0.0   \n",
       "1                    0.0                         0.0   \n",
       "2                    0.0                         0.0   \n",
       "3                    0.0                         0.0   \n",
       "4                    0.0                         0.0   \n",
       "5                    0.0                         0.0   \n",
       "6                    0.0                         0.0   \n",
       "7                    0.0                         0.0   \n",
       "8                    0.0                         0.0   \n",
       "9                    0.0                         0.0   \n",
       "10                   0.0                         0.0   \n",
       "11                   0.0                         0.0   \n",
       "12                   0.0                         0.0   \n",
       "13                   0.0                         0.0   \n",
       "14                   0.0                         0.0   \n",
       "15                   0.0                         0.0   \n",
       "16                   0.0                         0.0   \n",
       "17                   0.0                         0.0   \n",
       "18                   0.0                         0.0   \n",
       "19                   0.0                         0.0   \n",
       "20                   0.0                         0.0   \n",
       "21                   0.0                         0.0   \n",
       "22                   0.0                         0.0   \n",
       "23                   0.0                         0.0   \n",
       "24                   0.0                         0.0   \n",
       "25                   0.0                         0.0   \n",
       "26                   0.0                         0.0   \n",
       "27                   0.0                         0.0   \n",
       "28                   0.0                         0.0   \n",
       "29                   0.0                         0.0   \n",
       "30                   0.0                         0.0   \n",
       "31                   0.0                         0.0   \n",
       "32                   0.0                         0.0   \n",
       "33                   0.0                         0.0   \n",
       "34                   0.0                         0.0   \n",
       "35                   0.0                         0.0   \n",
       "\n",
       "    multiplicative_terms_upper        yhat  \n",
       "0                          0.0   60.913937  \n",
       "1                          0.0   68.993108  \n",
       "2                          0.0  117.699307  \n",
       "3                          0.0  128.146738  \n",
       "4                          0.0   39.021414  \n",
       "5                          0.0   33.061368  \n",
       "6                          0.0   46.036641  \n",
       "7                          0.0   56.497885  \n",
       "8                          0.0   62.192684  \n",
       "9                          0.0   69.087317  \n",
       "10                         0.0   80.074982  \n",
       "11                         0.0   91.205995  \n",
       "12                         0.0   97.909983  \n",
       "13                         0.0  100.939419  \n",
       "14                         0.0  103.918452  \n",
       "15                         0.0  106.734269  \n",
       "16                         0.0  104.569700  \n",
       "17                         0.0   94.283046  \n",
       "18                         0.0   79.490016  \n",
       "19                         0.0   67.097574  \n",
       "20                         0.0   59.361831  \n",
       "21                         0.0   51.751236  \n",
       "22                         0.0   39.577575  \n",
       "23                         0.0   24.864515  \n",
       "24                         0.0   14.341029  \n",
       "25                         0.0   10.912795  \n",
       "26                         0.0    9.824494  \n",
       "27                         0.0    5.175358  \n",
       "28                         0.0   -1.026924  \n",
       "29                         0.0    0.612532  \n",
       "30                         0.0   64.007986  \n",
       "31                         0.0   86.802917  \n",
       "32                         0.0   39.348503  \n",
       "33                         0.0   77.704581  \n",
       "34                         0.0   66.679113  \n",
       "35                         0.0  106.726311  "
      ]
     },
     "execution_count": 117,
     "metadata": {},
     "output_type": "execute_result"
    }
   ],
   "source": [
    "forecast"
   ]
  },
  {
   "cell_type": "code",
   "execution_count": null,
   "metadata": {},
   "outputs": [],
   "source": []
  }
 ],
 "metadata": {
  "kernelspec": {
   "display_name": "Python 3",
   "language": "python",
   "name": "python3"
  },
  "language_info": {
   "codemirror_mode": {
    "name": "ipython",
    "version": 3
   },
   "file_extension": ".py",
   "mimetype": "text/x-python",
   "name": "python",
   "nbconvert_exporter": "python",
   "pygments_lexer": "ipython3",
   "version": "3.7.4"
  }
 },
 "nbformat": 4,
 "nbformat_minor": 2
}
