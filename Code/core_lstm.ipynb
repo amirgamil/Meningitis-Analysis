{
 "cells": [
  {
   "cell_type": "markdown",
   "metadata": {},
   "source": [
    "# LSTM Tests \n",
    "This notebook will be a series of tests on the data that evaluate the potential of an LSTM model in forecasting the severity of an outbreak.\n",
    "\n",
    "Tasks:  \n",
    "\n",
    "1. MaxMin Scaler\n",
    "2. Experiment with window size\n",
    "3. Experiment with model architectures\n",
    "4. Experiment with z-scores  \n",
    "\n",
    "RMSE vs. Accuracy\n"
   ]
  },
  {
   "cell_type": "code",
   "execution_count": 2,
   "metadata": {},
   "outputs": [
    {
     "data": {
      "text/plain": [
       "<Figure size 640x480 with 1 Axes>"
      ]
     },
     "metadata": {},
     "output_type": "display_data"
    },
    {
     "name": "stdout",
     "output_type": "stream",
     "text": [
      "Benin\n",
      "Statistics=8.803, p=0.012\n",
      "Sample does not look Gaussian (reject H0)\n"
     ]
    },
    {
     "data": {
      "text/plain": [
       "<Figure size 640x480 with 1 Axes>"
      ]
     },
     "metadata": {},
     "output_type": "display_data"
    },
    {
     "name": "stdout",
     "output_type": "stream",
     "text": [
      "Burkina Faso\n",
      "Statistics=33.110, p=0.000\n",
      "Sample does not look Gaussian (reject H0)\n"
     ]
    },
    {
     "data": {
      "text/plain": [
       "<Figure size 640x480 with 1 Axes>"
      ]
     },
     "metadata": {},
     "output_type": "display_data"
    },
    {
     "name": "stdout",
     "output_type": "stream",
     "text": [
      "Ivory Coast\n",
      "Statistics=88.425, p=0.000\n",
      "Sample does not look Gaussian (reject H0)\n"
     ]
    },
    {
     "data": {
      "text/plain": [
       "<Figure size 640x480 with 1 Axes>"
      ]
     },
     "metadata": {},
     "output_type": "display_data"
    },
    {
     "name": "stdout",
     "output_type": "stream",
     "text": [
      "Ghana\n",
      "Statistics=117.618, p=0.000\n",
      "Sample does not look Gaussian (reject H0)\n"
     ]
    },
    {
     "data": {
      "text/plain": [
       "<Figure size 640x480 with 1 Axes>"
      ]
     },
     "metadata": {},
     "output_type": "display_data"
    },
    {
     "name": "stdout",
     "output_type": "stream",
     "text": [
      "Mali\n",
      "Statistics=1.080, p=0.583\n",
      "Sample looks Gaussian (fail to reject H0)\n"
     ]
    },
    {
     "data": {
      "text/plain": [
       "<Figure size 640x480 with 1 Axes>"
      ]
     },
     "metadata": {},
     "output_type": "display_data"
    },
    {
     "name": "stdout",
     "output_type": "stream",
     "text": [
      "Mauritania\n",
      "Statistics=130.257, p=0.000\n",
      "Sample does not look Gaussian (reject H0)\n"
     ]
    },
    {
     "data": {
      "text/plain": [
       "<Figure size 640x480 with 1 Axes>"
      ]
     },
     "metadata": {},
     "output_type": "display_data"
    },
    {
     "name": "stdout",
     "output_type": "stream",
     "text": [
      "Nigeria\n",
      "Statistics=45.750, p=0.000\n",
      "Sample does not look Gaussian (reject H0)\n"
     ]
    },
    {
     "data": {
      "text/plain": [
       "<Figure size 640x480 with 1 Axes>"
      ]
     },
     "metadata": {},
     "output_type": "display_data"
    },
    {
     "name": "stdout",
     "output_type": "stream",
     "text": [
      "Senegal\n",
      "Statistics=5.775, p=0.056\n",
      "Sample looks Gaussian (fail to reject H0)\n"
     ]
    },
    {
     "data": {
      "text/plain": [
       "<Figure size 640x480 with 1 Axes>"
      ]
     },
     "metadata": {},
     "output_type": "display_data"
    },
    {
     "name": "stdout",
     "output_type": "stream",
     "text": [
      "Chad\n",
      "Statistics=67.856, p=0.000\n",
      "Sample does not look Gaussian (reject H0)\n"
     ]
    },
    {
     "data": {
      "text/plain": [
       "<Figure size 640x480 with 1 Axes>"
      ]
     },
     "metadata": {},
     "output_type": "display_data"
    },
    {
     "name": "stdout",
     "output_type": "stream",
     "text": [
      "Togo\n",
      "Statistics=102.898, p=0.000\n",
      "Sample does not look Gaussian (reject H0)\n"
     ]
    },
    {
     "data": {
      "text/plain": [
       "<Figure size 640x480 with 1 Axes>"
      ]
     },
     "metadata": {},
     "output_type": "display_data"
    },
    {
     "name": "stdout",
     "output_type": "stream",
     "text": [
      "Cameroun\n",
      "Statistics=9.514, p=0.009\n",
      "Sample does not look Gaussian (reject H0)\n"
     ]
    },
    {
     "data": {
      "text/plain": [
       "<Figure size 640x480 with 1 Axes>"
      ]
     },
     "metadata": {},
     "output_type": "display_data"
    },
    {
     "name": "stdout",
     "output_type": "stream",
     "text": [
      "Guinea\n",
      "Statistics=45.050, p=0.000\n",
      "Sample does not look Gaussian (reject H0)\n"
     ]
    },
    {
     "data": {
      "text/plain": [
       "<Figure size 640x480 with 1 Axes>"
      ]
     },
     "metadata": {},
     "output_type": "display_data"
    },
    {
     "name": "stdout",
     "output_type": "stream",
     "text": [
      "Sudan\n",
      "Statistics=13.657, p=0.001\n",
      "Sample does not look Gaussian (reject H0)\n"
     ]
    },
    {
     "data": {
      "text/plain": [
       "<Figure size 640x480 with 1 Axes>"
      ]
     },
     "metadata": {},
     "output_type": "display_data"
    },
    {
     "name": "stdout",
     "output_type": "stream",
     "text": [
      "Niger\n",
      "Statistics=103.552, p=0.000\n",
      "Sample does not look Gaussian (reject H0)\n"
     ]
    },
    {
     "data": {
      "text/plain": [
       "<Figure size 640x480 with 1 Axes>"
      ]
     },
     "metadata": {},
     "output_type": "display_data"
    },
    {
     "name": "stdout",
     "output_type": "stream",
     "text": [
      "Centrafrique\n",
      "Statistics=36.278, p=0.000\n",
      "Sample does not look Gaussian (reject H0)\n"
     ]
    },
    {
     "data": {
      "text/plain": [
       "<Figure size 640x480 with 1 Axes>"
      ]
     },
     "metadata": {},
     "output_type": "display_data"
    },
    {
     "name": "stdout",
     "output_type": "stream",
     "text": [
      "South Sudan\n",
      "Statistics=108.957, p=0.000\n",
      "Sample does not look Gaussian (reject H0)\n"
     ]
    },
    {
     "data": {
      "text/plain": [
       "<Figure size 640x480 with 1 Axes>"
      ]
     },
     "metadata": {},
     "output_type": "display_data"
    },
    {
     "name": "stdout",
     "output_type": "stream",
     "text": [
      "Gambia\n",
      "Statistics=60.517, p=0.000\n",
      "Sample does not look Gaussian (reject H0)\n"
     ]
    },
    {
     "data": {
      "text/plain": [
       "<Figure size 640x480 with 1 Axes>"
      ]
     },
     "metadata": {},
     "output_type": "display_data"
    },
    {
     "name": "stdout",
     "output_type": "stream",
     "text": [
      "Dem. Rep. Congo\n",
      "Statistics=5.683, p=0.058\n",
      "Sample looks Gaussian (fail to reject H0)\n"
     ]
    },
    {
     "data": {
      "text/plain": [
       "<Figure size 640x480 with 1 Axes>"
      ]
     },
     "metadata": {},
     "output_type": "display_data"
    },
    {
     "name": "stdout",
     "output_type": "stream",
     "text": [
      "Ethiopia\n",
      "Statistics=0.431, p=0.806\n",
      "Sample looks Gaussian (fail to reject H0)\n"
     ]
    },
    {
     "data": {
      "text/plain": [
       "<Figure size 640x480 with 1 Axes>"
      ]
     },
     "metadata": {},
     "output_type": "display_data"
    },
    {
     "name": "stdout",
     "output_type": "stream",
     "text": [
      "Tanzania\n",
      "Statistics=16.171, p=0.000\n",
      "Sample does not look Gaussian (reject H0)\n",
      "2700\n"
     ]
    }
   ],
   "source": [
    "%run data_preprocessing.ipynb"
   ]
  },
  {
   "cell_type": "code",
   "execution_count": 233,
   "metadata": {},
   "outputs": [],
   "source": [
    "#imports\n",
    "import torch\n",
    "import torch.nn as nn\n",
    "import torch.nn.functional as F\n",
    "import torch.optim as optim\n",
    "from torch.utils.data import *\n",
    "import pandas \n",
    "import numpy\n",
    "import random\n",
    "from torch.autograd import Variable\n",
    "import matplotlib.pyplot as plt\n",
    "from sklearn.metrics import mean_squared_error"
   ]
  },
  {
   "cell_type": "code",
   "execution_count": 234,
   "metadata": {},
   "outputs": [],
   "source": [
    "class MeningitisDataset(Dataset):\n",
    "    def __init__(self, data):\n",
    "        self.data = data\n",
    "    \n",
    "    def __len__(self):\n",
    "        return len(self.data)\n",
    "    \n",
    "    def __getitem__(self, idx):\n",
    "        return self.data[idx]"
   ]
  },
  {
   "cell_type": "code",
   "execution_count": 162,
   "metadata": {},
   "outputs": [],
   "source": [
    "\"\"\" Notes\n",
    "1. Recurrent modules from nn will take a sequence and output a sequence of the same length - if building a many to one\n",
    "then can take last output of the sequence\n",
    "2. num_directions from documentation is 1 or 2 based on whether lstm is uni or bidirectional\n",
    "\n",
    "Input will by default have shape [seq_length, batch_size, features]\n",
    "Hidden state will have dimension [num_layers, batch_size, hidden_size]\n",
    "Output will by default have shape [seq_length, batch_size, hidden_size]\n",
    "\"\"\"\n",
    "class LSTM(nn.Module):\n",
    "    def __init__(self, input_dim=1, hidden_dim=10, output_dim=3, batch_size=1):\n",
    "        super().__init__()\n",
    "        self.hidden_layer_size = hidden_dim\n",
    "        self.batch_size = batch_size\n",
    "        self.lstm = nn.LSTM(input_dim, hidden_dim, 1, dropout=0.5)\n",
    "\n",
    "        self.linear = nn.Linear(hidden_dim, output_dim)\n",
    "        self.hidden_cell = (torch.randn(1, self.batch_size, hidden_dim),\n",
    "                            torch.randn(1, self.batch_size, hidden_dim))\n",
    "    def forward(self, x):\n",
    "        out_lstm, hidden_states = self.lstm(x.view(len(x[0]), self.batch_size, 1), self.hidden_cell)\n",
    "        #must call .contiguous because we are using mini-batches\n",
    "        out_lstm = out_lstm.contiguous().view(-1, self.hidden_layer_size)\n",
    "        predictions = self.linear(out_lstm)\n",
    "        #not sure if this is the right way to do it for a mini-batch since can't do predictions[-1]\n",
    "        return predictions[-self.batch_size:]\n",
    "    "
   ]
  },
  {
   "cell_type": "code",
   "execution_count": 239,
   "metadata": {},
   "outputs": [
    {
     "name": "stdout",
     "output_type": "stream",
     "text": [
      "LSTM(\n",
      "  (lstm): LSTM(1, 10, dropout=0.5)\n",
      "  (linear): Linear(in_features=10, out_features=3, bias=True)\n",
      ")\n"
     ]
    },
    {
     "name": "stderr",
     "output_type": "stream",
     "text": [
      "/opt/anaconda3/lib/python3.7/site-packages/torch/nn/modules/rnn.py:50: UserWarning: dropout option adds dropout after all but last recurrent layer, so non-zero dropout expects num_layers greater than 1, but got dropout=0.5 and num_layers=1\n",
      "  \"num_layers={}\".format(dropout, num_layers))\n"
     ]
    }
   ],
   "source": [
    "#Reshape input\n",
    "data = []\n",
    "for i in range(len(input_data)):\n",
    "    feature, label = input_data[i]\n",
    "    feature = torch.FloatTensor(feature).view(-1)\n",
    "    data.append((feature, label))\n",
    "\n",
    "\n",
    "#shuffle the data and separate it into training and testing\n",
    "random.shuffle(data)\n",
    "separation = int(0.8 * len(data))\n",
    "input_train_data = data[:separation]\n",
    "input_test_data = data[separation:]\n",
    "train_data = MeningitisDataset(input_train_data)\n",
    "test_data = MeningitisDataset(input_test_data)\n",
    "train_loader = DataLoader(train_data, batch_size = 1, shuffle=True)\n",
    "test_loader = DataLoader(test_data, batch_size=1, shuffle=False)\n",
    "\n",
    "dtype = torch.LongTensor\n",
    "model = LSTM(batch_size=1)\n",
    "model.dtype = dtype\n",
    "loss_function = nn.CrossEntropyLoss().type(dtype)\n",
    "optimizer = optim.Adam(model.parameters(), lr=5e-3)\n",
    "print(model)"
   ]
  },
  {
   "cell_type": "code",
   "execution_count": 243,
   "metadata": {},
   "outputs": [
    {
     "name": "stdout",
     "output_type": "stream",
     "text": [
      "Epoch  0  loss:  tensor(0.7543, grad_fn=<NllLossBackward>)\n",
      "Epoch  25  loss:  tensor(0.9888, grad_fn=<NllLossBackward>)\n",
      "Epoch  50  loss:  tensor(1.0848, grad_fn=<NllLossBackward>)\n",
      "Epoch  75  loss:  tensor(0.7531, grad_fn=<NllLossBackward>)\n",
      "Epoch  100  loss:  tensor(0.4848, grad_fn=<NllLossBackward>)\n",
      "Epoch  125  loss:  tensor(0.5736, grad_fn=<NllLossBackward>)\n"
     ]
    },
    {
     "data": {
      "text/plain": [
       "[<matplotlib.lines.Line2D at 0x1a2e289bd0>]"
      ]
     },
     "execution_count": 243,
     "metadata": {},
     "output_type": "execute_result"
    },
    {
     "data": {
      "image/png": "[encoded data removed]",
      "text/plain": [
       "<Figure size 432x288 with 1 Axes>"
      ]
     },
     "metadata": {
      "needs_background": "light"
     },
     "output_type": "display_data"
    }
   ],
   "source": [
    "#Training\n",
    "num_epochs = 50\n",
    "loss_values = []\n",
    "for epoch in range(100):\n",
    "    clip = 5\n",
    "    running_loss = 0\n",
    "    for idx, sample in enumerate(train_loader):\n",
    "        optimizer.zero_grad()\n",
    "        sample[0] = sample[0]\n",
    "        scores = model(sample[0]).view(-1, 3)\n",
    "        label = sample[1]\n",
    "        loss = loss_function(scores, label)\n",
    "        #backprop and calculate gradients\n",
    "        loss.backward()\n",
    "        #to prevent exploding gradient problem in LSTMs\n",
    "        nn.utils.clip_grad_norm_(model.parameters(), clip)\n",
    "        #update weights\n",
    "        optimizer.step()\n",
    "        running_loss += loss.item()\n",
    "    epoch_loss = running_loss / len(train_loader)\n",
    "    loss_values.append(epoch_loss)\n",
    "    if epoch%25 == 0:\n",
    "        print(\"Epoch \", epoch, \" loss: \", loss)\n",
    "\n",
    "plt.plot(loss_values)"
   ]
  },
  {
   "cell_type": "code",
   "execution_count": 244,
   "metadata": {},
   "outputs": [],
   "source": [
    "def check_accuracy(model, loader): \n",
    "    num_correct = 0\n",
    "    num_samples = 0\n",
    "    model.eval() # Put the model in test mode (the opposite of model.train(), essentially)\n",
    "    sum_rmse = 0\n",
    "    for idx, sample in enumerate(loader):\n",
    "        x = sample[0]\n",
    "        y = sample[1]\n",
    "        scores = model(x)\n",
    "        _, preds = scores.data.cpu().max(1)\n",
    "        num_correct += (preds == y).sum()\n",
    "        num_samples += preds.size(0)\n",
    "        sum_rmse += np.sqrt(mean_squared_error(preds, y.unsqueeze(-1)))*y.shape[0]\n",
    "    acc = float(num_correct) / num_samples\n",
    "    print('Got %d / %d correct (%.2f)' % (num_correct, num_samples, 100 * acc))\n",
    "    print(\"RMSE Loss: \", sum_rmse/num_samples)"
   ]
  },
  {
   "cell_type": "code",
   "execution_count": 245,
   "metadata": {},
   "outputs": [
    {
     "name": "stdout",
     "output_type": "stream",
     "text": [
      "Got 248 / 540 correct (45.93)\n",
      "RMSE Loss:  0.7\n"
     ]
    }
   ],
   "source": [
    "check_accuracy(model, test_loader)"
   ]
  },
  {
   "cell_type": "code",
   "execution_count": null,
   "metadata": {},
   "outputs": [],
   "source": []
  }
 ],
 "metadata": {
  "kernelspec": {
   "display_name": "Python 3",
   "language": "python",
   "name": "python3"
  },
  "language_info": {
   "codemirror_mode": {
    "name": "ipython",
    "version": 3
   },
   "file_extension": ".py",
   "mimetype": "text/x-python",
   "name": "python",
   "nbconvert_exporter": "python",
   "pygments_lexer": "ipython3",
   "version": "3.7.4"
  }
 },
 "nbformat": 4,
 "nbformat_minor": 2
}
