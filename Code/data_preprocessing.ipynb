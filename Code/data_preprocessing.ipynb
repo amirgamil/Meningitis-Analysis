{
 "cells": [
  {
   "cell_type": "code",
   "execution_count": 1,
   "metadata": {},
   "outputs": [],
   "source": [
    "import pandas as pd"
   ]
  },
  {
   "cell_type": "code",
   "execution_count": 6,
   "metadata": {},
   "outputs": [
    {
     "data": {
      "text/html": [
       "<div>\n",
       "<style scoped>\n",
       "    .dataframe tbody tr th:only-of-type {\n",
       "        vertical-align: middle;\n",
       "    }\n",
       "\n",
       "    .dataframe tbody tr th {\n",
       "        vertical-align: top;\n",
       "    }\n",
       "\n",
       "    .dataframe thead th {\n",
       "        text-align: right;\n",
       "    }\n",
       "</style>\n",
       "<table border=\"1\" class=\"dataframe\">\n",
       "  <thead>\n",
       "    <tr style=\"text-align: right;\">\n",
       "      <th></th>\n",
       "      <th>Country</th>\n",
       "      <th>Date</th>\n",
       "      <th>Cases</th>\n",
       "      <th>Deaths</th>\n",
       "      <th>Summary</th>\n",
       "    </tr>\n",
       "  </thead>\n",
       "  <tbody>\n",
       "    <tr>\n",
       "      <td>0</td>\n",
       "      <td>Benin</td>\n",
       "      <td>12/30/13</td>\n",
       "      <td>11</td>\n",
       "      <td>0.0</td>\n",
       "      <td>Two districts crossed the alert threshold at t...</td>\n",
       "    </tr>\n",
       "    <tr>\n",
       "      <td>1</td>\n",
       "      <td>Burkina Faso</td>\n",
       "      <td>12/30/13</td>\n",
       "      <td>88</td>\n",
       "      <td>13.0</td>\n",
       "      <td>Two districts crossed the alert threshold at t...</td>\n",
       "    </tr>\n",
       "    <tr>\n",
       "      <td>2</td>\n",
       "      <td>Côte d'Ivoire</td>\n",
       "      <td>12/30/13</td>\n",
       "      <td>3</td>\n",
       "      <td>2.0</td>\n",
       "      <td>Two districts crossed the alert threshold at t...</td>\n",
       "    </tr>\n",
       "    <tr>\n",
       "      <td>3</td>\n",
       "      <td>Ghana</td>\n",
       "      <td>12/30/13</td>\n",
       "      <td>3</td>\n",
       "      <td>0.0</td>\n",
       "      <td>Two districts crossed the alert threshold at t...</td>\n",
       "    </tr>\n",
       "    <tr>\n",
       "      <td>4</td>\n",
       "      <td>Mali</td>\n",
       "      <td>12/30/13</td>\n",
       "      <td>0</td>\n",
       "      <td>0.0</td>\n",
       "      <td>Two districts crossed the alert threshold at t...</td>\n",
       "    </tr>\n",
       "  </tbody>\n",
       "</table>\n",
       "</div>"
      ],
      "text/plain": [
       "         Country      Date  Cases  Deaths  \\\n",
       "0          Benin  12/30/13     11     0.0   \n",
       "1   Burkina Faso  12/30/13     88    13.0   \n",
       "2  Côte d'Ivoire  12/30/13      3     2.0   \n",
       "3          Ghana  12/30/13      3     0.0   \n",
       "4           Mali  12/30/13      0     0.0   \n",
       "\n",
       "                                             Summary  \n",
       "0  Two districts crossed the alert threshold at t...  \n",
       "1  Two districts crossed the alert threshold at t...  \n",
       "2  Two districts crossed the alert threshold at t...  \n",
       "3  Two districts crossed the alert threshold at t...  \n",
       "4  Two districts crossed the alert threshold at t...  "
      ]
     },
     "execution_count": 6,
     "metadata": {},
     "output_type": "execute_result"
    }
   ],
   "source": [
    "data = pd.read_csv(\"../Current_Data/New_data.csv\", usecols=['Country','Date','Cases','Deaths','Summary'])\n",
    "data.head()"
   ]
  },
  {
   "cell_type": "code",
   "execution_count": null,
   "metadata": {},
   "outputs": [],
   "source": [
    "country_list = []"
   ]
  }
 ],
 "metadata": {
  "kernelspec": {
   "display_name": "Python 3",
   "language": "python",
   "name": "python3"
  },
  "language_info": {
   "codemirror_mode": {
    "name": "ipython",
    "version": 3
   },
   "file_extension": ".py",
   "mimetype": "text/x-python",
   "name": "python",
   "nbconvert_exporter": "python",
   "pygments_lexer": "ipython3",
   "version": "3.7.4"
  }
 },
 "nbformat": 4,
 "nbformat_minor": 2
}
