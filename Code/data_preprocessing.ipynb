{
 "cells": [
  {
   "cell_type": "code",
   "execution_count": 56,
   "metadata": {},
   "outputs": [],
   "source": [
    "import pandas as pd\n",
    "import torch\n",
    "import numpy as np\n",
    "from datetime import datetime\n",
    "import numpy as np\n",
    "import matplotlib.pyplot as plt\n",
    "from scipy.stats import normaltest\n",
    "from sklearn.preprocessing import MinMaxScaler\n",
    "import random\n",
    "import copy"
   ]
  },
  {
   "cell_type": "code",
   "execution_count": 3,
   "metadata": {},
   "outputs": [
    {
     "data": {
      "text/html": [
       "<div>\n",
       "<style scoped>\n",
       "    .dataframe tbody tr th:only-of-type {\n",
       "        vertical-align: middle;\n",
       "    }\n",
       "\n",
       "    .dataframe tbody tr th {\n",
       "        vertical-align: top;\n",
       "    }\n",
       "\n",
       "    .dataframe thead th {\n",
       "        text-align: right;\n",
       "    }\n",
       "</style>\n",
       "<table border=\"1\" class=\"dataframe\">\n",
       "  <thead>\n",
       "    <tr style=\"text-align: right;\">\n",
       "      <th></th>\n",
       "      <th>Country</th>\n",
       "      <th>Date</th>\n",
       "      <th>Cases</th>\n",
       "      <th>Deaths</th>\n",
       "      <th>Summary</th>\n",
       "    </tr>\n",
       "  </thead>\n",
       "  <tbody>\n",
       "    <tr>\n",
       "      <td>0</td>\n",
       "      <td>Benin</td>\n",
       "      <td>2014-01-01</td>\n",
       "      <td>11</td>\n",
       "      <td>0.0</td>\n",
       "      <td>Two districts crossed the alert threshold at t...</td>\n",
       "    </tr>\n",
       "    <tr>\n",
       "      <td>1</td>\n",
       "      <td>Burkina Faso</td>\n",
       "      <td>2014-01-01</td>\n",
       "      <td>88</td>\n",
       "      <td>13.0</td>\n",
       "      <td>Two districts crossed the alert threshold at t...</td>\n",
       "    </tr>\n",
       "    <tr>\n",
       "      <td>2</td>\n",
       "      <td>Ivory Coast</td>\n",
       "      <td>2014-01-01</td>\n",
       "      <td>3</td>\n",
       "      <td>2.0</td>\n",
       "      <td>Two districts crossed the alert threshold at t...</td>\n",
       "    </tr>\n",
       "    <tr>\n",
       "      <td>3</td>\n",
       "      <td>Ghana</td>\n",
       "      <td>2014-01-01</td>\n",
       "      <td>3</td>\n",
       "      <td>0.0</td>\n",
       "      <td>Two districts crossed the alert threshold at t...</td>\n",
       "    </tr>\n",
       "    <tr>\n",
       "      <td>4</td>\n",
       "      <td>Mali</td>\n",
       "      <td>2014-01-01</td>\n",
       "      <td>0</td>\n",
       "      <td>0.0</td>\n",
       "      <td>Two districts crossed the alert threshold at t...</td>\n",
       "    </tr>\n",
       "  </tbody>\n",
       "</table>\n",
       "</div>"
      ],
      "text/plain": [
       "        Country       Date  Cases  Deaths  \\\n",
       "0         Benin 2014-01-01     11     0.0   \n",
       "1  Burkina Faso 2014-01-01     88    13.0   \n",
       "2   Ivory Coast 2014-01-01      3     2.0   \n",
       "3         Ghana 2014-01-01      3     0.0   \n",
       "4          Mali 2014-01-01      0     0.0   \n",
       "\n",
       "                                             Summary  \n",
       "0  Two districts crossed the alert threshold at t...  \n",
       "1  Two districts crossed the alert threshold at t...  \n",
       "2  Two districts crossed the alert threshold at t...  \n",
       "3  Two districts crossed the alert threshold at t...  \n",
       "4  Two districts crossed the alert threshold at t...  "
      ]
     },
     "execution_count": 3,
     "metadata": {},
     "output_type": "execute_result"
    }
   ],
   "source": [
    "data = pd.read_csv(\"../Current_Data/New_data_updated_names.csv\", usecols=['Country','Date','Cases','Deaths','Summary'], \n",
    "                  parse_dates=[\"Date\"])\n",
    "data.head()"
   ]
  },
  {
   "cell_type": "code",
   "execution_count": 4,
   "metadata": {},
   "outputs": [
    {
     "data": {
      "text/plain": [
       "8"
      ]
     },
     "execution_count": 4,
     "metadata": {},
     "output_type": "execute_result"
    }
   ],
   "source": [
    "country_list = ['Benin', 'Burkina Faso', 'Burundi', 'Cameroun', 'Centrafrique', \"Ivory Coast\", 'Ethiopia', 'Ghana',\n",
    "               'Guinea', 'Guinea Bissau', 'Gambia', 'Kenya', 'Mali', 'Mauritania', 'Niger', 'Nigeria', 'Dem. Rep. Congo', \n",
    "                'Senegal' , 'South Sudan', 'Sudan', 'Sierra Lone', 'Tanzania', 'Chad', 'Togo', 'Uganda']\n",
    "bordering_countries = {\"Benin\": [\"Togo\", \"Nigeria\", \"Niger\", \"Burkina Faso\"], \n",
    "                       \"Burkina Faso\": [\"Mali\", \"Niger\", \"Benin\" ,\"Togo\", \"Ghana\", \"Ivory Coast\"], \n",
    "                       \"Burundi\": [\"Dem. Rep. Congo\", \"Tanzania\"], \n",
    "                       \"Cameroun\": [\"Centrafrique\", \"Nigeria\", \"Guinea\", \"Chad\"], \n",
    "                       \"Centrafrique\": [\"Cameroun\", \"Sudan\", \"South Sudan\",\"Dem. Rep. Congo\", \"Chad\"], \n",
    "                       \"Ivory Coast\": [\"Ghana\", \"Mali\", \"Burkina Faso\"], \n",
    "                       \"Ethiopia\": [\"Sudan\", \"South Sudan\", \"Kenya\"], \n",
    "                       \"Ghana\":[\"Guinea\", \"Ivory Coast\", \"Burkina Faso\", \"Togo\"], \n",
    "                       \"Guinea\":[\"Ivory Coast\", \"Guinea Bissau\", \"Mali\", \"Senegal\", \"Sierra Lone\"], \n",
    "                       \"Guinea Bissau\": [\"Senegal\", \"Guinea\"], \n",
    "                       \"Gambia\":[\"Senegal\"], \n",
    "                       \"Kenya\": [\"Ethiopia\", \"South Sudan\", \"Uganda\"],\n",
    "                       \"Mali\": [\"Niger\", \"Burkina Faso\", \"Ivory Coast\", \"Guinea\", \"Mauritania\", \"Senegal\"], \n",
    "                       \"Mauritania\":[\"Mali\", \"Senegal\"], \n",
    "                       \"Niger\": [\"Benin\", \"Nigeria\", \"Burkina Faso\", \"Mali\", \"Chad\"], \n",
    "                       \"Nigeria\": [\"Benin\", \"Cameroun\", \"Niger\", \"Chad\"], \n",
    "                       \"Dem. Rep. Congo\": [\"Burundi\", \"Centrafrique\", \"South Sudan\", \"Tanzania\", \"Uganda\"], \n",
    "                       \"Senegal\":[\"Gambia\", \"Guinea\", \"Guinea Bissau\", \"Mali\",\"Mauritania\"], \n",
    "                       \"South Sudan\":[\"Sudan\", \"Ethiopia\", \"Kenya\", \"Dem. Rep. Congo\", \"Uganda\",\"Centrafrique\"], \n",
    "                       \"Sudan\":[\"Ethiopia\", \"South Sudan\", \"Centrafrique\", \"Chad\"], \n",
    "                       \"Sierra Lone\": [\"Guinea\"], \n",
    "                       \"Tanzania\":[\"Kenya\", \"Uganda\", \"Burundi\", \"Dem. Rep. Congo\"], \n",
    "                       \"Chad\":[\"Sudan\", \"Centrafrique\", \"Cameroun\", \"Niger\", \"Nigeria\"], \n",
    "                       \"Togo\":[\"Ghana\", \"Burkina Faso\",\"Benin\", \"Guinea\"],\n",
    "                       \"Uganda\":[\"Kenya\", \"South Sudan\", \"Dem. Rep. Congo\", \"Tanzania\"]}\n",
    "#this lambda function returns the index of the country from the corresponding country_list array\n",
    "get_indices = lambda x: country_list.index(str(x).rstrip())\n",
    "country_list.index(\"Guinea\")"
   ]
  },
  {
   "cell_type": "code",
   "execution_count": 5,
   "metadata": {},
   "outputs": [
    {
     "data": {
      "text/html": [
       "<div>\n",
       "<style scoped>\n",
       "    .dataframe tbody tr th:only-of-type {\n",
       "        vertical-align: middle;\n",
       "    }\n",
       "\n",
       "    .dataframe tbody tr th {\n",
       "        vertical-align: top;\n",
       "    }\n",
       "\n",
       "    .dataframe thead th {\n",
       "        text-align: right;\n",
       "    }\n",
       "</style>\n",
       "<table border=\"1\" class=\"dataframe\">\n",
       "  <thead>\n",
       "    <tr style=\"text-align: right;\">\n",
       "      <th></th>\n",
       "      <th>Country</th>\n",
       "      <th>Date</th>\n",
       "      <th>Cases</th>\n",
       "      <th>Deaths</th>\n",
       "      <th>Summary</th>\n",
       "      <th>Bordering Countries</th>\n",
       "    </tr>\n",
       "  </thead>\n",
       "  <tbody>\n",
       "    <tr>\n",
       "      <td>0</td>\n",
       "      <td>0</td>\n",
       "      <td>2014-01-01</td>\n",
       "      <td>11</td>\n",
       "      <td>0.0</td>\n",
       "      <td>Two districts crossed the alert threshold at t...</td>\n",
       "      <td>[23, 15, 14, 1]</td>\n",
       "    </tr>\n",
       "    <tr>\n",
       "      <td>1</td>\n",
       "      <td>1</td>\n",
       "      <td>2014-01-01</td>\n",
       "      <td>88</td>\n",
       "      <td>13.0</td>\n",
       "      <td>Two districts crossed the alert threshold at t...</td>\n",
       "      <td>[12, 14, 0, 23, 7, 5]</td>\n",
       "    </tr>\n",
       "    <tr>\n",
       "      <td>2</td>\n",
       "      <td>5</td>\n",
       "      <td>2014-01-01</td>\n",
       "      <td>3</td>\n",
       "      <td>2.0</td>\n",
       "      <td>Two districts crossed the alert threshold at t...</td>\n",
       "      <td>[7, 12, 1]</td>\n",
       "    </tr>\n",
       "    <tr>\n",
       "      <td>3</td>\n",
       "      <td>7</td>\n",
       "      <td>2014-01-01</td>\n",
       "      <td>3</td>\n",
       "      <td>0.0</td>\n",
       "      <td>Two districts crossed the alert threshold at t...</td>\n",
       "      <td>[8, 5, 1, 23]</td>\n",
       "    </tr>\n",
       "    <tr>\n",
       "      <td>4</td>\n",
       "      <td>12</td>\n",
       "      <td>2014-01-01</td>\n",
       "      <td>0</td>\n",
       "      <td>0.0</td>\n",
       "      <td>Two districts crossed the alert threshold at t...</td>\n",
       "      <td>[14, 1, 5, 8, 13, 17]</td>\n",
       "    </tr>\n",
       "    <tr>\n",
       "      <td>5</td>\n",
       "      <td>13</td>\n",
       "      <td>2014-01-01</td>\n",
       "      <td>0</td>\n",
       "      <td>0.0</td>\n",
       "      <td>Two districts crossed the alert threshold at t...</td>\n",
       "      <td>[12, 17]</td>\n",
       "    </tr>\n",
       "    <tr>\n",
       "      <td>6</td>\n",
       "      <td>15</td>\n",
       "      <td>2014-01-01</td>\n",
       "      <td>0</td>\n",
       "      <td>0.0</td>\n",
       "      <td>Two districts crossed the alert threshold at t...</td>\n",
       "      <td>[0, 3, 14, 22]</td>\n",
       "    </tr>\n",
       "    <tr>\n",
       "      <td>7</td>\n",
       "      <td>17</td>\n",
       "      <td>2014-01-01</td>\n",
       "      <td>3</td>\n",
       "      <td>0.0</td>\n",
       "      <td>Two districts crossed the alert threshold at t...</td>\n",
       "      <td>[10, 8, 9, 12, 13]</td>\n",
       "    </tr>\n",
       "    <tr>\n",
       "      <td>8</td>\n",
       "      <td>22</td>\n",
       "      <td>2014-01-01</td>\n",
       "      <td>7</td>\n",
       "      <td>0.0</td>\n",
       "      <td>Two districts crossed the alert threshold at t...</td>\n",
       "      <td>[19, 4, 3, 14, 15]</td>\n",
       "    </tr>\n",
       "    <tr>\n",
       "      <td>9</td>\n",
       "      <td>23</td>\n",
       "      <td>2014-01-01</td>\n",
       "      <td>7</td>\n",
       "      <td>0.0</td>\n",
       "      <td>Two districts crossed the alert threshold at t...</td>\n",
       "      <td>[7, 1, 0, 8]</td>\n",
       "    </tr>\n",
       "    <tr>\n",
       "      <td>10</td>\n",
       "      <td>0</td>\n",
       "      <td>2014-01-06</td>\n",
       "      <td>14</td>\n",
       "      <td>3.0</td>\n",
       "      <td>At the second week of the 2014 epidemic season...</td>\n",
       "      <td>[23, 15, 14, 1]</td>\n",
       "    </tr>\n",
       "    <tr>\n",
       "      <td>11</td>\n",
       "      <td>1</td>\n",
       "      <td>2014-01-06</td>\n",
       "      <td>97</td>\n",
       "      <td>9.0</td>\n",
       "      <td>At the second week of the 2014 epidemic season...</td>\n",
       "      <td>[12, 14, 0, 23, 7, 5]</td>\n",
       "    </tr>\n",
       "    <tr>\n",
       "      <td>12</td>\n",
       "      <td>3</td>\n",
       "      <td>2014-01-06</td>\n",
       "      <td>10</td>\n",
       "      <td>2.0</td>\n",
       "      <td>At the second week of the 2014 epidemic season...</td>\n",
       "      <td>[4, 15, 8, 22]</td>\n",
       "    </tr>\n",
       "    <tr>\n",
       "      <td>13</td>\n",
       "      <td>7</td>\n",
       "      <td>2014-01-06</td>\n",
       "      <td>16</td>\n",
       "      <td>1.0</td>\n",
       "      <td>At the second week of the 2014 epidemic season...</td>\n",
       "      <td>[8, 5, 1, 23]</td>\n",
       "    </tr>\n",
       "    <tr>\n",
       "      <td>14</td>\n",
       "      <td>8</td>\n",
       "      <td>2014-01-06</td>\n",
       "      <td>4</td>\n",
       "      <td>1.0</td>\n",
       "      <td>At the second week of the 2014 epidemic season...</td>\n",
       "      <td>[5, 9, 12, 17, 20]</td>\n",
       "    </tr>\n",
       "    <tr>\n",
       "      <td>15</td>\n",
       "      <td>12</td>\n",
       "      <td>2014-01-06</td>\n",
       "      <td>1</td>\n",
       "      <td>0.0</td>\n",
       "      <td>At the second week of the 2014 epidemic season...</td>\n",
       "      <td>[14, 1, 5, 8, 13, 17]</td>\n",
       "    </tr>\n",
       "    <tr>\n",
       "      <td>16</td>\n",
       "      <td>13</td>\n",
       "      <td>2014-01-06</td>\n",
       "      <td>0</td>\n",
       "      <td>0.0</td>\n",
       "      <td>At the second week of the 2014 epidemic season...</td>\n",
       "      <td>[12, 17]</td>\n",
       "    </tr>\n",
       "    <tr>\n",
       "      <td>17</td>\n",
       "      <td>15</td>\n",
       "      <td>2014-01-06</td>\n",
       "      <td>3</td>\n",
       "      <td>0.0</td>\n",
       "      <td>At the second week of the 2014 epidemic season...</td>\n",
       "      <td>[0, 3, 14, 22]</td>\n",
       "    </tr>\n",
       "    <tr>\n",
       "      <td>18</td>\n",
       "      <td>17</td>\n",
       "      <td>2014-01-06</td>\n",
       "      <td>7</td>\n",
       "      <td>0.0</td>\n",
       "      <td>At the second week of the 2014 epidemic season...</td>\n",
       "      <td>[10, 8, 9, 12, 13]</td>\n",
       "    </tr>\n",
       "    <tr>\n",
       "      <td>19</td>\n",
       "      <td>19</td>\n",
       "      <td>2014-01-06</td>\n",
       "      <td>0</td>\n",
       "      <td>0.0</td>\n",
       "      <td>At the second week of the 2014 epidemic season...</td>\n",
       "      <td>[6, 18, 4, 22]</td>\n",
       "    </tr>\n",
       "    <tr>\n",
       "      <td>20</td>\n",
       "      <td>22</td>\n",
       "      <td>2014-01-06</td>\n",
       "      <td>6</td>\n",
       "      <td>0.0</td>\n",
       "      <td>At the second week of the 2014 epidemic season...</td>\n",
       "      <td>[19, 4, 3, 14, 15]</td>\n",
       "    </tr>\n",
       "  </tbody>\n",
       "</table>\n",
       "</div>"
      ],
      "text/plain": [
       "    Country       Date  Cases  Deaths  \\\n",
       "0         0 2014-01-01     11     0.0   \n",
       "1         1 2014-01-01     88    13.0   \n",
       "2         5 2014-01-01      3     2.0   \n",
       "3         7 2014-01-01      3     0.0   \n",
       "4        12 2014-01-01      0     0.0   \n",
       "5        13 2014-01-01      0     0.0   \n",
       "6        15 2014-01-01      0     0.0   \n",
       "7        17 2014-01-01      3     0.0   \n",
       "8        22 2014-01-01      7     0.0   \n",
       "9        23 2014-01-01      7     0.0   \n",
       "10        0 2014-01-06     14     3.0   \n",
       "11        1 2014-01-06     97     9.0   \n",
       "12        3 2014-01-06     10     2.0   \n",
       "13        7 2014-01-06     16     1.0   \n",
       "14        8 2014-01-06      4     1.0   \n",
       "15       12 2014-01-06      1     0.0   \n",
       "16       13 2014-01-06      0     0.0   \n",
       "17       15 2014-01-06      3     0.0   \n",
       "18       17 2014-01-06      7     0.0   \n",
       "19       19 2014-01-06      0     0.0   \n",
       "20       22 2014-01-06      6     0.0   \n",
       "\n",
       "                                              Summary    Bordering Countries  \n",
       "0   Two districts crossed the alert threshold at t...        [23, 15, 14, 1]  \n",
       "1   Two districts crossed the alert threshold at t...  [12, 14, 0, 23, 7, 5]  \n",
       "2   Two districts crossed the alert threshold at t...             [7, 12, 1]  \n",
       "3   Two districts crossed the alert threshold at t...          [8, 5, 1, 23]  \n",
       "4   Two districts crossed the alert threshold at t...  [14, 1, 5, 8, 13, 17]  \n",
       "5   Two districts crossed the alert threshold at t...               [12, 17]  \n",
       "6   Two districts crossed the alert threshold at t...         [0, 3, 14, 22]  \n",
       "7   Two districts crossed the alert threshold at t...     [10, 8, 9, 12, 13]  \n",
       "8   Two districts crossed the alert threshold at t...     [19, 4, 3, 14, 15]  \n",
       "9   Two districts crossed the alert threshold at t...           [7, 1, 0, 8]  \n",
       "10  At the second week of the 2014 epidemic season...        [23, 15, 14, 1]  \n",
       "11  At the second week of the 2014 epidemic season...  [12, 14, 0, 23, 7, 5]  \n",
       "12  At the second week of the 2014 epidemic season...         [4, 15, 8, 22]  \n",
       "13  At the second week of the 2014 epidemic season...          [8, 5, 1, 23]  \n",
       "14  At the second week of the 2014 epidemic season...     [5, 9, 12, 17, 20]  \n",
       "15  At the second week of the 2014 epidemic season...  [14, 1, 5, 8, 13, 17]  \n",
       "16  At the second week of the 2014 epidemic season...               [12, 17]  \n",
       "17  At the second week of the 2014 epidemic season...         [0, 3, 14, 22]  \n",
       "18  At the second week of the 2014 epidemic season...     [10, 8, 9, 12, 13]  \n",
       "19  At the second week of the 2014 epidemic season...         [6, 18, 4, 22]  \n",
       "20  At the second week of the 2014 epidemic season...     [19, 4, 3, 14, 15]  "
      ]
     },
     "execution_count": 5,
     "metadata": {},
     "output_type": "execute_result"
    }
   ],
   "source": [
    "#creates a list of bordering countries for each datapoint with the countries represented as indices of country_list array\n",
    "data_bordering_countries = pd.DataFrame(data[\"Country\"].apply(lambda x: \n",
    "                                                              list(\n",
    "                                                                  map(get_indices, \n",
    "                                                                      bordering_countries[str(x).rstrip()]))\n",
    "                                                                   ))\n",
    "data.insert(5, \"Bordering Countries\", data_bordering_countries)\n",
    "#replace country names in country column with corresponding indices from country_list array\n",
    "data[\"Country\"] = data[\"Country\"].apply(lambda x: country_list.index(str(x).rstrip()))\n",
    "data.loc[0:20]"
   ]
  },
  {
   "cell_type": "code",
   "execution_count": 6,
   "metadata": {},
   "outputs": [],
   "source": [
    "def find_next_batch(count):\n",
    "    initialCount = count\n",
    "    found = False\n",
    "    while not found:\n",
    "        count += 1\n",
    "        if count == len(data) - 1 or data[\"Date\"].loc[count + 1] != data[\"Date\"].loc[count]:\n",
    "            found = True\n",
    "            break\n",
    "    return data.iloc[initialCount:count+1]"
   ]
  },
  {
   "cell_type": "code",
   "execution_count": 7,
   "metadata": {},
   "outputs": [
    {
     "data": {
      "text/html": [
       "<div>\n",
       "<style scoped>\n",
       "    .dataframe tbody tr th:only-of-type {\n",
       "        vertical-align: middle;\n",
       "    }\n",
       "\n",
       "    .dataframe tbody tr th {\n",
       "        vertical-align: top;\n",
       "    }\n",
       "\n",
       "    .dataframe thead th {\n",
       "        text-align: right;\n",
       "    }\n",
       "</style>\n",
       "<table border=\"1\" class=\"dataframe\">\n",
       "  <thead>\n",
       "    <tr style=\"text-align: right;\">\n",
       "      <th></th>\n",
       "      <th>Country</th>\n",
       "      <th>Date</th>\n",
       "      <th>Cases</th>\n",
       "      <th>Deaths</th>\n",
       "      <th>Summary</th>\n",
       "      <th>Bordering Countries</th>\n",
       "    </tr>\n",
       "  </thead>\n",
       "  <tbody>\n",
       "    <tr>\n",
       "      <td>0</td>\n",
       "      <td>0</td>\n",
       "      <td>2014-01-01</td>\n",
       "      <td>11</td>\n",
       "      <td>0.0</td>\n",
       "      <td>Two districts crossed the alert threshold at t...</td>\n",
       "      <td>[23, 15, 14, 1]</td>\n",
       "    </tr>\n",
       "    <tr>\n",
       "      <td>1</td>\n",
       "      <td>1</td>\n",
       "      <td>2014-01-01</td>\n",
       "      <td>88</td>\n",
       "      <td>13.0</td>\n",
       "      <td>Two districts crossed the alert threshold at t...</td>\n",
       "      <td>[12, 14, 0, 23, 7, 5]</td>\n",
       "    </tr>\n",
       "    <tr>\n",
       "      <td>2</td>\n",
       "      <td>5</td>\n",
       "      <td>2014-01-01</td>\n",
       "      <td>3</td>\n",
       "      <td>2.0</td>\n",
       "      <td>Two districts crossed the alert threshold at t...</td>\n",
       "      <td>[7, 12, 1]</td>\n",
       "    </tr>\n",
       "    <tr>\n",
       "      <td>3</td>\n",
       "      <td>7</td>\n",
       "      <td>2014-01-01</td>\n",
       "      <td>3</td>\n",
       "      <td>0.0</td>\n",
       "      <td>Two districts crossed the alert threshold at t...</td>\n",
       "      <td>[8, 5, 1, 23]</td>\n",
       "    </tr>\n",
       "    <tr>\n",
       "      <td>4</td>\n",
       "      <td>12</td>\n",
       "      <td>2014-01-01</td>\n",
       "      <td>0</td>\n",
       "      <td>0.0</td>\n",
       "      <td>Two districts crossed the alert threshold at t...</td>\n",
       "      <td>[14, 1, 5, 8, 13, 17]</td>\n",
       "    </tr>\n",
       "    <tr>\n",
       "      <td>5</td>\n",
       "      <td>13</td>\n",
       "      <td>2014-01-01</td>\n",
       "      <td>0</td>\n",
       "      <td>0.0</td>\n",
       "      <td>Two districts crossed the alert threshold at t...</td>\n",
       "      <td>[12, 17]</td>\n",
       "    </tr>\n",
       "    <tr>\n",
       "      <td>6</td>\n",
       "      <td>15</td>\n",
       "      <td>2014-01-01</td>\n",
       "      <td>0</td>\n",
       "      <td>0.0</td>\n",
       "      <td>Two districts crossed the alert threshold at t...</td>\n",
       "      <td>[0, 3, 14, 22]</td>\n",
       "    </tr>\n",
       "    <tr>\n",
       "      <td>7</td>\n",
       "      <td>17</td>\n",
       "      <td>2014-01-01</td>\n",
       "      <td>3</td>\n",
       "      <td>0.0</td>\n",
       "      <td>Two districts crossed the alert threshold at t...</td>\n",
       "      <td>[10, 8, 9, 12, 13]</td>\n",
       "    </tr>\n",
       "    <tr>\n",
       "      <td>8</td>\n",
       "      <td>22</td>\n",
       "      <td>2014-01-01</td>\n",
       "      <td>7</td>\n",
       "      <td>0.0</td>\n",
       "      <td>Two districts crossed the alert threshold at t...</td>\n",
       "      <td>[19, 4, 3, 14, 15]</td>\n",
       "    </tr>\n",
       "    <tr>\n",
       "      <td>9</td>\n",
       "      <td>23</td>\n",
       "      <td>2014-01-01</td>\n",
       "      <td>7</td>\n",
       "      <td>0.0</td>\n",
       "      <td>Two districts crossed the alert threshold at t...</td>\n",
       "      <td>[7, 1, 0, 8]</td>\n",
       "    </tr>\n",
       "  </tbody>\n",
       "</table>\n",
       "</div>"
      ],
      "text/plain": [
       "   Country       Date  Cases  Deaths  \\\n",
       "0        0 2014-01-01     11     0.0   \n",
       "1        1 2014-01-01     88    13.0   \n",
       "2        5 2014-01-01      3     2.0   \n",
       "3        7 2014-01-01      3     0.0   \n",
       "4       12 2014-01-01      0     0.0   \n",
       "5       13 2014-01-01      0     0.0   \n",
       "6       15 2014-01-01      0     0.0   \n",
       "7       17 2014-01-01      3     0.0   \n",
       "8       22 2014-01-01      7     0.0   \n",
       "9       23 2014-01-01      7     0.0   \n",
       "\n",
       "                                             Summary    Bordering Countries  \n",
       "0  Two districts crossed the alert threshold at t...        [23, 15, 14, 1]  \n",
       "1  Two districts crossed the alert threshold at t...  [12, 14, 0, 23, 7, 5]  \n",
       "2  Two districts crossed the alert threshold at t...             [7, 12, 1]  \n",
       "3  Two districts crossed the alert threshold at t...          [8, 5, 1, 23]  \n",
       "4  Two districts crossed the alert threshold at t...  [14, 1, 5, 8, 13, 17]  \n",
       "5  Two districts crossed the alert threshold at t...               [12, 17]  \n",
       "6  Two districts crossed the alert threshold at t...         [0, 3, 14, 22]  \n",
       "7  Two districts crossed the alert threshold at t...     [10, 8, 9, 12, 13]  \n",
       "8  Two districts crossed the alert threshold at t...     [19, 4, 3, 14, 15]  \n",
       "9  Two districts crossed the alert threshold at t...           [7, 1, 0, 8]  "
      ]
     },
     "execution_count": 7,
     "metadata": {},
     "output_type": "execute_result"
    }
   ],
   "source": [
    "find_next_batch(0)"
   ]
  },
  {
   "cell_type": "code",
   "execution_count": 8,
   "metadata": {},
   "outputs": [
    {
     "data": {
      "text/html": [
       "<div>\n",
       "<style scoped>\n",
       "    .dataframe tbody tr th:only-of-type {\n",
       "        vertical-align: middle;\n",
       "    }\n",
       "\n",
       "    .dataframe tbody tr th {\n",
       "        vertical-align: top;\n",
       "    }\n",
       "\n",
       "    .dataframe thead th {\n",
       "        text-align: right;\n",
       "    }\n",
       "</style>\n",
       "<table border=\"1\" class=\"dataframe\">\n",
       "  <thead>\n",
       "    <tr style=\"text-align: right;\">\n",
       "      <th></th>\n",
       "      <th>Country</th>\n",
       "      <th>Date</th>\n",
       "      <th>Cases</th>\n",
       "      <th>Deaths</th>\n",
       "      <th>Summary</th>\n",
       "      <th>Bordering Countries</th>\n",
       "    </tr>\n",
       "  </thead>\n",
       "  <tbody>\n",
       "    <tr>\n",
       "      <td>57</td>\n",
       "      <td>5</td>\n",
       "      <td>2014-02-03</td>\n",
       "      <td>8</td>\n",
       "      <td>1.0</td>\n",
       "      <td>At the week 6 of the 2014 epidemic season, thr...</td>\n",
       "      <td>[7, 12, 1]</td>\n",
       "    </tr>\n",
       "    <tr>\n",
       "      <td>58</td>\n",
       "      <td>7</td>\n",
       "      <td>2014-02-03</td>\n",
       "      <td>10</td>\n",
       "      <td>2.0</td>\n",
       "      <td>At the week 6 of the 2014 epidemic season, thr...</td>\n",
       "      <td>[8, 5, 1, 23]</td>\n",
       "    </tr>\n",
       "    <tr>\n",
       "      <td>59</td>\n",
       "      <td>8</td>\n",
       "      <td>2014-02-03</td>\n",
       "      <td>0</td>\n",
       "      <td>0.0</td>\n",
       "      <td>At the week 6 of the 2014 epidemic season, thr...</td>\n",
       "      <td>[5, 9, 12, 17, 20]</td>\n",
       "    </tr>\n",
       "    <tr>\n",
       "      <td>60</td>\n",
       "      <td>10</td>\n",
       "      <td>2014-02-03</td>\n",
       "      <td>0</td>\n",
       "      <td>0.0</td>\n",
       "      <td>At the week 6 of the 2014 epidemic season, thr...</td>\n",
       "      <td>[17]</td>\n",
       "    </tr>\n",
       "    <tr>\n",
       "      <td>61</td>\n",
       "      <td>12</td>\n",
       "      <td>2014-02-03</td>\n",
       "      <td>7</td>\n",
       "      <td>0.0</td>\n",
       "      <td>At the week 6 of the 2014 epidemic season, thr...</td>\n",
       "      <td>[14, 1, 5, 8, 13, 17]</td>\n",
       "    </tr>\n",
       "    <tr>\n",
       "      <td>62</td>\n",
       "      <td>13</td>\n",
       "      <td>2014-02-03</td>\n",
       "      <td>0</td>\n",
       "      <td>0.0</td>\n",
       "      <td>At the week 6 of the 2014 epidemic season, thr...</td>\n",
       "      <td>[12, 17]</td>\n",
       "    </tr>\n",
       "    <tr>\n",
       "      <td>63</td>\n",
       "      <td>14</td>\n",
       "      <td>2014-02-03</td>\n",
       "      <td>10</td>\n",
       "      <td>1.0</td>\n",
       "      <td>At the week 6 of the 2014 epidemic season, thr...</td>\n",
       "      <td>[0, 15, 1, 12, 22]</td>\n",
       "    </tr>\n",
       "    <tr>\n",
       "      <td>64</td>\n",
       "      <td>15</td>\n",
       "      <td>2014-02-03</td>\n",
       "      <td>0</td>\n",
       "      <td>0.0</td>\n",
       "      <td>At the week 6 of the 2014 epidemic season, thr...</td>\n",
       "      <td>[0, 3, 14, 22]</td>\n",
       "    </tr>\n",
       "    <tr>\n",
       "      <td>65</td>\n",
       "      <td>17</td>\n",
       "      <td>2014-02-03</td>\n",
       "      <td>4</td>\n",
       "      <td>0.0</td>\n",
       "      <td>At the week 6 of the 2014 epidemic season, thr...</td>\n",
       "      <td>[10, 8, 9, 12, 13]</td>\n",
       "    </tr>\n",
       "    <tr>\n",
       "      <td>66</td>\n",
       "      <td>19</td>\n",
       "      <td>2014-02-03</td>\n",
       "      <td>5</td>\n",
       "      <td>0.0</td>\n",
       "      <td>At the week 6 of the 2014 epidemic season, thr...</td>\n",
       "      <td>[6, 18, 4, 22]</td>\n",
       "    </tr>\n",
       "    <tr>\n",
       "      <td>67</td>\n",
       "      <td>23</td>\n",
       "      <td>2014-02-03</td>\n",
       "      <td>16</td>\n",
       "      <td>2.0</td>\n",
       "      <td>At the week 6 of the 2014 epidemic season, thr...</td>\n",
       "      <td>[7, 1, 0, 8]</td>\n",
       "    </tr>\n",
       "  </tbody>\n",
       "</table>\n",
       "</div>"
      ],
      "text/plain": [
       "    Country       Date  Cases  Deaths  \\\n",
       "57        5 2014-02-03      8     1.0   \n",
       "58        7 2014-02-03     10     2.0   \n",
       "59        8 2014-02-03      0     0.0   \n",
       "60       10 2014-02-03      0     0.0   \n",
       "61       12 2014-02-03      7     0.0   \n",
       "62       13 2014-02-03      0     0.0   \n",
       "63       14 2014-02-03     10     1.0   \n",
       "64       15 2014-02-03      0     0.0   \n",
       "65       17 2014-02-03      4     0.0   \n",
       "66       19 2014-02-03      5     0.0   \n",
       "67       23 2014-02-03     16     2.0   \n",
       "\n",
       "                                              Summary    Bordering Countries  \n",
       "57  At the week 6 of the 2014 epidemic season, thr...             [7, 12, 1]  \n",
       "58  At the week 6 of the 2014 epidemic season, thr...          [8, 5, 1, 23]  \n",
       "59  At the week 6 of the 2014 epidemic season, thr...     [5, 9, 12, 17, 20]  \n",
       "60  At the week 6 of the 2014 epidemic season, thr...                   [17]  \n",
       "61  At the week 6 of the 2014 epidemic season, thr...  [14, 1, 5, 8, 13, 17]  \n",
       "62  At the week 6 of the 2014 epidemic season, thr...               [12, 17]  \n",
       "63  At the week 6 of the 2014 epidemic season, thr...     [0, 15, 1, 12, 22]  \n",
       "64  At the week 6 of the 2014 epidemic season, thr...         [0, 3, 14, 22]  \n",
       "65  At the week 6 of the 2014 epidemic season, thr...     [10, 8, 9, 12, 13]  \n",
       "66  At the week 6 of the 2014 epidemic season, thr...         [6, 18, 4, 22]  \n",
       "67  At the week 6 of the 2014 epidemic season, thr...           [7, 1, 0, 8]  "
      ]
     },
     "execution_count": 8,
     "metadata": {},
     "output_type": "execute_result"
    }
   ],
   "source": [
    "find_next_batch(57)"
   ]
  },
  {
   "cell_type": "code",
   "execution_count": 9,
   "metadata": {},
   "outputs": [
    {
     "data": {
      "text/plain": [
       "array([ 0,  1,  5,  7, 12, 13, 15, 17, 22, 23,  3,  8, 19, 14,  4, 18])"
      ]
     },
     "execution_count": 9,
     "metadata": {},
     "output_type": "execute_result"
    }
   ],
   "source": [
    "data.loc[0:54][\"Country\"].unique()"
   ]
  },
  {
   "cell_type": "markdown",
   "metadata": {},
   "source": [
    "### Convert Weekly Data into Montly to Analyze Distributions"
   ]
  },
  {
   "cell_type": "code",
   "execution_count": 9,
   "metadata": {},
   "outputs": [],
   "source": [
    "def update_batch(temp_batch, curr_batch):\n",
    "    for index, row in curr_batch.iterrows():\n",
    "            #check if the country is in the temp monthly batch, if not add it, otherwise update Cases, Deaths, and Summary\n",
    "            if row[\"Country\"] not in temp_batch[\"Country\"].unique():\n",
    "                if len(temp_batch) != 0:\n",
    "                    row[\"Date\"] = temp_batch[\"Date\"].iloc[0]\n",
    "                temp_batch = temp_batch.append(row)\n",
    "            else:\n",
    "                temp_batch.loc[temp_batch.Country == row[\"Country\"], \"Cases\"] += row[\"Cases\"]\n",
    "                temp_batch.loc[temp_batch.Country == row[\"Country\"], \"Deaths\"] += row[\"Deaths\"]\n",
    "                temp_batch.loc[temp_batch.Country == row[\"Country\"], \"Summary\"] += \".\" + row[\"Summary\"]\n",
    "    return temp_batch\n",
    "    \n",
    "#Convert the weekly data into montly data (by summing over the Cases, Deaths, and concatenating the summaries)\n",
    "count = 0\n",
    "new_monthly_data = pd.DataFrame(columns=[\"Country\", \"Date\", \"Cases\", \"Deaths\", \"Summary\", \"Bordering Countries\"])\n",
    "#create a temporary dataframe for current month which will be concatenated to the final dataframe\n",
    "temp_batch = new_monthly_data.copy()\n",
    "curr_month = 1\n",
    "#The upper-bound is determined by the number which when passed to the find_next_batch function will return the final batch\n",
    "while count <= 2806:\n",
    "    curr_batch = find_next_batch(count)\n",
    "    count += len(curr_batch)\n",
    "    #if the new batch is of a different month, add it to the new_monthly_data dataframe and empty the temp_batch for the new month\n",
    "    if curr_batch[\"Date\"].iloc[0].month != curr_month:\n",
    "        curr_month = curr_batch[\"Date\"].iloc[0].month\n",
    "        new_monthly_data = pd.concat([new_monthly_data, temp_batch], ignore_index = True)\n",
    "        temp_batch = pd.DataFrame(columns=[\"Country\", \"Date\", \"Cases\", \"Deaths\", \"Summary\", \"Bordering Countries\"])\n",
    "    temp_batch = update_batch(temp_batch, curr_batch)\n",
    "\n",
    "new_monthly_data.to_csv(\"../Current_Data/Month_data.csv\")\n",
    "\n",
    "    "
   ]
  },
  {
   "cell_type": "markdown",
   "metadata": {},
   "source": [
    "### Plotting Histograms With No. Of Cases for Each Country"
   ]
  },
  {
   "cell_type": "code",
   "execution_count": 26,
   "metadata": {},
   "outputs": [
    {
     "data": {
      "image/png": "[encoded data removed]",
      "text/plain": [
       "<Figure size 432x288 with 1 Axes>"
      ]
     },
     "metadata": {
      "needs_background": "light"
     },
     "output_type": "display_data"
    },
    {
     "name": "stdout",
     "output_type": "stream",
     "text": [
      "Benin\n",
      "Statistics=8.803, p=0.012\n",
      "Sample does not look Gaussian (reject H0)\n"
     ]
    },
    {
     "data": {
      "image/png": "[encoded data removed]",
      "text/plain": [
       "<Figure size 432x288 with 1 Axes>"
      ]
     },
     "metadata": {
      "needs_background": "light"
     },
     "output_type": "display_data"
    },
    {
     "name": "stdout",
     "output_type": "stream",
     "text": [
      "Burkina Faso\n",
      "Statistics=33.110, p=0.000\n",
      "Sample does not look Gaussian (reject H0)\n"
     ]
    },
    {
     "data": {
      "image/png": "[encoded data removed]",
      "text/plain": [
       "<Figure size 432x288 with 1 Axes>"
      ]
     },
     "metadata": {
      "needs_background": "light"
     },
     "output_type": "display_data"
    },
    {
     "name": "stdout",
     "output_type": "stream",
     "text": [
      "Ivory Coast\n",
      "Statistics=88.425, p=0.000\n",
      "Sample does not look Gaussian (reject H0)\n"
     ]
    },
    {
     "data": {
      "image/png": "[encoded data removed]",
      "text/plain": [
       "<Figure size 432x288 with 1 Axes>"
      ]
     },
     "metadata": {
      "needs_background": "light"
     },
     "output_type": "display_data"
    },
    {
     "name": "stdout",
     "output_type": "stream",
     "text": [
      "Ghana\n",
      "Statistics=117.618, p=0.000\n",
      "Sample does not look Gaussian (reject H0)\n"
     ]
    },
    {
     "data": {
      "image/png": "[encoded data removed]",
      "text/plain": [
       "<Figure size 432x288 with 1 Axes>"
      ]
     },
     "metadata": {
      "needs_background": "light"
     },
     "output_type": "display_data"
    },
    {
     "name": "stdout",
     "output_type": "stream",
     "text": [
      "Mali\n",
      "Statistics=1.080, p=0.583\n",
      "Sample looks Gaussian (fail to reject H0)\n"
     ]
    },
    {
     "data": {
      "image/png": "[encoded data removed]",
      "text/plain": [
       "<Figure size 432x288 with 1 Axes>"
      ]
     },
     "metadata": {
      "needs_background": "light"
     },
     "output_type": "display_data"
    },
    {
     "name": "stdout",
     "output_type": "stream",
     "text": [
      "Mauritania\n",
      "Statistics=130.257, p=0.000\n",
      "Sample does not look Gaussian (reject H0)\n"
     ]
    },
    {
     "data": {
      "image/png": "[encoded data removed]",
      "text/plain": [
       "<Figure size 432x288 with 1 Axes>"
      ]
     },
     "metadata": {
      "needs_background": "light"
     },
     "output_type": "display_data"
    },
    {
     "name": "stdout",
     "output_type": "stream",
     "text": [
      "Nigeria\n",
      "Statistics=45.750, p=0.000\n",
      "Sample does not look Gaussian (reject H0)\n"
     ]
    },
    {
     "data": {
      "image/png": "[encoded data removed]",
      "text/plain": [
       "<Figure size 432x288 with 1 Axes>"
      ]
     },
     "metadata": {
      "needs_background": "light"
     },
     "output_type": "display_data"
    },
    {
     "name": "stdout",
     "output_type": "stream",
     "text": [
      "Senegal\n",
      "Statistics=5.775, p=0.056\n",
      "Sample looks Gaussian (fail to reject H0)\n"
     ]
    },
    {
     "data": {
      "image/png": "[encoded data removed]",
      "text/plain": [
       "<Figure size 432x288 with 1 Axes>"
      ]
     },
     "metadata": {
      "needs_background": "light"
     },
     "output_type": "display_data"
    },
    {
     "name": "stdout",
     "output_type": "stream",
     "text": [
      "Chad\n",
      "Statistics=67.856, p=0.000\n",
      "Sample does not look Gaussian (reject H0)\n"
     ]
    },
    {
     "data": {
      "image/png": "[encoded data removed]",
      "text/plain": [
       "<Figure size 432x288 with 1 Axes>"
      ]
     },
     "metadata": {
      "needs_background": "light"
     },
     "output_type": "display_data"
    },
    {
     "name": "stdout",
     "output_type": "stream",
     "text": [
      "Togo\n",
      "Statistics=102.898, p=0.000\n",
      "Sample does not look Gaussian (reject H0)\n"
     ]
    },
    {
     "data": {
      "image/png": "[encoded data removed]",
      "text/plain": [
       "<Figure size 432x288 with 1 Axes>"
      ]
     },
     "metadata": {
      "needs_background": "light"
     },
     "output_type": "display_data"
    },
    {
     "name": "stdout",
     "output_type": "stream",
     "text": [
      "Cameroun\n",
      "Statistics=9.514, p=0.009\n",
      "Sample does not look Gaussian (reject H0)\n"
     ]
    },
    {
     "data": {
      "image/png": "[encoded data removed]",
      "text/plain": [
       "<Figure size 432x288 with 1 Axes>"
      ]
     },
     "metadata": {
      "needs_background": "light"
     },
     "output_type": "display_data"
    },
    {
     "name": "stdout",
     "output_type": "stream",
     "text": [
      "Guinea\n",
      "Statistics=45.050, p=0.000\n",
      "Sample does not look Gaussian (reject H0)\n"
     ]
    },
    {
     "data": {
      "image/png": "[encoded data removed]",
      "text/plain": [
       "<Figure size 432x288 with 1 Axes>"
      ]
     },
     "metadata": {
      "needs_background": "light"
     },
     "output_type": "display_data"
    },
    {
     "name": "stdout",
     "output_type": "stream",
     "text": [
      "Sudan\n",
      "Statistics=13.657, p=0.001\n",
      "Sample does not look Gaussian (reject H0)\n"
     ]
    },
    {
     "data": {
      "image/png": "[encoded data removed]",
      "text/plain": [
       "<Figure size 432x288 with 1 Axes>"
      ]
     },
     "metadata": {
      "needs_background": "light"
     },
     "output_type": "display_data"
    },
    {
     "name": "stdout",
     "output_type": "stream",
     "text": [
      "Niger\n",
      "Statistics=103.552, p=0.000\n",
      "Sample does not look Gaussian (reject H0)\n"
     ]
    },
    {
     "data": {
      "image/png": "[encoded data removed]",
      "text/plain": [
       "<Figure size 432x288 with 1 Axes>"
      ]
     },
     "metadata": {
      "needs_background": "light"
     },
     "output_type": "display_data"
    },
    {
     "name": "stdout",
     "output_type": "stream",
     "text": [
      "Centrafrique\n",
      "Statistics=36.278, p=0.000\n",
      "Sample does not look Gaussian (reject H0)\n"
     ]
    },
    {
     "data": {
      "image/png": "[encoded data removed]",
      "text/plain": [
       "<Figure size 432x288 with 1 Axes>"
      ]
     },
     "metadata": {
      "needs_background": "light"
     },
     "output_type": "display_data"
    },
    {
     "name": "stdout",
     "output_type": "stream",
     "text": [
      "South Sudan\n",
      "Statistics=108.957, p=0.000\n",
      "Sample does not look Gaussian (reject H0)\n"
     ]
    },
    {
     "data": {
      "image/png": "[encoded data removed]",
      "text/plain": [
       "<Figure size 432x288 with 1 Axes>"
      ]
     },
     "metadata": {
      "needs_background": "light"
     },
     "output_type": "display_data"
    },
    {
     "name": "stdout",
     "output_type": "stream",
     "text": [
      "Gambia\n",
      "Statistics=60.517, p=0.000\n",
      "Sample does not look Gaussian (reject H0)\n"
     ]
    },
    {
     "data": {
      "image/png": "[encoded data removed]",
      "text/plain": [
       "<Figure size 432x288 with 1 Axes>"
      ]
     },
     "metadata": {
      "needs_background": "light"
     },
     "output_type": "display_data"
    },
    {
     "name": "stdout",
     "output_type": "stream",
     "text": [
      "Dem. Rep. Congo\n",
      "Statistics=5.683, p=0.058\n",
      "Sample looks Gaussian (fail to reject H0)\n"
     ]
    },
    {
     "data": {
      "image/png": "[encoded data removed]",
      "text/plain": [
       "<Figure size 432x288 with 1 Axes>"
      ]
     },
     "metadata": {
      "needs_background": "light"
     },
     "output_type": "display_data"
    },
    {
     "name": "stdout",
     "output_type": "stream",
     "text": [
      "Ethiopia\n",
      "Statistics=0.431, p=0.806\n",
      "Sample looks Gaussian (fail to reject H0)\n"
     ]
    },
    {
     "data": {
      "image/png": "[encoded data removed]",
      "text/plain": [
       "<Figure size 432x288 with 1 Axes>"
      ]
     },
     "metadata": {
      "needs_background": "light"
     },
     "output_type": "display_data"
    },
    {
     "name": "stdout",
     "output_type": "stream",
     "text": [
      "Tanzania\n",
      "Statistics=16.171, p=0.000\n",
      "Sample does not look Gaussian (reject H0)\n"
     ]
    }
   ],
   "source": [
    "\"\"\"This function will go through any time-series data in a pandas dataframe e.g. weekly, monthly cases etc. and \n",
    "return two dic with \n",
    "data_dict: countries as keys and a list of datapoints (weekly, monthly, yearly etc.) as the values\n",
    "threshold_dict: countries as keys and list representing the 30th and 70th percentiles as values\n",
    "\n",
    "\"\"\"\n",
    "def time_series_to_dict(df, thresholds_needed=False):\n",
    "    data_dict = {}\n",
    "    threshold_dict = {}\n",
    "    for i in range(2014, 2020):\n",
    "        curr_yr = df.loc[df.Date.dt.year == i]\n",
    "        countries_list=list(curr_yr[\"Country\"].unique())\n",
    "        for country in countries_list:\n",
    "            country_curr_yr = curr_yr[curr_yr.Country == country]\n",
    "            first_percentile = country_curr_yr[\"Cases\"].quantile(0.3)\n",
    "            second_percentile =  country_curr_yr[\"Cases\"].quantile(0.7)\n",
    "            threshold_dict[country] = [first_percentile, second_percentile]\n",
    "            if country not in data_dict:\n",
    "                data_dict[country] = country_curr_yr[\"Cases\"].tolist()\n",
    "            else:\n",
    "                data_dict[country]+= country_curr_yr[\"Cases\"].tolist()\n",
    "    if thresholds_needed:\n",
    "        return data_dict, threshold_dict\n",
    "    return data_dict\n",
    "\n",
    "monthly_data_dict = time_series_to_dict(new_monthly_data)\n",
    "\n",
    "\n",
    "#Apply a normal test to see if the data for each country reflects a Gaussian distribution.\n",
    "# A 5% significiance level is used for each country (and the null hypothesis is rejected if p-value <0.05)\n",
    "for key, values in monthly_data_dict.items():\n",
    "    if len(values) > 20:\n",
    "\n",
    "        plt.hist(values)\n",
    "        plt.show()\n",
    "        stat, p = normaltest(values)\n",
    "        print(country_list[key])\n",
    "        print('Statistics=%.3f, p=%.3f' % (stat, p))\n",
    "        # interpret\n",
    "        alpha = 0.05\n",
    "        if p > alpha:\n",
    "            print('Sample looks Gaussian (fail to reject H0)')\n",
    "        else:\n",
    "            print('Sample does not look Gaussian (reject H0)')\n",
    "        \n",
    "        "
   ]
  },
  {
   "cell_type": "markdown",
   "metadata": {},
   "source": [
    "### Determining State Thresholds for Each Country \n",
    "To determine the threshold for each country (i.e. no. of cases for each country that will determine whether the severity is low, medium, or high), we will start by computing independent thresholds for each country. Since each country has different populations, factors affecting the spread of the pandemic (e.g. no. of people vaccinated etc.), the same number of cases in different locations has different implications (e.g. 10 cases for a population of 100 is much more dangerous than 10 for 1,000,000. The thresholds for low, medium, and high will be the values that account fo 30%, 40%, and 30% respectively. In other words, each country will have two thresholds at the 30th and 70th and percentiles (calculated from the time_series_to_dict function above).\n",
    "\n",
    "0 = low  \n",
    "\n",
    "1 = medium \n",
    "\n",
    "2 = high"
   ]
  },
  {
   "cell_type": "code",
   "execution_count": 98,
   "metadata": {},
   "outputs": [
    {
     "name": "stdout",
     "output_type": "stream",
     "text": [
      "{0: [11, 14, 12, 18, 15, 25, 20, 17, 24, 15, 20, 16, 17, 11, 9, 16, 15, 12, 14, 17, 20, 18, 16, 14, 17, 14, 65, 63, 37, 57, 44, 28, 9, 5, 7, 5, 8, 5, 6, 5, 11, 10, 9, 6, 7, 10, 11, 10, 8, 0, 5, 6, 9, 7, 12, 12, 6, 67, 46, 31, 74, 61, 59, 15, 23, 23, 26, 33, 52, 26, 15, 25, 14, 19, 28, 20, 23, 15, 19, 0, 21, 18, 28, 31, 85, 83, 84, 65, 71, 71, 16, 16, 22, 22, 15, 31, 31, 24, 29, 22, 31, 37, 40, 30, 16, 14, 15, 18, 27, 16, 23, 29, 25, 20, 92, 99, 66, 72, 117, 72, 13, 5, 10, 12, 14, 12, 11, 11, 10, 11, 4, 1, 13, 14, 6, 8, 2, 2, 5, 2, 9, 0, 8, 17, 11, 10, 6, 16, 20, 24, 0, 4, 8, 7, 8, 17, 15, 9, 20, 14, 13, 14, 17, 6, 3, 9, 3, 6, 7, 6, 7, 9, 3, 6, 6, 7, 3, 24, 19, 26, 19, 21, 55], 1: [88, 97, 100, 100, 99, 76, 127, 129, 141, 164, 186, 216, 197, 166, 163, 135, 104, 84, 66, 47, 45, 44, 27, 27, 34, 143, 155, 101, 140, 25, 118, 34, 50, 58, 76, 89, 104, 91, 86, 109, 138, 122, 91, 130, 121, 123, 117, 118, 90, 68, 56, 39, 27, 36, 19, 120, 112, 64, 140, 127, 216, 63, 61, 87, 98, 103, 135, 145, 191, 128, 136, 162, 105, 97, 100, 89, 83, 63, 40, 52, 39, 25, 35, 32, 22, 16, 26, 83, 65, 66, 81, 134, 40, 52, 80, 67, 59, 74, 102, 92, 104, 98, 85, 60, 48, 37, 31, 28, 41, 24, 22, 63, 124, 17, 119, 115, 121, 35, 61, 63, 60, 68, 70, 97, 71, 64, 59, 55, 67, 53, 60, 51, 38, 46, 31, 29, 27, 33, 38, 23, 103, 144, 160, 149, 173, 169, 40, 53, 54, 48, 100, 102, 96, 95, 115, 115, 114, 137, 137, 128, 90, 56, 59, 43, 49, 37, 4, 11, 3, 1, 0, 3, 3, 11, 15, 0, 34, 87], 5: [3, 8, 12, 10, 8, 25, 8, 7, 9, 5, 1, 10, 0, 1, 2, 5, 4, 2, 2, 3, 1, 4, 5, 13, 0, 6, 8, 4, 10, 1, 0, 6, 4, 5, 2, 1, 0, 2, 3, 0, 6, 8, 2, 7, 3, 1, 1, 3, 2, 4, 1, 19, 10, 9, 6, 52, 2, 4, 3, 5, 18, 32, 21, 26, 22, 13, 4, 5, 8, 2, 5, 4, 6, 1, 5, 3, 9, 14, 23, 13, 14, 15, 4, 2, 7, 1, 0, 4, 6, 6, 5, 8, 6, 10, 5, 3, 3, 2, 2, 6, 7, 4, 7, 51, 27, 19, 20, 11, 9, 7, 4, 3, 15, 5, 0, 9, 6, 5, 4, 4, 2, 13, 14, 6, 2, 3, 2, 7, 2, 1, 2, 3, 8, 11, 10, 148, 10, 15, 9, 6, 5, 3, 8, 7, 8, 3, 7, 5, 3, 3, 2, 4, 4, 1, 5, 2, 0, 1, 8, 5, 2, 0, 9], 7: [3, 16, 17, 16, 26, 10, 14, 36, 24, 33, 33, 23, 43, 20, 10, 7, 8, 6, 4, 10, 5, 6, 5, 6, 23, 10, 11, 4, 2, 9, 7, 9, 13, 20, 16, 12, 33, 20, 30, 5, 7, 4, 12, 14, 7, 2, 3, 2, 6, 8, 21, 3, 8, 24, 19, 27, 6, 26, 40, 73, 132, 212, 204, 271, 301, 258, 159, 146, 2, 16, 13, 11, 15, 9, 48, 11, 20, 20, 74, 57, 7, 25, 12, 20, 23, 52, 117, 31, 28, 67, 44, 54, 77, 52, 67, 65, 43, 40, 30, 18, 27, 25, 23, 10, 17, 12, 12, 13, 11, 14, 5, 7, 6, 38, 35, 13, 14, 29, 42, 10, 43, 82, 53, 45, 44, 52, 43, 28, 27, 44, 34, 31, 24, 15, 14, 15, 10, 11, 17, 11, 11, 9, 12, 16, 9, 36, 37, 17, 39, 41, 34], 12: [0, 1, 6, 7, 1, 4, 3, 2, 10, 15, 10, 26, 18, 9, 9, 19, 24, 16, 32, 33, 13, 4, 4, 5, 4, 4, 2, 2, 2, 8, 4, 5, 10, 11, 11, 17, 7, 13, 7, 9, 8, 10, 2, 13, 8, 4, 34, 36, 40, 81, 69, 44, 9, 16, 5, 17, 13, 10, 12, 23, 23, 34, 37, 23, 15, 33, 15, 12, 9, 8, 9, 10, 12, 5, 7, 36, 52, 49, 45, 53, 5, 12, 8, 7, 17, 10, 4, 4, 2, 3, 10, 14, 9, 9, 13, 9, 12, 8, 16, 14, 8, 53, 65, 39, 50, 59, 30, 10, 21, 19, 7, 17, 9, 20, 16, 19, 11, 18, 24, 18, 19, 11, 12, 8, 11, 17, 15, 6, 8, 28, 43, 55, 46, 7, 79, 48, 9, 7, 9, 10, 13, 23, 9, 13, 10, 11, 5, 21, 13, 9, 14, 25, 13, 9, 4, 16, 14, 11, 7, 5, 12, 12, 52, 58, 25, 76, 61, 44], 15: [0, 3, 1, 28, 39, 0, 12, 38, 50, 46, 0, 122, 91, 47, 119, 85, 101, 3, 14, 5, 5, 5, 6, 0, 6, 6, 9, 6, 18, 4, 9, 18, 0, 2, 10, 0, 0, 309, 134, 149, 208, 180, 79, 146, 80, 184, 143, 98, 4, 7, 7, 22, 3, 21, 15, 14, 16, 31, 24, 24, 65, 52, 43, 29, 25, 3, 11, 4, 9, 3, 5, 6, 8, 3, 44, 40, 27, 19, 33, 89, 153, 173, 499, 401, 660, 343, 128, 49, 42, 50, 41, 7, 10, 55, 41, 24, 23, 90, 125, 33, 72, 37, 87, 128, 210, 228, 166, 224, 255, 256, 365, 227, 70, 116, 13, 19, 20, 27, 7, 19, 16, 3, 45, 37, 62, 9, 52, 68, 8, 29, 31, 22, 21, 26, 30, 77, 60, 129, 98, 73, 66, 44, 59, 34, 47, 30, 27, 28, 9, 10, 10, 21, 12, 80, 75, 91, 120, 51, 34], 17: [3, 7, 2, 4, 5, 4, 7, 5, 10, 4, 7, 6, 8, 8, 3, 1, 2, 4, 7, 6, 5, 5, 7, 3, 1, 5, 23, 14, 9, 5, 1, 17, 2, 2, 5, 9, 3, 7, 2, 11, 8, 2, 4, 2, 2, 1, 2, 3, 2, 6, 2, 4, 7, 6, 9, 29, 11, 21, 13, 9, 7, 1, 4, 7, 8, 11, 16, 1, 9, 4, 5, 1, 7, 7, 3, 7, 5, 4, 9, 6, 7, 3, 5, 3, 4, 3, 2, 22, 27, 23, 10, 15, 11, 2, 5, 6, 4, 4, 3, 4, 5, 2, 1, 5, 6, 2, 9, 8, 8, 6, 7, 6, 8, 5, 4, 2, 3, 11, 13, 12, 12, 23, 9, 3, 10, 3, 11, 4, 6, 2, 1, 0, 9, 1, 1, 5, 6, 2, 7, 7, 2, 7, 0, 8, 11, 1, 3, 6, 2, 12, 27, 17, 47, 0, 0, 8, 9, 4, 20, 11, 11, 10, 15, 7, 14, 1, 12, 6, 10, 44, 39, 34, 34, 52], 22: [7, 6, 5, 11, 15, 10, 11, 5, 13, 10, 4, 1, 11, 1, 8, 9, 15, 15, 21, 8, 4, 5, 6, 1, 12, 3, 53, 12, 9, 7, 5, 17, 8, 7, 6, 4, 5, 5, 5, 5, 2, 8, 7, 8, 12, 14, 14, 8, 9, 8, 6, 7, 0, 3, 2, 4, 7, 4, 12, 19, 7, 11, 26, 24, 4, 13, 6, 9, 7, 4, 9, 9, 11, 14, 20, 13, 13, 16, 21, 20, 8, 8, 7, 6, 11, 5, 7, 6, 6, 5, 25, 20, 9, 10, 20, 28, 6, 17, 15, 29, 36, 46, 67, 78, 41, 75, 67, 56, 36, 23, 16, 12, 9, 15, 7, 5, 10, 8, 6, 6, 2, 16, 16, 18, 35, 38, 34], 23: [7, 9, 5, 7, 11, 16, 12, 24, 19, 18, 14, 20, 11, 7, 3, 10, 10, 6, 4, 4, 5, 14, 6, 12, 10, 19, 16, 2, 5, 6, 10, 7, 5, 5, 2, 8, 9, 1, 5, 5, 7, 1, 3, 3, 3, 3, 4, 5, 30, 17, 12, 20, 22, 9, 7, 14, 29, 52, 99, 107, 61, 169, 150, 201, 117, 87, 70, 25, 48, 45, 15, 4, 5, 1, 11, 3, 3, 1, 0, 0, 0, 1, 6, 1, 12, 21, 23, 11, 25, 41, 22, 35, 53, 42, 26, 38, 23, 16, 6, 5, 4, 4, 0, 3, 7, 6, 2, 10, 0, 14, 6, 25, 16, 7, 18, 18, 16, 17, 25, 5, 9, 7, 1, 1, 8, 4, 3, 5, 3, 1, 1, 6, 4, 3, 2, 8, 1, 5, 12, 35, 30, 16, 44, 64, 13, 12, 12, 11, 11, 13, 8, 22, 43, 49, 48, 46, 45, 27, 7, 13, 6, 7, 8, 10, 6, 10, 14, 13, 38, 41, 21, 31, 16, 30], 3: [10, 13, 16, 24, 24, 23, 27, 11, 9, 9, 118, 68, 21, 17, 58, 26, 18, 31, 27, 32, 12, 15, 23, 23, 31, 20, 13, 28, 29, 109, 93, 54, 120, 155, 15, 27, 16, 2, 15, 27, 26, 15, 15, 9, 24, 19, 9, 90, 36, 71, 18, 33, 15, 54, 20, 29, 45, 36, 23, 80, 61, 35, 78, 22, 28, 24, 15, 29, 13, 18, 15, 24, 23, 17, 24, 24, 17, 20, 65, 50, 17, 36, 54, 5, 14, 15, 13, 19, 22, 12, 22, 16, 12, 13, 22, 11, 9, 93], 8: [4, 4, 3, 0, 0, 5, 13, 22, 54, 67, 52, 26, 30, 21, 14, 12, 8, 2, 4, 1, 2, 4, 6, 3, 9, 1, 3, 0, 1, 1, 4, 1, 3, 7, 8, 19, 10, 15, 22, 23, 11, 16, 9, 12, 3, 6, 5, 3, 0, 0, 0, 1, 1, 5, 9, 6, 13, 4, 3, 1, 2, 3, 5, 12, 5, 3, 3, 0, 2, 2, 0, 1, 18, 10, 19, 18, 9, 13, 6, 2, 8, 13, 7, 9, 4, 6, 6, 2, 3, 8, 7, 6, 2, 7, 52, 42, 37, 88, 150, 44, 8, 6, 2, 9, 8, 12, 11, 5, 10, 14, 13, 7, 12, 13, 6, 6, 1, 7, 3, 2, 7, 10, 18, 18, 28, 25, 4, 6, 5, 1, 7, 4, 11, 12, 11, 14, 16, 11, 15, 13, 17, 5, 9, 10, 12, 5, 4, 6, 8, 8, 34, 22, 25, 54, 29, 33], 14: [0, 10, 17, 0, 9, 13, 10, 10, 16, 2, 6, 1, 0, 0, 67, 4, 11, 10, 12, 12, 3, 3, 1, 1, 2, 7, 15, 26, 15, 14, 34, 88, 101, 114, 177, 437, 871, 1708, 2177, 1041, 21, 11, 18, 6, 0, 2, 7, 34, 5, 24, 35, 49, 68, 86, 112, 135, 164, 128, 92, 45, 66, 67, 31, 42, 25, 11, 8, 2, 3, 1, 2, 8, 4, 5, 2, 10, 22, 8, 22, 16, 29, 44, 96, 130, 137, 181, 355, 343, 304, 239, 236, 198, 39, 9, 4, 2, 1, 0, 0, 6, 12, 86, 9, 16, 0, 20, 14, 8, 15, 25, 21, 14, 27, 47, 85, 177, 147, 118, 69, 26, 19, 10, 16, 9, 5, 4, 7, 22, 24, 6, 0, 16, 32, 0, 4, 14, 16, 9, 31, 34, 30, 57, 39, 41, 44, 34, 28, 29, 17, 6, 10, 9, 6, 11, 13, 11, 7, 9, 17], 4: [2, 1, 2, 2, 1, 0, 0, 0, 0, 1, 3, 0, 0, 5, 0, 1, 1, 2, 3, 0, 3, 1, 0, 2, 5, 4, 0, 0, 0, 0, 0, 3, 2, 0, 2, 40, 4, 1, 2, 8, 17, 7, 0, 10, 15, 0, 0, 0, 5, 1, 4, 0, 2, 1, 3, 4, 1, 0, 4, 11, 6, 11, 10, 6, 10, 3, 1, 0, 0, 0, 0, 0, 0, 1, 0, 0, 0, 0, 68, 13, 5, 9, 11, 5, 6, 0, 7, 0, 1, 0, 4, 1, 0, 0, 0, 0, 1, 2, 0, 9, 8, 0, 65, 4, 5, 4, 1, 3, 3, 12, 0, 31, 20, 6, 8, 6, 5, 14, 4, 12, 6, 5, 2, 4, 4, 1, 6, 26, 25, 17, 11, 13], 16: [173, 144, 199, 217, 172, 191, 123, 666, 131, 826, 732, 336, 163, 188, 292, 174, 165, 179, 110, 142, 101, 111, 153, 661, 83, 382, 197, 390, 210, 213, 150, 173, 159, 200, 116, 254, 446, 750, 151, 112, 142, 118, 170, 155, 117, 132, 602, 790, 168, 588, 145, 139, 116, 193, 153, 498, 146, 156, 170, 160, 156, 160, 143, 107, 85, 285, 415, 148, 155, 141, 177, 97, 115, 109, 150, 142, 139, 103, 144, 120, 119, 530, 701, 394, 808, 509], 6: [31, 86, 7, 16, 22, 20, 33, 20, 21, 21, 22, 21, 46, 35, 41, 27, 17, 25, 30, 25, 25, 20, 23, 30, 23, 26, 9, 64, 105, 49, 81, 131, 184, 38, 33, 28, 30, 42, 36, 43, 30, 52, 45, 41, 38, 31, 25, 29, 36, 39, 28, 38, 19, 26, 25, 16, 38, 131, 148, 191], 11: [14, 3, 7, 11, 5, 10, 12, 5, 12, 12, 14, 14, 1, 4, 7, 0, 2, 21, 10, 2, 2, 15, 9, 2, 5, 1, 4, 5, 3, 2, 2, 5, 21, 0], 24: [7, 13, 0, 5, 0, 0, 0, 1, 16, 18, 11, 7, 6, 4, 10, 7, 4, 5, 31], 2: [6, 0, 4, 8, 0, 2, 3, 0, 11, 10, 11, 10, 0, 7, 8, 0, 32, 58, 38, 48, 49, 6]}\n"
     ]
    }
   ],
   "source": [
    "#what to do data with thresholds of 0,0? For now drop\n",
    "for country, thresholds in thresholds_weekly_data.items():\n",
    "    #*NOTE updated thresholds which are now ignored to include 0 and 1 or 0 and 2\n",
    "    if (thresholds[0] == 0 and thresholds[1] == 0) or (thresholds[0] == 0 and thresholds[1] <= 2):\n",
    "        indexNames = data[data['Country'] == country ].index\n",
    "        data = data.drop(indexNames, axis=0)\n",
    "        print(country)\n",
    "\n",
    "weekly_data_dict, thresholds_weekly_data = time_series_to_dict(data, True)\n",
    "data[\"State\"] = 0\n",
    "def find_state(country_threshold_list, no_cases):\n",
    "    if no_cases >= float(country_threshold_list[1]):\n",
    "        return 2\n",
    "    elif no_cases >= float(country_threshold_list[0]):\n",
    "        return 1\n",
    "    else:\n",
    "        return 0\n",
    "\n",
    "\n",
    "#find the state for each country by comparing the number of cases to the corresponding thresholds \n",
    "data[\"State\"] = data.apply(lambda x: find_state(thresholds_weekly_data[x[\"Country\"]], x[\"Cases\"]) ,axis=1)\n",
    "data.head()\n",
    "scaler = MinMaxScaler()\n",
    "scaled_data = data.copy()\n",
    "scaled_data[[\"Cases\", \"Deaths\"]] = scaler.fit_transform(scaled_data[[\"Cases\", \"Deaths\"]])\n",
    "scaled_data.head()\n",
    "weekly_data_dict_scaled, thresholds_weekly_data_scaled = time_series_to_dict(scaled_data, True)\n",
    "print(weekly_data_dict)"
   ]
  },
  {
   "cell_type": "code",
   "execution_count": 102,
   "metadata": {},
   "outputs": [],
   "source": [
    "test = []\n",
    "burkina_faso_data = []\n",
    "def return_features_labels(window_size, weekly_dict, thresholds, state=True):\n",
    "    #input data is an array of tuples (features, label) where features is the sequence data of no. of cases and label \n",
    "#is the state\n",
    "    input_data = []\n",
    "    #array of tuples of (features, label) where label is also a tuple of (country, no. of case at t+1, state at t+1)\n",
    "    continuous_data = []\n",
    "    for country, cases in weekly_dict.items():\n",
    "        for i in range(len(cases)-window_size-1):\n",
    "            features = cases[i:i+window_size]\n",
    "            label = find_state(thresholds[country], cases[i+1+window_size])\n",
    "            input_data.append((features, label))\n",
    "            continuous_data.append((features, (country, cases[i+1+window_size], label)))\n",
    "            if country == 1:\n",
    "                burkina_faso_data.append((features, label))\n",
    "    if state == False:\n",
    "        return continuous_data\n",
    "    return input_data\n",
    "a = return_features_labels(4, weekly_data_dict, thresholds_weekly_data)\n",
    "input_data_4 = return_features_labels(4, weekly_data_dict, thresholds_weekly_data)\n",
    "input_data_5 = return_features_labels(5, weekly_data_dict, thresholds_weekly_data)\n",
    "input_data_6 = return_features_labels(6, weekly_data_dict, thresholds_weekly_data)\n",
    "input_data_7 = return_features_labels(7, weekly_data_dict, thresholds_weekly_data)\n",
    "continuous_data = return_features_labels(4, weekly_data_dict, thresholds_weekly_data, state = False)\n",
    "# input_data_4_scaled = return_features_labels(4, weekly_data_dict_scaled, thresholds_weekly_data_scaled)"
   ]
  },
  {
   "cell_type": "code",
   "execution_count": 103,
   "metadata": {},
   "outputs": [
    {
     "name": "stdout",
     "output_type": "stream",
     "text": [
      "Benin  :  183\n",
      "Burkina Faso  :  178\n",
      "Ivory Coast  :  163\n",
      "Ghana  :  151\n",
      "Mali  :  168\n",
      "Nigeria  :  159\n",
      "Senegal  :  174\n",
      "Chad  :  127\n",
      "Togo  :  174\n",
      "Cameroun  :  98\n",
      "Guinea  :  156\n",
      "Niger  :  159\n",
      "Centrafrique  :  132\n",
      "Dem. Rep. Congo  :  86\n",
      "Ethiopia  :  60\n",
      "Kenya  :  34\n",
      "Uganda  :  19\n",
      "Burundi  :  22\n"
     ]
    }
   ],
   "source": [
    "for country, values in weekly_data_dict.items():\n",
    "    print(country_list[country], \" : \", len(values))"
   ]
  },
  {
   "cell_type": "markdown",
   "metadata": {},
   "source": [
    "Above is a list of all of the countries being included in the final input_data that is passed into the LSTM. The number of recorded datapoints for different countries seems to be extremely disproportionate. This means that once source of error when testing is that the data comes from a different distribution to the training data (i.e. we train on data for example only on Burkina Faso and the test data contains data for Uganda).\n",
    "\n",
    "One potential problem:\n",
    "\n",
    "When I collect data, and put into a large array [1, 0, 2] I assume that each datapoint is the recorded number of cases for the week after the first one. In practice, this may not necessarily be the case for all the datapoints (could be months or even years apart) - how do I handle this?"
   ]
  },
  {
   "cell_type": "code",
   "execution_count": null,
   "metadata": {},
   "outputs": [],
   "source": []
  },
  {
   "cell_type": "code",
   "execution_count": null,
   "metadata": {},
   "outputs": [],
   "source": []
  }
 ],
 "metadata": {
  "kernelspec": {
   "display_name": "Python 3",
   "language": "python",
   "name": "python3"
  },
  "language_info": {
   "codemirror_mode": {
    "name": "ipython",
    "version": 3
   },
   "file_extension": ".py",
   "mimetype": "text/x-python",
   "name": "python",
   "nbconvert_exporter": "python",
   "pygments_lexer": "ipython3",
   "version": "3.7.4"
  }
 },
 "nbformat": 4,
 "nbformat_minor": 2
}
